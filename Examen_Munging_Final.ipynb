{
 "cells": [
  {
   "cell_type": "markdown",
   "metadata": {},
   "source": [
    "# Copenhagen Airbnb Data (March 25-April 24, 2019)\n",
    "\n",
    "## - Data Munging, Exploratory Data Analysis and Pre-ML Feature Reduction - "
   ]
  },
  {
   "cell_type": "markdown",
   "metadata": {},
   "source": [
    "### Importing the packages"
   ]
  },
  {
   "cell_type": "code",
   "execution_count": 1,
   "metadata": {},
   "outputs": [],
   "source": [
    "import warnings\n",
    "import pandas as pd \n",
    "import numpy as np\n",
    "import matplotlib.pyplot as plt\n",
    "import seaborn as sns \n",
    "import os \n",
    "from sklearn.preprocessing import LabelEncoder\n",
    "from geopy.distance import great_circle\n",
    "sns.set()\n",
    "%matplotlib inline\n",
    "warnings.filterwarnings(\"ignore\")"
   ]
  },
  {
   "cell_type": "markdown",
   "metadata": {},
   "source": [
    "### Importing the data "
   ]
  },
  {
   "cell_type": "code",
   "execution_count": 2,
   "metadata": {},
   "outputs": [],
   "source": [
    "os.chdir(r\"C:\\Users\\aleen\\Desktop\\Data Science\\Data Mining, Machine Learning, Deep Learning\\Exam Project\\Data\\Detailed\\Listings\")"
   ]
  },
  {
   "cell_type": "code",
   "execution_count": 3,
   "metadata": {},
   "outputs": [
    {
     "name": "stdout",
     "output_type": "stream",
     "text": [
      "344 ns ± 0.429 ns per loop (mean ± std. dev. of 7 runs, 1000000 loops each)\n"
     ]
    }
   ],
   "source": [
    "%timeit os.getcwd()   "
   ]
  },
  {
   "cell_type": "code",
   "execution_count": 4,
   "metadata": {},
   "outputs": [
    {
     "data": {
      "text/plain": [
       "['airbnb_copenhagen_year',\n",
       " 'Examen_Munging_Final.ipynb',\n",
       " 'features_1.txt',\n",
       " 'listings april.csv',\n",
       " 'listings august.csv',\n",
       " 'listings december.csv',\n",
       " 'listings february.csv',\n",
       " 'listings january.csv',\n",
       " 'listings july.csv',\n",
       " 'listings march.csv',\n",
       " 'listings november.csv',\n",
       " 'listings october.csv',\n",
       " 'listings september.csv']"
      ]
     },
     "execution_count": 4,
     "metadata": {},
     "output_type": "execute_result"
    }
   ],
   "source": [
    "listdir = os.listdir() \n",
    "listdir"
   ]
  },
  {
   "cell_type": "code",
   "execution_count": 5,
   "metadata": {},
   "outputs": [],
   "source": [
    "file_list = list()\n",
    "\n",
    "for file in os.listdir():\n",
    "    if file.endswith('.csv'):\n",
    "        df = pd.read_csv(file)\n",
    "        df['filename'] = file\n",
    "        file_list.append(df)\n",
    "\n",
    "all_listings = pd.concat(file_list, axis=0, ignore_index=True)"
   ]
  },
  {
   "cell_type": "code",
   "execution_count": 6,
   "metadata": {},
   "outputs": [],
   "source": [
    "all_listings.calendar_last_scraped = pd.to_datetime(all_listings.calendar_last_scraped)\n",
    "all_listings.month = [i.month for i in all_listings.calendar_last_scraped]\n",
    "dummy_month = pd.get_dummies(all_listings.month)\n",
    "all_listings = pd.concat([all_listings,dummy_month], axis=1)\n",
    "all_listings.rename(columns={1: 'Jan', 2: 'Feb', 3:'Mar',4:'Apr',7:'Jul',8:'Aug',9:'Sep',10:'Oct',11:'Nov',12:'Dec'}, inplace=True)"
   ]
  },
  {
   "cell_type": "code",
   "execution_count": 7,
   "metadata": {},
   "outputs": [],
   "source": [
    "listings_august = pd.read_csv('listings august.csv')\n",
    "listings_december = pd.read_csv('listings december.csv')\n",
    "listings_february = pd.read_csv('listings february.csv')\n",
    "listings_january = pd.read_csv('listings january.csv')\n",
    "listings_july = pd.read_csv('listings july.csv')\n",
    "listings_march = pd.read_csv('listings march.csv')\n",
    "listings_november = pd.read_csv('listings november.csv')\n",
    "listings_october = pd.read_csv('listings october.csv')\n",
    "listings_september = pd.read_csv('listings september.csv')\n",
    "listings_april = pd.read_csv('listings april.csv')"
   ]
  },
  {
   "cell_type": "code",
   "execution_count": 8,
   "metadata": {},
   "outputs": [],
   "source": [
    "directory_name = r\"C:\\Users\\aleen\\Desktop\\Data Science\\Data Mining, Machine Learning, Deep Learning\\Exam Project\\Data\\Detailed\\Listings\"\n",
    "\n",
    "file_list = ['listings august.csv',\n",
    " 'listings december.csv',\n",
    " 'listings february.csv',\n",
    " 'listings january.csv',\n",
    " 'listings july.csv',\n",
    " 'listings march.csv',\n",
    " 'listings november.csv',\n",
    " 'listings october.csv',\n",
    " 'listings september.csv',\n",
    " 'listings april.csv']"
   ]
  },
  {
   "cell_type": "markdown",
   "metadata": {},
   "source": [
    "## Exploratory data analysis "
   ]
  },
  {
   "cell_type": "code",
   "execution_count": 9,
   "metadata": {},
   "outputs": [],
   "source": [
    "df = all_listings"
   ]
  },
  {
   "cell_type": "code",
   "execution_count": 10,
   "metadata": {},
   "outputs": [],
   "source": [
    "from datetime import datetime\n",
    "df.host_since = pd.to_datetime(df.host_since)"
   ]
  },
  {
   "cell_type": "code",
   "execution_count": 11,
   "metadata": {},
   "outputs": [],
   "source": [
    "years = []\n",
    "for i in df.host_since:\n",
    "    #print(i.year)\n",
    "    years.append(i.year)"
   ]
  },
  {
   "cell_type": "code",
   "execution_count": 12,
   "metadata": {},
   "outputs": [],
   "source": [
    "df['host_years'] = years\n",
    "df.host_years = 2019 - df.host_years\n",
    "df['host_age'] = df.host_years"
   ]
  },
  {
   "cell_type": "code",
   "execution_count": 13,
   "metadata": {},
   "outputs": [],
   "source": [
    "df = df.drop(['host_years','host_since'], axis=1)"
   ]
  },
  {
   "cell_type": "code",
   "execution_count": 14,
   "metadata": {},
   "outputs": [
    {
     "data": {
      "text/html": [
       "<div>\n",
       "<style scoped>\n",
       "    .dataframe tbody tr th:only-of-type {\n",
       "        vertical-align: middle;\n",
       "    }\n",
       "\n",
       "    .dataframe tbody tr th {\n",
       "        vertical-align: top;\n",
       "    }\n",
       "\n",
       "    .dataframe thead th {\n",
       "        text-align: right;\n",
       "    }\n",
       "</style>\n",
       "<table border=\"1\" class=\"dataframe\">\n",
       "  <thead>\n",
       "    <tr style=\"text-align: right;\">\n",
       "      <th></th>\n",
       "      <th>accommodates</th>\n",
       "      <th>availability_30</th>\n",
       "      <th>availability_365</th>\n",
       "      <th>availability_60</th>\n",
       "      <th>availability_90</th>\n",
       "      <th>bathrooms</th>\n",
       "      <th>bedrooms</th>\n",
       "      <th>beds</th>\n",
       "      <th>calculated_host_listings_count</th>\n",
       "      <th>calculated_host_listings_count_entire_homes</th>\n",
       "      <th>...</th>\n",
       "      <th>Feb</th>\n",
       "      <th>Mar</th>\n",
       "      <th>Apr</th>\n",
       "      <th>Jul</th>\n",
       "      <th>Aug</th>\n",
       "      <th>Sep</th>\n",
       "      <th>Oct</th>\n",
       "      <th>Nov</th>\n",
       "      <th>Dec</th>\n",
       "      <th>host_age</th>\n",
       "    </tr>\n",
       "  </thead>\n",
       "  <tbody>\n",
       "    <tr>\n",
       "      <th>count</th>\n",
       "      <td>262546.000000</td>\n",
       "      <td>262546.000000</td>\n",
       "      <td>262546.000000</td>\n",
       "      <td>262546.000000</td>\n",
       "      <td>262546.000000</td>\n",
       "      <td>262373.000000</td>\n",
       "      <td>262439.000000</td>\n",
       "      <td>262334.000000</td>\n",
       "      <td>262546.000000</td>\n",
       "      <td>105500.000000</td>\n",
       "      <td>...</td>\n",
       "      <td>262546.000000</td>\n",
       "      <td>262546.000000</td>\n",
       "      <td>262546.000000</td>\n",
       "      <td>262546.000000</td>\n",
       "      <td>262546.000000</td>\n",
       "      <td>262546.000000</td>\n",
       "      <td>262546.000000</td>\n",
       "      <td>262546.000000</td>\n",
       "      <td>262546.000000</td>\n",
       "      <td>262442.000000</td>\n",
       "    </tr>\n",
       "    <tr>\n",
       "      <th>mean</th>\n",
       "      <td>3.315156</td>\n",
       "      <td>3.444075</td>\n",
       "      <td>52.057262</td>\n",
       "      <td>7.831713</td>\n",
       "      <td>13.149075</td>\n",
       "      <td>1.067002</td>\n",
       "      <td>1.549122</td>\n",
       "      <td>2.176199</td>\n",
       "      <td>4.066701</td>\n",
       "      <td>3.615583</td>\n",
       "      <td>...</td>\n",
       "      <td>0.100302</td>\n",
       "      <td>0.100699</td>\n",
       "      <td>0.100786</td>\n",
       "      <td>0.101163</td>\n",
       "      <td>0.099800</td>\n",
       "      <td>0.098771</td>\n",
       "      <td>0.098825</td>\n",
       "      <td>0.099091</td>\n",
       "      <td>0.100516</td>\n",
       "      <td>4.281655</td>\n",
       "    </tr>\n",
       "    <tr>\n",
       "      <th>std</th>\n",
       "      <td>1.614797</td>\n",
       "      <td>7.543190</td>\n",
       "      <td>99.295503</td>\n",
       "      <td>16.054639</td>\n",
       "      <td>25.315612</td>\n",
       "      <td>0.272676</td>\n",
       "      <td>0.872784</td>\n",
       "      <td>1.517011</td>\n",
       "      <td>26.983244</td>\n",
       "      <td>25.451057</td>\n",
       "      <td>...</td>\n",
       "      <td>0.300403</td>\n",
       "      <td>0.300930</td>\n",
       "      <td>0.301046</td>\n",
       "      <td>0.301545</td>\n",
       "      <td>0.299733</td>\n",
       "      <td>0.298355</td>\n",
       "      <td>0.298427</td>\n",
       "      <td>0.298785</td>\n",
       "      <td>0.300687</td>\n",
       "      <td>1.770152</td>\n",
       "    </tr>\n",
       "    <tr>\n",
       "      <th>min</th>\n",
       "      <td>1.000000</td>\n",
       "      <td>0.000000</td>\n",
       "      <td>0.000000</td>\n",
       "      <td>0.000000</td>\n",
       "      <td>0.000000</td>\n",
       "      <td>0.000000</td>\n",
       "      <td>0.000000</td>\n",
       "      <td>0.000000</td>\n",
       "      <td>1.000000</td>\n",
       "      <td>0.000000</td>\n",
       "      <td>...</td>\n",
       "      <td>0.000000</td>\n",
       "      <td>0.000000</td>\n",
       "      <td>0.000000</td>\n",
       "      <td>0.000000</td>\n",
       "      <td>0.000000</td>\n",
       "      <td>0.000000</td>\n",
       "      <td>0.000000</td>\n",
       "      <td>0.000000</td>\n",
       "      <td>0.000000</td>\n",
       "      <td>0.000000</td>\n",
       "    </tr>\n",
       "    <tr>\n",
       "      <th>25%</th>\n",
       "      <td>2.000000</td>\n",
       "      <td>0.000000</td>\n",
       "      <td>0.000000</td>\n",
       "      <td>0.000000</td>\n",
       "      <td>0.000000</td>\n",
       "      <td>1.000000</td>\n",
       "      <td>1.000000</td>\n",
       "      <td>1.000000</td>\n",
       "      <td>1.000000</td>\n",
       "      <td>1.000000</td>\n",
       "      <td>...</td>\n",
       "      <td>0.000000</td>\n",
       "      <td>0.000000</td>\n",
       "      <td>0.000000</td>\n",
       "      <td>0.000000</td>\n",
       "      <td>0.000000</td>\n",
       "      <td>0.000000</td>\n",
       "      <td>0.000000</td>\n",
       "      <td>0.000000</td>\n",
       "      <td>0.000000</td>\n",
       "      <td>3.000000</td>\n",
       "    </tr>\n",
       "    <tr>\n",
       "      <th>50%</th>\n",
       "      <td>3.000000</td>\n",
       "      <td>0.000000</td>\n",
       "      <td>0.000000</td>\n",
       "      <td>0.000000</td>\n",
       "      <td>0.000000</td>\n",
       "      <td>1.000000</td>\n",
       "      <td>1.000000</td>\n",
       "      <td>2.000000</td>\n",
       "      <td>1.000000</td>\n",
       "      <td>1.000000</td>\n",
       "      <td>...</td>\n",
       "      <td>0.000000</td>\n",
       "      <td>0.000000</td>\n",
       "      <td>0.000000</td>\n",
       "      <td>0.000000</td>\n",
       "      <td>0.000000</td>\n",
       "      <td>0.000000</td>\n",
       "      <td>0.000000</td>\n",
       "      <td>0.000000</td>\n",
       "      <td>0.000000</td>\n",
       "      <td>4.000000</td>\n",
       "    </tr>\n",
       "    <tr>\n",
       "      <th>75%</th>\n",
       "      <td>4.000000</td>\n",
       "      <td>2.000000</td>\n",
       "      <td>49.000000</td>\n",
       "      <td>6.000000</td>\n",
       "      <td>11.000000</td>\n",
       "      <td>1.000000</td>\n",
       "      <td>2.000000</td>\n",
       "      <td>3.000000</td>\n",
       "      <td>1.000000</td>\n",
       "      <td>1.000000</td>\n",
       "      <td>...</td>\n",
       "      <td>0.000000</td>\n",
       "      <td>0.000000</td>\n",
       "      <td>0.000000</td>\n",
       "      <td>0.000000</td>\n",
       "      <td>0.000000</td>\n",
       "      <td>0.000000</td>\n",
       "      <td>0.000000</td>\n",
       "      <td>0.000000</td>\n",
       "      <td>0.000000</td>\n",
       "      <td>5.000000</td>\n",
       "    </tr>\n",
       "    <tr>\n",
       "      <th>max</th>\n",
       "      <td>16.000000</td>\n",
       "      <td>30.000000</td>\n",
       "      <td>365.000000</td>\n",
       "      <td>60.000000</td>\n",
       "      <td>90.000000</td>\n",
       "      <td>10.000000</td>\n",
       "      <td>8.000000</td>\n",
       "      <td>18.000000</td>\n",
       "      <td>290.000000</td>\n",
       "      <td>266.000000</td>\n",
       "      <td>...</td>\n",
       "      <td>1.000000</td>\n",
       "      <td>1.000000</td>\n",
       "      <td>1.000000</td>\n",
       "      <td>1.000000</td>\n",
       "      <td>1.000000</td>\n",
       "      <td>1.000000</td>\n",
       "      <td>1.000000</td>\n",
       "      <td>1.000000</td>\n",
       "      <td>1.000000</td>\n",
       "      <td>11.000000</td>\n",
       "    </tr>\n",
       "  </tbody>\n",
       "</table>\n",
       "<p>8 rows × 57 columns</p>\n",
       "</div>"
      ],
      "text/plain": [
       "        accommodates  availability_30  availability_365  availability_60  \\\n",
       "count  262546.000000    262546.000000     262546.000000    262546.000000   \n",
       "mean        3.315156         3.444075         52.057262         7.831713   \n",
       "std         1.614797         7.543190         99.295503        16.054639   \n",
       "min         1.000000         0.000000          0.000000         0.000000   \n",
       "25%         2.000000         0.000000          0.000000         0.000000   \n",
       "50%         3.000000         0.000000          0.000000         0.000000   \n",
       "75%         4.000000         2.000000         49.000000         6.000000   \n",
       "max        16.000000        30.000000        365.000000        60.000000   \n",
       "\n",
       "       availability_90      bathrooms       bedrooms           beds  \\\n",
       "count    262546.000000  262373.000000  262439.000000  262334.000000   \n",
       "mean         13.149075       1.067002       1.549122       2.176199   \n",
       "std          25.315612       0.272676       0.872784       1.517011   \n",
       "min           0.000000       0.000000       0.000000       0.000000   \n",
       "25%           0.000000       1.000000       1.000000       1.000000   \n",
       "50%           0.000000       1.000000       1.000000       2.000000   \n",
       "75%          11.000000       1.000000       2.000000       3.000000   \n",
       "max          90.000000      10.000000       8.000000      18.000000   \n",
       "\n",
       "       calculated_host_listings_count  \\\n",
       "count                   262546.000000   \n",
       "mean                         4.066701   \n",
       "std                         26.983244   \n",
       "min                          1.000000   \n",
       "25%                          1.000000   \n",
       "50%                          1.000000   \n",
       "75%                          1.000000   \n",
       "max                        290.000000   \n",
       "\n",
       "       calculated_host_listings_count_entire_homes  ...            Feb  \\\n",
       "count                                105500.000000  ...  262546.000000   \n",
       "mean                                      3.615583  ...       0.100302   \n",
       "std                                      25.451057  ...       0.300403   \n",
       "min                                       0.000000  ...       0.000000   \n",
       "25%                                       1.000000  ...       0.000000   \n",
       "50%                                       1.000000  ...       0.000000   \n",
       "75%                                       1.000000  ...       0.000000   \n",
       "max                                     266.000000  ...       1.000000   \n",
       "\n",
       "                 Mar            Apr            Jul            Aug  \\\n",
       "count  262546.000000  262546.000000  262546.000000  262546.000000   \n",
       "mean        0.100699       0.100786       0.101163       0.099800   \n",
       "std         0.300930       0.301046       0.301545       0.299733   \n",
       "min         0.000000       0.000000       0.000000       0.000000   \n",
       "25%         0.000000       0.000000       0.000000       0.000000   \n",
       "50%         0.000000       0.000000       0.000000       0.000000   \n",
       "75%         0.000000       0.000000       0.000000       0.000000   \n",
       "max         1.000000       1.000000       1.000000       1.000000   \n",
       "\n",
       "                 Sep            Oct            Nov            Dec  \\\n",
       "count  262546.000000  262546.000000  262546.000000  262546.000000   \n",
       "mean        0.098771       0.098825       0.099091       0.100516   \n",
       "std         0.298355       0.298427       0.298785       0.300687   \n",
       "min         0.000000       0.000000       0.000000       0.000000   \n",
       "25%         0.000000       0.000000       0.000000       0.000000   \n",
       "50%         0.000000       0.000000       0.000000       0.000000   \n",
       "75%         0.000000       0.000000       0.000000       0.000000   \n",
       "max         1.000000       1.000000       1.000000       1.000000   \n",
       "\n",
       "            host_age  \n",
       "count  262442.000000  \n",
       "mean        4.281655  \n",
       "std         1.770152  \n",
       "min         0.000000  \n",
       "25%         3.000000  \n",
       "50%         4.000000  \n",
       "75%         5.000000  \n",
       "max        11.000000  \n",
       "\n",
       "[8 rows x 57 columns]"
      ]
     },
     "execution_count": 14,
     "metadata": {},
     "output_type": "execute_result"
    }
   ],
   "source": [
    "df.describe()"
   ]
  },
  {
   "cell_type": "markdown",
   "metadata": {},
   "source": [
    "### Column names"
   ]
  },
  {
   "cell_type": "code",
   "execution_count": 15,
   "metadata": {},
   "outputs": [
    {
     "data": {
      "text/plain": [
       "access                                           True\n",
       "accommodates                                    False\n",
       "amenities                                       False\n",
       "availability_30                                 False\n",
       "availability_365                                False\n",
       "availability_60                                 False\n",
       "availability_90                                 False\n",
       "bathrooms                                        True\n",
       "bed_type                                        False\n",
       "bedrooms                                         True\n",
       "beds                                             True\n",
       "calculated_host_listings_count                  False\n",
       "calculated_host_listings_count_entire_homes      True\n",
       "calculated_host_listings_count_private_rooms     True\n",
       "calculated_host_listings_count_shared_rooms      True\n",
       "calendar_last_scraped                           False\n",
       "calendar_updated                                False\n",
       "cancellation_policy                             False\n",
       "city                                             True\n",
       "cleaning_fee                                     True\n",
       "country                                         False\n",
       "country_code                                    False\n",
       "description                                      True\n",
       "experiences_offered                             False\n",
       "extra_people                                    False\n",
       "filename                                        False\n",
       "first_review                                     True\n",
       "guests_included                                 False\n",
       "has_availability                                False\n",
       "host_about                                       True\n",
       "                                                ...  \n",
       "review_scores_communication                      True\n",
       "review_scores_location                           True\n",
       "review_scores_rating                             True\n",
       "review_scores_value                              True\n",
       "reviews_per_month                                True\n",
       "room_type                                       False\n",
       "scrape_id                                       False\n",
       "security_deposit                                 True\n",
       "smart_location                                  False\n",
       "space                                            True\n",
       "square_feet                                      True\n",
       "state                                            True\n",
       "street                                          False\n",
       "summary                                          True\n",
       "thumbnail_url                                    True\n",
       "transit                                          True\n",
       "weekly_price                                     True\n",
       "xl_picture_url                                   True\n",
       "zipcode                                          True\n",
       "Jan                                             False\n",
       "Feb                                             False\n",
       "Mar                                             False\n",
       "Apr                                             False\n",
       "Jul                                             False\n",
       "Aug                                             False\n",
       "Sep                                             False\n",
       "Oct                                             False\n",
       "Nov                                             False\n",
       "Dec                                             False\n",
       "host_age                                         True\n",
       "Length: 117, dtype: bool"
      ]
     },
     "execution_count": 15,
     "metadata": {},
     "output_type": "execute_result"
    }
   ],
   "source": [
    "df.isnull().any()"
   ]
  },
  {
   "cell_type": "markdown",
   "metadata": {},
   "source": [
    "## First feature selection"
   ]
  },
  {
   "cell_type": "code",
   "execution_count": 16,
   "metadata": {},
   "outputs": [
    {
     "data": {
      "text/plain": [
       "['id',\n",
       " 'host_id',\n",
       " 'host_location',\n",
       " 'host_response_time',\n",
       " 'host_response_rate',\n",
       " 'host_acceptance_rate',\n",
       " 'host_is_superhost',\n",
       " 'host_neighbourhood',\n",
       " 'host_listings_count',\n",
       " 'host_total_listings_count',\n",
       " 'host_verifications',\n",
       " 'host_has_profile_pic',\n",
       " 'host_identity_verified',\n",
       " 'zipcode',\n",
       " 'latitude',\n",
       " 'longitude',\n",
       " 'property_type',\n",
       " 'room_type',\n",
       " 'accommodates',\n",
       " 'bathrooms',\n",
       " 'bedrooms',\n",
       " 'beds',\n",
       " 'bed_type',\n",
       " 'amenities',\n",
       " 'square_feet',\n",
       " 'price',\n",
       " 'weekly_price',\n",
       " 'monthly_price',\n",
       " 'security_deposit',\n",
       " 'cleaning_fee',\n",
       " 'guests_included',\n",
       " 'extra_people',\n",
       " 'minimum_nights',\n",
       " 'maximum_nights',\n",
       " 'number_of_reviews',\n",
       " 'review_scores_rating',\n",
       " 'review_scores_accuracy',\n",
       " 'review_scores_cleanliness',\n",
       " 'review_scores_checkin',\n",
       " 'review_scores_communication',\n",
       " 'review_scores_location',\n",
       " 'review_scores_value',\n",
       " 'instant_bookable',\n",
       " 'is_business_travel_ready',\n",
       " 'cancellation_policy',\n",
       " 'require_guest_profile_picture',\n",
       " 'require_guest_phone_verification',\n",
       " 'calculated_host_listings_count',\n",
       " 'calculated_host_listings_count_entire_homes',\n",
       " 'calculated_host_listings_count_private_rooms',\n",
       " 'calculated_host_listings_count_shared_rooms',\n",
       " 'reviews_per_month',\n",
       " 'Jan',\n",
       " 'Feb',\n",
       " 'Mar',\n",
       " 'Apr',\n",
       " 'Jul',\n",
       " 'Aug',\n",
       " 'Sep',\n",
       " 'Oct',\n",
       " 'Nov',\n",
       " 'Dec',\n",
       " 'host_age']"
      ]
     },
     "execution_count": 16,
     "metadata": {},
     "output_type": "execute_result"
    }
   ],
   "source": [
    "with open(\"features_1.txt\") as f:\n",
    "    features_1 = f.readlines()\n",
    "features_1 = [x.strip() for x in features_1]\n",
    "features_1"
   ]
  },
  {
   "cell_type": "code",
   "execution_count": 17,
   "metadata": {},
   "outputs": [
    {
     "data": {
      "text/plain": [
       "(262546, 62)"
      ]
     },
     "execution_count": 17,
     "metadata": {},
     "output_type": "execute_result"
    }
   ],
   "source": [
    "df_1 = df[features_1].set_index('id')\n",
    "df_1.shape"
   ]
  },
  {
   "cell_type": "markdown",
   "metadata": {},
   "source": [
    "### Some descriptive statistics"
   ]
  },
  {
   "cell_type": "code",
   "execution_count": 18,
   "metadata": {},
   "outputs": [
    {
     "name": "stdout",
     "output_type": "stream",
     "text": [
      "<class 'pandas.core.frame.DataFrame'>\n",
      "Int64Index: 262546 entries, 6983 to 28633865\n",
      "Data columns (total 62 columns):\n",
      "host_id                                         262546 non-null int64\n",
      "host_location                                   261549 non-null object\n",
      "host_response_time                              120900 non-null object\n",
      "host_response_rate                              120901 non-null object\n",
      "host_acceptance_rate                            0 non-null float64\n",
      "host_is_superhost                               262442 non-null object\n",
      "host_neighbourhood                              193347 non-null object\n",
      "host_listings_count                             262442 non-null float64\n",
      "host_total_listings_count                       262442 non-null float64\n",
      "host_verifications                              262546 non-null object\n",
      "host_has_profile_pic                            262442 non-null object\n",
      "host_identity_verified                          262442 non-null object\n",
      "zipcode                                         255182 non-null object\n",
      "latitude                                        262546 non-null float64\n",
      "longitude                                       262546 non-null float64\n",
      "property_type                                   262546 non-null object\n",
      "room_type                                       262546 non-null object\n",
      "accommodates                                    262546 non-null int64\n",
      "bathrooms                                       262373 non-null float64\n",
      "bedrooms                                        262439 non-null float64\n",
      "beds                                            262334 non-null float64\n",
      "bed_type                                        262546 non-null object\n",
      "amenities                                       262546 non-null object\n",
      "square_feet                                     4368 non-null float64\n",
      "price                                           262546 non-null object\n",
      "weekly_price                                    42475 non-null object\n",
      "monthly_price                                   18941 non-null object\n",
      "security_deposit                                126303 non-null object\n",
      "cleaning_fee                                    176746 non-null object\n",
      "guests_included                                 262546 non-null int64\n",
      "extra_people                                    262546 non-null object\n",
      "minimum_nights                                  262546 non-null int64\n",
      "maximum_nights                                  262546 non-null int64\n",
      "number_of_reviews                               262546 non-null int64\n",
      "review_scores_rating                            214128 non-null float64\n",
      "review_scores_accuracy                          213879 non-null float64\n",
      "review_scores_cleanliness                       213920 non-null float64\n",
      "review_scores_checkin                           213619 non-null float64\n",
      "review_scores_communication                     213836 non-null float64\n",
      "review_scores_location                          213589 non-null float64\n",
      "review_scores_value                             213546 non-null float64\n",
      "instant_bookable                                262546 non-null object\n",
      "is_business_travel_ready                        262546 non-null object\n",
      "cancellation_policy                             262546 non-null object\n",
      "require_guest_profile_picture                   262546 non-null object\n",
      "require_guest_phone_verification                262546 non-null object\n",
      "calculated_host_listings_count                  262546 non-null int64\n",
      "calculated_host_listings_count_entire_homes     105500 non-null float64\n",
      "calculated_host_listings_count_private_rooms    105500 non-null float64\n",
      "calculated_host_listings_count_shared_rooms     105500 non-null float64\n",
      "reviews_per_month                               218549 non-null float64\n",
      "Jan                                             262546 non-null uint8\n",
      "Feb                                             262546 non-null uint8\n",
      "Mar                                             262546 non-null uint8\n",
      "Apr                                             262546 non-null uint8\n",
      "Jul                                             262546 non-null uint8\n",
      "Aug                                             262546 non-null uint8\n",
      "Sep                                             262546 non-null uint8\n",
      "Oct                                             262546 non-null uint8\n",
      "Nov                                             262546 non-null uint8\n",
      "Dec                                             262546 non-null uint8\n",
      "host_age                                        262442 non-null float64\n",
      "dtypes: float64(21), int64(7), object(24), uint8(10)\n",
      "memory usage: 108.7+ MB\n"
     ]
    }
   ],
   "source": [
    "df_1.info()"
   ]
  },
  {
   "cell_type": "code",
   "execution_count": 19,
   "metadata": {},
   "outputs": [
    {
     "data": {
      "text/plain": [
       "host_id                                              0\n",
       "host_location                                      997\n",
       "host_response_time                              141646\n",
       "host_response_rate                              141645\n",
       "host_acceptance_rate                            262546\n",
       "host_is_superhost                                  104\n",
       "host_neighbourhood                               69199\n",
       "host_listings_count                                104\n",
       "host_total_listings_count                          104\n",
       "host_verifications                                   0\n",
       "host_has_profile_pic                               104\n",
       "host_identity_verified                             104\n",
       "zipcode                                           7364\n",
       "latitude                                             0\n",
       "longitude                                            0\n",
       "property_type                                        0\n",
       "room_type                                            0\n",
       "accommodates                                         0\n",
       "bathrooms                                          173\n",
       "bedrooms                                           107\n",
       "beds                                               212\n",
       "bed_type                                             0\n",
       "amenities                                            0\n",
       "square_feet                                     258178\n",
       "price                                                0\n",
       "weekly_price                                    220071\n",
       "monthly_price                                   243605\n",
       "security_deposit                                136243\n",
       "cleaning_fee                                     85800\n",
       "guests_included                                      0\n",
       "                                                 ...  \n",
       "maximum_nights                                       0\n",
       "number_of_reviews                                    0\n",
       "review_scores_rating                             48418\n",
       "review_scores_accuracy                           48667\n",
       "review_scores_cleanliness                        48626\n",
       "review_scores_checkin                            48927\n",
       "review_scores_communication                      48710\n",
       "review_scores_location                           48957\n",
       "review_scores_value                              49000\n",
       "instant_bookable                                     0\n",
       "is_business_travel_ready                             0\n",
       "cancellation_policy                                  0\n",
       "require_guest_profile_picture                        0\n",
       "require_guest_phone_verification                     0\n",
       "calculated_host_listings_count                       0\n",
       "calculated_host_listings_count_entire_homes     157046\n",
       "calculated_host_listings_count_private_rooms    157046\n",
       "calculated_host_listings_count_shared_rooms     157046\n",
       "reviews_per_month                                43997\n",
       "Jan                                                  0\n",
       "Feb                                                  0\n",
       "Mar                                                  0\n",
       "Apr                                                  0\n",
       "Jul                                                  0\n",
       "Aug                                                  0\n",
       "Sep                                                  0\n",
       "Oct                                                  0\n",
       "Nov                                                  0\n",
       "Dec                                                  0\n",
       "host_age                                           104\n",
       "Length: 62, dtype: int64"
      ]
     },
     "execution_count": 19,
     "metadata": {},
     "output_type": "execute_result"
    }
   ],
   "source": [
    "df_1.isna().sum()"
   ]
  },
  {
   "cell_type": "code",
   "execution_count": 20,
   "metadata": {},
   "outputs": [
    {
     "data": {
      "text/html": [
       "<div>\n",
       "<style scoped>\n",
       "    .dataframe tbody tr th:only-of-type {\n",
       "        vertical-align: middle;\n",
       "    }\n",
       "\n",
       "    .dataframe tbody tr th {\n",
       "        vertical-align: top;\n",
       "    }\n",
       "\n",
       "    .dataframe thead th {\n",
       "        text-align: right;\n",
       "    }\n",
       "</style>\n",
       "<table border=\"1\" class=\"dataframe\">\n",
       "  <thead>\n",
       "    <tr style=\"text-align: right;\">\n",
       "      <th></th>\n",
       "      <th>host_id</th>\n",
       "      <th>host_acceptance_rate</th>\n",
       "      <th>host_listings_count</th>\n",
       "      <th>host_total_listings_count</th>\n",
       "      <th>latitude</th>\n",
       "      <th>longitude</th>\n",
       "      <th>accommodates</th>\n",
       "      <th>bathrooms</th>\n",
       "      <th>bedrooms</th>\n",
       "      <th>beds</th>\n",
       "      <th>...</th>\n",
       "      <th>Feb</th>\n",
       "      <th>Mar</th>\n",
       "      <th>Apr</th>\n",
       "      <th>Jul</th>\n",
       "      <th>Aug</th>\n",
       "      <th>Sep</th>\n",
       "      <th>Oct</th>\n",
       "      <th>Nov</th>\n",
       "      <th>Dec</th>\n",
       "      <th>host_age</th>\n",
       "    </tr>\n",
       "  </thead>\n",
       "  <tbody>\n",
       "    <tr>\n",
       "      <th>count</th>\n",
       "      <td>2.625460e+05</td>\n",
       "      <td>0.0</td>\n",
       "      <td>262442.000000</td>\n",
       "      <td>262442.000000</td>\n",
       "      <td>262546.000000</td>\n",
       "      <td>262546.000000</td>\n",
       "      <td>262546.000000</td>\n",
       "      <td>262373.000000</td>\n",
       "      <td>262439.000000</td>\n",
       "      <td>262334.000000</td>\n",
       "      <td>...</td>\n",
       "      <td>262546.000000</td>\n",
       "      <td>262546.000000</td>\n",
       "      <td>262546.000000</td>\n",
       "      <td>262546.000000</td>\n",
       "      <td>262546.000000</td>\n",
       "      <td>262546.000000</td>\n",
       "      <td>262546.000000</td>\n",
       "      <td>262546.000000</td>\n",
       "      <td>262546.000000</td>\n",
       "      <td>262442.000000</td>\n",
       "    </tr>\n",
       "    <tr>\n",
       "      <th>mean</th>\n",
       "      <td>5.147038e+07</td>\n",
       "      <td>NaN</td>\n",
       "      <td>4.342426</td>\n",
       "      <td>4.342426</td>\n",
       "      <td>55.681136</td>\n",
       "      <td>12.557691</td>\n",
       "      <td>3.315156</td>\n",
       "      <td>1.067002</td>\n",
       "      <td>1.549122</td>\n",
       "      <td>2.176199</td>\n",
       "      <td>...</td>\n",
       "      <td>0.100302</td>\n",
       "      <td>0.100699</td>\n",
       "      <td>0.100786</td>\n",
       "      <td>0.101163</td>\n",
       "      <td>0.099800</td>\n",
       "      <td>0.098771</td>\n",
       "      <td>0.098825</td>\n",
       "      <td>0.099091</td>\n",
       "      <td>0.100516</td>\n",
       "      <td>4.281655</td>\n",
       "    </tr>\n",
       "    <tr>\n",
       "      <th>std</th>\n",
       "      <td>5.508387e+07</td>\n",
       "      <td>NaN</td>\n",
       "      <td>27.947592</td>\n",
       "      <td>27.947592</td>\n",
       "      <td>0.018754</td>\n",
       "      <td>0.031130</td>\n",
       "      <td>1.614797</td>\n",
       "      <td>0.272676</td>\n",
       "      <td>0.872784</td>\n",
       "      <td>1.517011</td>\n",
       "      <td>...</td>\n",
       "      <td>0.300403</td>\n",
       "      <td>0.300930</td>\n",
       "      <td>0.301046</td>\n",
       "      <td>0.301545</td>\n",
       "      <td>0.299733</td>\n",
       "      <td>0.298355</td>\n",
       "      <td>0.298427</td>\n",
       "      <td>0.298785</td>\n",
       "      <td>0.300687</td>\n",
       "      <td>1.770152</td>\n",
       "    </tr>\n",
       "    <tr>\n",
       "      <th>min</th>\n",
       "      <td>5.130000e+02</td>\n",
       "      <td>NaN</td>\n",
       "      <td>0.000000</td>\n",
       "      <td>0.000000</td>\n",
       "      <td>55.615720</td>\n",
       "      <td>12.446786</td>\n",
       "      <td>1.000000</td>\n",
       "      <td>0.000000</td>\n",
       "      <td>0.000000</td>\n",
       "      <td>0.000000</td>\n",
       "      <td>...</td>\n",
       "      <td>0.000000</td>\n",
       "      <td>0.000000</td>\n",
       "      <td>0.000000</td>\n",
       "      <td>0.000000</td>\n",
       "      <td>0.000000</td>\n",
       "      <td>0.000000</td>\n",
       "      <td>0.000000</td>\n",
       "      <td>0.000000</td>\n",
       "      <td>0.000000</td>\n",
       "      <td>0.000000</td>\n",
       "    </tr>\n",
       "    <tr>\n",
       "      <th>25%</th>\n",
       "      <td>1.088746e+07</td>\n",
       "      <td>NaN</td>\n",
       "      <td>1.000000</td>\n",
       "      <td>1.000000</td>\n",
       "      <td>55.666783</td>\n",
       "      <td>12.540035</td>\n",
       "      <td>2.000000</td>\n",
       "      <td>1.000000</td>\n",
       "      <td>1.000000</td>\n",
       "      <td>1.000000</td>\n",
       "      <td>...</td>\n",
       "      <td>0.000000</td>\n",
       "      <td>0.000000</td>\n",
       "      <td>0.000000</td>\n",
       "      <td>0.000000</td>\n",
       "      <td>0.000000</td>\n",
       "      <td>0.000000</td>\n",
       "      <td>0.000000</td>\n",
       "      <td>0.000000</td>\n",
       "      <td>0.000000</td>\n",
       "      <td>3.000000</td>\n",
       "    </tr>\n",
       "    <tr>\n",
       "      <th>50%</th>\n",
       "      <td>3.078170e+07</td>\n",
       "      <td>NaN</td>\n",
       "      <td>1.000000</td>\n",
       "      <td>1.000000</td>\n",
       "      <td>55.682570</td>\n",
       "      <td>12.554286</td>\n",
       "      <td>3.000000</td>\n",
       "      <td>1.000000</td>\n",
       "      <td>1.000000</td>\n",
       "      <td>2.000000</td>\n",
       "      <td>...</td>\n",
       "      <td>0.000000</td>\n",
       "      <td>0.000000</td>\n",
       "      <td>0.000000</td>\n",
       "      <td>0.000000</td>\n",
       "      <td>0.000000</td>\n",
       "      <td>0.000000</td>\n",
       "      <td>0.000000</td>\n",
       "      <td>0.000000</td>\n",
       "      <td>0.000000</td>\n",
       "      <td>4.000000</td>\n",
       "    </tr>\n",
       "    <tr>\n",
       "      <th>75%</th>\n",
       "      <td>7.329334e+07</td>\n",
       "      <td>NaN</td>\n",
       "      <td>1.000000</td>\n",
       "      <td>1.000000</td>\n",
       "      <td>55.696070</td>\n",
       "      <td>12.579450</td>\n",
       "      <td>4.000000</td>\n",
       "      <td>1.000000</td>\n",
       "      <td>2.000000</td>\n",
       "      <td>3.000000</td>\n",
       "      <td>...</td>\n",
       "      <td>0.000000</td>\n",
       "      <td>0.000000</td>\n",
       "      <td>0.000000</td>\n",
       "      <td>0.000000</td>\n",
       "      <td>0.000000</td>\n",
       "      <td>0.000000</td>\n",
       "      <td>0.000000</td>\n",
       "      <td>0.000000</td>\n",
       "      <td>0.000000</td>\n",
       "      <td>5.000000</td>\n",
       "    </tr>\n",
       "    <tr>\n",
       "      <th>max</th>\n",
       "      <td>2.576423e+08</td>\n",
       "      <td>NaN</td>\n",
       "      <td>294.000000</td>\n",
       "      <td>294.000000</td>\n",
       "      <td>55.736101</td>\n",
       "      <td>12.642094</td>\n",
       "      <td>16.000000</td>\n",
       "      <td>10.000000</td>\n",
       "      <td>8.000000</td>\n",
       "      <td>18.000000</td>\n",
       "      <td>...</td>\n",
       "      <td>1.000000</td>\n",
       "      <td>1.000000</td>\n",
       "      <td>1.000000</td>\n",
       "      <td>1.000000</td>\n",
       "      <td>1.000000</td>\n",
       "      <td>1.000000</td>\n",
       "      <td>1.000000</td>\n",
       "      <td>1.000000</td>\n",
       "      <td>1.000000</td>\n",
       "      <td>11.000000</td>\n",
       "    </tr>\n",
       "  </tbody>\n",
       "</table>\n",
       "<p>8 rows × 38 columns</p>\n",
       "</div>"
      ],
      "text/plain": [
       "            host_id  host_acceptance_rate  host_listings_count  \\\n",
       "count  2.625460e+05                   0.0        262442.000000   \n",
       "mean   5.147038e+07                   NaN             4.342426   \n",
       "std    5.508387e+07                   NaN            27.947592   \n",
       "min    5.130000e+02                   NaN             0.000000   \n",
       "25%    1.088746e+07                   NaN             1.000000   \n",
       "50%    3.078170e+07                   NaN             1.000000   \n",
       "75%    7.329334e+07                   NaN             1.000000   \n",
       "max    2.576423e+08                   NaN           294.000000   \n",
       "\n",
       "       host_total_listings_count       latitude      longitude   accommodates  \\\n",
       "count              262442.000000  262546.000000  262546.000000  262546.000000   \n",
       "mean                    4.342426      55.681136      12.557691       3.315156   \n",
       "std                    27.947592       0.018754       0.031130       1.614797   \n",
       "min                     0.000000      55.615720      12.446786       1.000000   \n",
       "25%                     1.000000      55.666783      12.540035       2.000000   \n",
       "50%                     1.000000      55.682570      12.554286       3.000000   \n",
       "75%                     1.000000      55.696070      12.579450       4.000000   \n",
       "max                   294.000000      55.736101      12.642094      16.000000   \n",
       "\n",
       "           bathrooms       bedrooms           beds  ...            Feb  \\\n",
       "count  262373.000000  262439.000000  262334.000000  ...  262546.000000   \n",
       "mean        1.067002       1.549122       2.176199  ...       0.100302   \n",
       "std         0.272676       0.872784       1.517011  ...       0.300403   \n",
       "min         0.000000       0.000000       0.000000  ...       0.000000   \n",
       "25%         1.000000       1.000000       1.000000  ...       0.000000   \n",
       "50%         1.000000       1.000000       2.000000  ...       0.000000   \n",
       "75%         1.000000       2.000000       3.000000  ...       0.000000   \n",
       "max        10.000000       8.000000      18.000000  ...       1.000000   \n",
       "\n",
       "                 Mar            Apr            Jul            Aug  \\\n",
       "count  262546.000000  262546.000000  262546.000000  262546.000000   \n",
       "mean        0.100699       0.100786       0.101163       0.099800   \n",
       "std         0.300930       0.301046       0.301545       0.299733   \n",
       "min         0.000000       0.000000       0.000000       0.000000   \n",
       "25%         0.000000       0.000000       0.000000       0.000000   \n",
       "50%         0.000000       0.000000       0.000000       0.000000   \n",
       "75%         0.000000       0.000000       0.000000       0.000000   \n",
       "max         1.000000       1.000000       1.000000       1.000000   \n",
       "\n",
       "                 Sep            Oct            Nov            Dec  \\\n",
       "count  262546.000000  262546.000000  262546.000000  262546.000000   \n",
       "mean        0.098771       0.098825       0.099091       0.100516   \n",
       "std         0.298355       0.298427       0.298785       0.300687   \n",
       "min         0.000000       0.000000       0.000000       0.000000   \n",
       "25%         0.000000       0.000000       0.000000       0.000000   \n",
       "50%         0.000000       0.000000       0.000000       0.000000   \n",
       "75%         0.000000       0.000000       0.000000       0.000000   \n",
       "max         1.000000       1.000000       1.000000       1.000000   \n",
       "\n",
       "            host_age  \n",
       "count  262442.000000  \n",
       "mean        4.281655  \n",
       "std         1.770152  \n",
       "min         0.000000  \n",
       "25%         3.000000  \n",
       "50%         4.000000  \n",
       "75%         5.000000  \n",
       "max        11.000000  \n",
       "\n",
       "[8 rows x 38 columns]"
      ]
     },
     "execution_count": 20,
     "metadata": {},
     "output_type": "execute_result"
    }
   ],
   "source": [
    "df_1.describe()"
   ]
  },
  {
   "cell_type": "markdown",
   "metadata": {},
   "source": [
    "## Data munging"
   ]
  },
  {
   "cell_type": "code",
   "execution_count": 21,
   "metadata": {},
   "outputs": [
    {
     "data": {
      "text/plain": [
       "count    262546.000000\n",
       "mean         62.506799\n",
       "std         116.975960\n",
       "min           0.000000\n",
       "25%           0.000000\n",
       "50%           0.000000\n",
       "75%         100.000000\n",
       "max        2000.000000\n",
       "Name: extra_people, dtype: float64"
      ]
     },
     "execution_count": 21,
     "metadata": {},
     "output_type": "execute_result"
    }
   ],
   "source": [
    "# Filling Nans\n",
    "df_1.extra_people.fillna('0.0', inplace=True)\n",
    "df_1.extra_people.isna().sum()\n",
    "#\n",
    "df_1.extra_people = df_1.extra_people.str.replace('$', '').str.replace(',', '').astype(float)\n",
    "df_1.extra_people.describe()"
   ]
  },
  {
   "cell_type": "code",
   "execution_count": 22,
   "metadata": {},
   "outputs": [
    {
     "data": {
      "text/plain": [
       "count    262546.000000\n",
       "mean        199.697680\n",
       "std         232.141927\n",
       "min           0.000000\n",
       "25%           0.000000\n",
       "50%         150.000000\n",
       "75%         300.000000\n",
       "max        4300.000000\n",
       "Name: cleaning_fee, dtype: float64"
      ]
     },
     "execution_count": 22,
     "metadata": {},
     "output_type": "execute_result"
    }
   ],
   "source": [
    "# Filling Nans\n",
    "df_1.cleaning_fee.fillna('0.0', inplace=True)\n",
    "df_1.cleaning_fee.isna().sum()\n",
    "# clean up the columns (by method chaining)\n",
    "df_1.cleaning_fee = df_1.cleaning_fee.str.replace('$', '').str.replace(',', '').astype(float)\n",
    "df_1.cleaning_fee.describe()"
   ]
  },
  {
   "cell_type": "code",
   "execution_count": 23,
   "metadata": {},
   "outputs": [
    {
     "data": {
      "text/plain": [
       "count    262546.000000\n",
       "mean        658.598855\n",
       "std        2172.409967\n",
       "min           0.000000\n",
       "25%           0.000000\n",
       "50%           0.000000\n",
       "75%         648.000000\n",
       "max       35263.000000\n",
       "Name: security_deposit, dtype: float64"
      ]
     },
     "execution_count": 23,
     "metadata": {},
     "output_type": "execute_result"
    }
   ],
   "source": [
    "df_1.security_deposit.fillna('0.0', inplace=True)\n",
    "df_1.security_deposit.isna().sum()\n",
    "# clean up the columns (by method chaining)\n",
    "df_1.security_deposit = df_1.security_deposit.str.replace('$', '').str.replace(',', '').astype(float)\n",
    "df_1.security_deposit.describe()"
   ]
  },
  {
   "cell_type": "code",
   "execution_count": 24,
   "metadata": {},
   "outputs": [
    {
     "data": {
      "text/plain": [
       "count    262546.000000\n",
       "mean        792.897896\n",
       "std         828.687201\n",
       "min           0.000000\n",
       "25%         498.000000\n",
       "50%         698.000000\n",
       "75%         949.000000\n",
       "max       67182.000000\n",
       "Name: price, dtype: float64"
      ]
     },
     "execution_count": 24,
     "metadata": {},
     "output_type": "execute_result"
    }
   ],
   "source": [
    "# Filling Nans\n",
    "df_1.price.fillna('0.0', inplace=True)\n",
    "df_1.price.isna().sum()\n",
    "#\n",
    "df_1.price = df_1.price.str.replace('$', '').str.replace(',', '').astype(float)\n",
    "df_1['price'].describe()"
   ]
  },
  {
   "cell_type": "code",
   "execution_count": 25,
   "metadata": {},
   "outputs": [],
   "source": [
    "#df_1.host_age = df_1.host_age.astype(float)\n",
    "#df_1.host_age.fillna(0.0, inplace=True)"
   ]
  },
  {
   "cell_type": "code",
   "execution_count": 26,
   "metadata": {},
   "outputs": [
    {
     "name": "stdout",
     "output_type": "stream",
     "text": [
      "<class 'pandas.core.frame.DataFrame'>\n",
      "Int64Index: 262546 entries, 6983 to 28633865\n",
      "Data columns (total 62 columns):\n",
      "host_id                                         262546 non-null int64\n",
      "host_location                                   261549 non-null object\n",
      "host_response_time                              120900 non-null object\n",
      "host_response_rate                              120901 non-null object\n",
      "host_acceptance_rate                            0 non-null float64\n",
      "host_is_superhost                               262442 non-null object\n",
      "host_neighbourhood                              193347 non-null object\n",
      "host_listings_count                             262442 non-null float64\n",
      "host_total_listings_count                       262442 non-null float64\n",
      "host_verifications                              262546 non-null object\n",
      "host_has_profile_pic                            262442 non-null object\n",
      "host_identity_verified                          262442 non-null object\n",
      "zipcode                                         255182 non-null object\n",
      "latitude                                        262546 non-null float64\n",
      "longitude                                       262546 non-null float64\n",
      "property_type                                   262546 non-null object\n",
      "room_type                                       262546 non-null object\n",
      "accommodates                                    262546 non-null int64\n",
      "bathrooms                                       262373 non-null float64\n",
      "bedrooms                                        262439 non-null float64\n",
      "beds                                            262334 non-null float64\n",
      "bed_type                                        262546 non-null object\n",
      "amenities                                       262546 non-null object\n",
      "square_feet                                     4368 non-null float64\n",
      "price                                           262546 non-null float64\n",
      "weekly_price                                    42475 non-null object\n",
      "monthly_price                                   18941 non-null object\n",
      "security_deposit                                262546 non-null float64\n",
      "cleaning_fee                                    262546 non-null float64\n",
      "guests_included                                 262546 non-null int64\n",
      "extra_people                                    262546 non-null float64\n",
      "minimum_nights                                  262546 non-null int64\n",
      "maximum_nights                                  262546 non-null int64\n",
      "number_of_reviews                               262546 non-null int64\n",
      "review_scores_rating                            214128 non-null float64\n",
      "review_scores_accuracy                          213879 non-null float64\n",
      "review_scores_cleanliness                       213920 non-null float64\n",
      "review_scores_checkin                           213619 non-null float64\n",
      "review_scores_communication                     213836 non-null float64\n",
      "review_scores_location                          213589 non-null float64\n",
      "review_scores_value                             213546 non-null float64\n",
      "instant_bookable                                262546 non-null object\n",
      "is_business_travel_ready                        262546 non-null object\n",
      "cancellation_policy                             262546 non-null object\n",
      "require_guest_profile_picture                   262546 non-null object\n",
      "require_guest_phone_verification                262546 non-null object\n",
      "calculated_host_listings_count                  262546 non-null int64\n",
      "calculated_host_listings_count_entire_homes     105500 non-null float64\n",
      "calculated_host_listings_count_private_rooms    105500 non-null float64\n",
      "calculated_host_listings_count_shared_rooms     105500 non-null float64\n",
      "reviews_per_month                               218549 non-null float64\n",
      "Jan                                             262546 non-null uint8\n",
      "Feb                                             262546 non-null uint8\n",
      "Mar                                             262546 non-null uint8\n",
      "Apr                                             262546 non-null uint8\n",
      "Jul                                             262546 non-null uint8\n",
      "Aug                                             262546 non-null uint8\n",
      "Sep                                             262546 non-null uint8\n",
      "Oct                                             262546 non-null uint8\n",
      "Nov                                             262546 non-null uint8\n",
      "Dec                                             262546 non-null uint8\n",
      "host_age                                        262442 non-null float64\n",
      "dtypes: float64(25), int64(7), object(20), uint8(10)\n",
      "memory usage: 108.7+ MB\n"
     ]
    }
   ],
   "source": [
    "df_1.info()"
   ]
  },
  {
   "cell_type": "markdown",
   "metadata": {},
   "source": [
    "### Price"
   ]
  },
  {
   "cell_type": "code",
   "execution_count": 27,
   "metadata": {},
   "outputs": [
    {
     "data": {
      "image/png": "[encoded data removed]",
      "text/plain": [
       "<Figure size 1152x144 with 1 Axes>"
      ]
     },
     "metadata": {
      "needs_background": "light"
     },
     "output_type": "display_data"
    }
   ],
   "source": [
    "red = dict(markerfacecolor='r', markeredgecolor='r', marker='.')\n",
    "df_1['price'].plot(kind='box', xlim=(0, 35000), vert=False, flierprops=red, figsize=(16,2));"
   ]
  },
  {
   "cell_type": "code",
   "execution_count": 28,
   "metadata": {},
   "outputs": [],
   "source": [
    "df_1.drop(df_1[ (df_1.price > 2000) | (df_1.price == 0) ].index, axis=0, inplace=True)"
   ]
  },
  {
   "cell_type": "code",
   "execution_count": 29,
   "metadata": {},
   "outputs": [
    {
     "data": {
      "image/png": "[encoded data removed]",
      "text/plain": [
       "<Figure size 1152x144 with 1 Axes>"
      ]
     },
     "metadata": {
      "needs_background": "light"
     },
     "output_type": "display_data"
    }
   ],
   "source": [
    "df_1['price'].plot(kind='box', xlim=(0, 8000), vert=False, flierprops=red, figsize=(16,2));"
   ]
  },
  {
   "cell_type": "code",
   "execution_count": 30,
   "metadata": {},
   "outputs": [
    {
     "data": {
      "text/plain": [
       "count    255224.000000\n",
       "mean        727.564488\n",
       "std         330.047897\n",
       "min          59.000000\n",
       "25%         497.000000\n",
       "50%         686.000000\n",
       "75%         901.000000\n",
       "max        2000.000000\n",
       "Name: price, dtype: float64"
      ]
     },
     "execution_count": 30,
     "metadata": {},
     "output_type": "execute_result"
    }
   ],
   "source": [
    "df_1['price'].describe()"
   ]
  },
  {
   "cell_type": "code",
   "execution_count": 31,
   "metadata": {},
   "outputs": [
    {
     "data": {
      "text/plain": [
       "<matplotlib.axes._subplots.AxesSubplot at 0x1ff04745940>"
      ]
     },
     "execution_count": 31,
     "metadata": {},
     "output_type": "execute_result"
    },
    {
     "data": {
      "image/png": "[encoded data removed]",
      "text/plain": [
       "<Figure size 432x288 with 1 Axes>"
      ]
     },
     "metadata": {
      "needs_background": "light"
     },
     "output_type": "display_data"
    }
   ],
   "source": [
    "sns.distplot(df_1.price)"
   ]
  },
  {
   "cell_type": "markdown",
   "metadata": {},
   "source": [
    "### Room type"
   ]
  },
  {
   "cell_type": "code",
   "execution_count": 32,
   "metadata": {},
   "outputs": [
    {
     "data": {
      "text/plain": [
       "Entire home/apt    0.833413\n",
       "Private room       0.163507\n",
       "Shared room        0.003080\n",
       "Name: room_type, dtype: float64"
      ]
     },
     "execution_count": 32,
     "metadata": {},
     "output_type": "execute_result"
    }
   ],
   "source": [
    "df_1.room_type.value_counts(normalize=True)"
   ]
  },
  {
   "cell_type": "code",
   "execution_count": 33,
   "metadata": {},
   "outputs": [
    {
     "data": {
      "text/plain": [
       "<matplotlib.axes._subplots.AxesSubplot at 0x1ff000e06d8>"
      ]
     },
     "execution_count": 33,
     "metadata": {},
     "output_type": "execute_result"
    },
    {
     "data": {
      "image/png": "[encoded data removed]",
      "text/plain": [
       "<Figure size 432x288 with 1 Axes>"
      ]
     },
     "metadata": {
      "needs_background": "light"
     },
     "output_type": "display_data"
    }
   ],
   "source": [
    "sns.countplot(x='room_type', data=df)"
   ]
  },
  {
   "cell_type": "markdown",
   "metadata": {},
   "source": [
    "### Property type"
   ]
  },
  {
   "cell_type": "code",
   "execution_count": 34,
   "metadata": {},
   "outputs": [
    {
     "data": {
      "text/plain": [
       "Apartment                 0.841716\n",
       "Condominium               0.061519\n",
       "House                     0.045533\n",
       "Townhouse                 0.016793\n",
       "Serviced apartment        0.010791\n",
       "Loft                      0.010226\n",
       "Villa                     0.004522\n",
       "Bed and breakfast         0.001783\n",
       "Other                     0.000995\n",
       "Bungalow                  0.000846\n",
       "Guesthouse                0.000752\n",
       "Guest suite               0.000744\n",
       "Boat                      0.000697\n",
       "Cabin                     0.000568\n",
       "Hostel                    0.000556\n",
       "Houseboat                 0.000513\n",
       "Tiny house                0.000302\n",
       "Tent                      0.000204\n",
       "Camper/RV                 0.000180\n",
       "Boutique hotel            0.000180\n",
       "Hut                       0.000133\n",
       "Cottage                   0.000114\n",
       "Hotel                     0.000102\n",
       "Casa particular (Cuba)    0.000071\n",
       "Island                    0.000039\n",
       "Earth house               0.000039\n",
       "Chalet                    0.000027\n",
       "Treehouse                 0.000027\n",
       "Farm stay                 0.000008\n",
       "Casa particular           0.000004\n",
       "Dammuso (Italy)           0.000004\n",
       "In-law                    0.000004\n",
       "Pension (South Korea)     0.000004\n",
       "Aparthotel                0.000004\n",
       "Name: property_type, dtype: float64"
      ]
     },
     "execution_count": 34,
     "metadata": {},
     "output_type": "execute_result"
    }
   ],
   "source": [
    "df_1.property_type.value_counts(normalize=True)"
   ]
  },
  {
   "cell_type": "code",
   "execution_count": 35,
   "metadata": {},
   "outputs": [
    {
     "data": {
      "text/plain": [
       "<matplotlib.axes._subplots.AxesSubplot at 0x1ff00085fd0>"
      ]
     },
     "execution_count": 35,
     "metadata": {},
     "output_type": "execute_result"
    },
    {
     "data": {
      "image/png": "[encoded data removed]",
      "text/plain": [
       "<Figure size 432x288 with 1 Axes>"
      ]
     },
     "metadata": {
      "needs_background": "light"
     },
     "output_type": "display_data"
    }
   ],
   "source": [
    "sns.countplot(x='property_type', data=df)"
   ]
  },
  {
   "cell_type": "markdown",
   "metadata": {},
   "source": [
    "### Host response time"
   ]
  },
  {
   "cell_type": "code",
   "execution_count": 36,
   "metadata": {},
   "outputs": [
    {
     "data": {
      "text/plain": [
       "within an hour        0.457274\n",
       "within a day          0.272424\n",
       "within a few hours    0.231121\n",
       "a few days or more    0.039180\n",
       "Name: host_response_time, dtype: float64"
      ]
     },
     "execution_count": 36,
     "metadata": {},
     "output_type": "execute_result"
    }
   ],
   "source": [
    "df_1.host_response_time.value_counts(normalize=True)\n",
    "# Valori si pt naans "
   ]
  },
  {
   "cell_type": "code",
   "execution_count": 37,
   "metadata": {},
   "outputs": [
    {
     "data": {
      "text/plain": [
       "no response           0.544091\n",
       "within an hour        0.208476\n",
       "within a day          0.124201\n",
       "within a few hours    0.105370\n",
       "a few days or more    0.017863\n",
       "Name: host_response_time, dtype: float64"
      ]
     },
     "execution_count": 37,
     "metadata": {},
     "output_type": "execute_result"
    }
   ],
   "source": [
    "df_1.host_response_time.fillna('no response', inplace=True)\n",
    "df_1.host_response_time.value_counts(normalize=True)\n",
    "# Ft multe cu no response. Poate e reduntant "
   ]
  },
  {
   "cell_type": "code",
   "execution_count": 38,
   "metadata": {},
   "outputs": [
    {
     "data": {
      "text/plain": [
       "<matplotlib.axes._subplots.AxesSubplot at 0x1ff0019c860>"
      ]
     },
     "execution_count": 38,
     "metadata": {},
     "output_type": "execute_result"
    },
    {
     "data": {
      "image/png": "[encoded data removed]",
      "text/plain": [
       "<Figure size 432x288 with 1 Axes>"
      ]
     },
     "metadata": {
      "needs_background": "light"
     },
     "output_type": "display_data"
    }
   ],
   "source": [
    "sns.countplot(x='host_response_time', data=df)"
   ]
  },
  {
   "cell_type": "code",
   "execution_count": 39,
   "metadata": {},
   "outputs": [],
   "source": [
    "dummy1 = pd.get_dummies(df_1['host_response_time'])\n",
    "df_1 = pd.concat([df_1,dummy1], axis=1)"
   ]
  },
  {
   "cell_type": "markdown",
   "metadata": {},
   "source": [
    "### Host response rate"
   ]
  },
  {
   "cell_type": "code",
   "execution_count": 40,
   "metadata": {},
   "outputs": [
    {
     "data": {
      "text/plain": [
       "0.00    0.553443\n",
       "1.00    0.355919\n",
       "0.90    0.012969\n",
       "0.80    0.010183\n",
       "0.50    0.009858\n",
       "0.67    0.007507\n",
       "0.75    0.005336\n",
       "0.60    0.004208\n",
       "0.70    0.003805\n",
       "0.83    0.003781\n",
       "0.86    0.003048\n",
       "0.88    0.002704\n",
       "0.89    0.002472\n",
       "0.99    0.002323\n",
       "0.33    0.002202\n",
       "0.98    0.002108\n",
       "0.40    0.001822\n",
       "0.97    0.001650\n",
       "0.71    0.001332\n",
       "0.25    0.001207\n",
       "0.78    0.000995\n",
       "0.92    0.000964\n",
       "0.57    0.000717\n",
       "0.91    0.000639\n",
       "0.63    0.000635\n",
       "0.94    0.000627\n",
       "0.20    0.000596\n",
       "0.96    0.000556\n",
       "0.93    0.000549\n",
       "0.30    0.000533\n",
       "          ...   \n",
       "0.53    0.000071\n",
       "0.08    0.000071\n",
       "0.76    0.000067\n",
       "0.42    0.000063\n",
       "0.58    0.000055\n",
       "0.22    0.000055\n",
       "0.13    0.000051\n",
       "0.54    0.000047\n",
       "0.68    0.000047\n",
       "0.46    0.000047\n",
       "0.36    0.000043\n",
       "0.65    0.000039\n",
       "0.74    0.000039\n",
       "0.59    0.000035\n",
       "0.09    0.000035\n",
       "0.47    0.000027\n",
       "0.28    0.000024\n",
       "0.84    0.000024\n",
       "0.27    0.000024\n",
       "0.11    0.000016\n",
       "0.61    0.000016\n",
       "0.19    0.000012\n",
       "0.31    0.000012\n",
       "0.48    0.000012\n",
       "0.23    0.000008\n",
       "0.07    0.000004\n",
       "0.18    0.000004\n",
       "0.37    0.000004\n",
       "0.06    0.000004\n",
       "0.52    0.000004\n",
       "Name: host_response_rate, Length: 81, dtype: float64"
      ]
     },
     "execution_count": 40,
     "metadata": {},
     "output_type": "execute_result"
    }
   ],
   "source": [
    "# Filling Nans\n",
    "df_1.host_response_rate = df_1.host_response_rate.str.replace('%', '').astype(float)\n",
    "df_1.host_response_rate = df_1.host_response_rate / 100\n",
    "df_1.host_response_rate.fillna(0.0, inplace=True)\n",
    "df_1.host_response_rate.value_counts(normalize=True)\n",
    "# Valori si pt naans "
   ]
  },
  {
   "cell_type": "markdown",
   "metadata": {},
   "source": [
    "### Superhost status"
   ]
  },
  {
   "cell_type": "code",
   "execution_count": 41,
   "metadata": {},
   "outputs": [
    {
     "data": {
      "text/plain": [
       "0.0    0.927624\n",
       "1.0    0.072376\n",
       "Name: host_is_superhost, dtype: float64"
      ]
     },
     "execution_count": 41,
     "metadata": {},
     "output_type": "execute_result"
    }
   ],
   "source": [
    "df_1.host_is_superhost.fillna('f', inplace=True)\n",
    "df_1[\"host_is_superhost\"] = df.host_is_superhost.map({\"f\": 0, \"t\": 1})\n",
    "df_1.host_is_superhost.value_counts(normalize=True)"
   ]
  },
  {
   "cell_type": "code",
   "execution_count": 42,
   "metadata": {},
   "outputs": [
    {
     "data": {
      "text/plain": [
       "<matplotlib.axes._subplots.AxesSubplot at 0x1ff001dcf60>"
      ]
     },
     "execution_count": 42,
     "metadata": {},
     "output_type": "execute_result"
    },
    {
     "data": {
      "image/png": "[encoded data removed]",
      "text/plain": [
       "<Figure size 432x288 with 1 Axes>"
      ]
     },
     "metadata": {
      "needs_background": "light"
     },
     "output_type": "display_data"
    }
   ],
   "source": [
    "sns.countplot(x='host_is_superhost', data=df)"
   ]
  },
  {
   "cell_type": "markdown",
   "metadata": {},
   "source": [
    "### Host listings"
   ]
  },
  {
   "cell_type": "code",
   "execution_count": 43,
   "metadata": {},
   "outputs": [
    {
     "data": {
      "text/plain": [
       "1.0      0.822621\n",
       "2.0      0.118834\n",
       "3.0      0.025702\n",
       "4.0      0.008122\n",
       "5.0      0.002826\n",
       "6.0      0.001979\n",
       "256.0    0.001885\n",
       "0.0      0.001337\n",
       "8.0      0.001180\n",
       "7.0      0.001113\n",
       "294.0    0.001078\n",
       "286.0    0.001066\n",
       "283.0    0.001058\n",
       "289.0    0.001058\n",
       "275.0    0.001007\n",
       "273.0    0.001003\n",
       "258.0    0.000956\n",
       "257.0    0.000956\n",
       "9.0      0.000717\n",
       "44.0     0.000706\n",
       "43.0     0.000549\n",
       "14.0     0.000502\n",
       "10.0     0.000423\n",
       "17.0     0.000376\n",
       "13.0     0.000345\n",
       "12.0     0.000341\n",
       "15.0     0.000329\n",
       "11.0     0.000239\n",
       "26.0     0.000239\n",
       "23.0     0.000220\n",
       "24.0     0.000196\n",
       "82.0     0.000145\n",
       "34.0     0.000106\n",
       "16.0     0.000098\n",
       "18.0     0.000094\n",
       "32.0     0.000086\n",
       "19.0     0.000082\n",
       "25.0     0.000059\n",
       "22.0     0.000055\n",
       "20.0     0.000055\n",
       "60.0     0.000039\n",
       "59.0     0.000039\n",
       "77.0     0.000035\n",
       "86.0     0.000024\n",
       "177.0    0.000016\n",
       "151.0    0.000016\n",
       "126.0    0.000012\n",
       "171.0    0.000008\n",
       "47.0     0.000008\n",
       "180.0    0.000008\n",
       "172.0    0.000008\n",
       "176.0    0.000008\n",
       "169.0    0.000008\n",
       "165.0    0.000008\n",
       "21.0     0.000004\n",
       "40.0     0.000004\n",
       "54.0     0.000004\n",
       "51.0     0.000004\n",
       "49.0     0.000004\n",
       "Name: host_listings_count, dtype: float64"
      ]
     },
     "execution_count": 43,
     "metadata": {},
     "output_type": "execute_result"
    }
   ],
   "source": [
    "df_1.host_is_superhost.fillna(1.0, inplace=True)\n",
    "df_1.host_listings_count.value_counts(normalize=True)\n",
    "# Eliminam host total listings count ca e la fel "
   ]
  },
  {
   "cell_type": "code",
   "execution_count": 44,
   "metadata": {},
   "outputs": [
    {
     "data": {
      "text/plain": [
       "<matplotlib.axes._subplots.AxesSubplot at 0x1ff002362e8>"
      ]
     },
     "execution_count": 44,
     "metadata": {},
     "output_type": "execute_result"
    },
    {
     "data": {
      "image/png": "[encoded data removed]",
      "text/plain": [
       "<Figure size 432x288 with 1 Axes>"
      ]
     },
     "metadata": {
      "needs_background": "light"
     },
     "output_type": "display_data"
    }
   ],
   "source": [
    "sns.distplot(df_1.host_listings_count)"
   ]
  },
  {
   "cell_type": "code",
   "execution_count": 45,
   "metadata": {},
   "outputs": [
    {
     "data": {
      "image/png": "[encoded data removed]",
      "text/plain": [
       "<Figure size 1152x144 with 1 Axes>"
      ]
     },
     "metadata": {
      "needs_background": "light"
     },
     "output_type": "display_data"
    }
   ],
   "source": [
    "df_1['host_listings_count'].plot(kind='box', xlim=(0, 300), vert=False, flierprops=red, figsize=(16,2));"
   ]
  },
  {
   "cell_type": "code",
   "execution_count": 46,
   "metadata": {},
   "outputs": [],
   "source": [
    "df_1.drop(df_1[ (df_1.host_listings_count > 50) | (df_1.host_listings_count == 0) ].index, axis=0, inplace=True)"
   ]
  },
  {
   "cell_type": "markdown",
   "metadata": {},
   "source": [
    "### Host verifications"
   ]
  },
  {
   "cell_type": "code",
   "execution_count": 47,
   "metadata": {},
   "outputs": [
    {
     "name": "stdout",
     "output_type": "stream",
     "text": [
      "['email', 'phone', 'reviews']                                                                                                              0.165381\n",
      "['email', 'phone', 'reviews', 'jumio', 'government_id']                                                                                    0.163984\n",
      "['email', 'phone', 'facebook', 'reviews']                                                                                                  0.084523\n",
      "['email', 'phone']                                                                                                                         0.082029\n",
      "['email', 'phone', 'facebook', 'reviews', 'jumio', 'government_id']                                                                        0.080251\n",
      "['email', 'phone', 'reviews', 'jumio', 'offline_government_id', 'government_id']                                                           0.050491\n",
      "['email', 'phone', 'facebook', 'reviews', 'jumio', 'offline_government_id', 'government_id']                                               0.038708\n",
      "['email', 'phone', 'reviews', 'jumio', 'offline_government_id', 'selfie', 'government_id', 'identity_manual']                              0.037676\n",
      "['email', 'phone', 'facebook']                                                                                                             0.025138\n",
      "['email', 'phone', 'reviews', 'jumio', 'government_id', 'work_email']                                                                      0.023955\n",
      "['email', 'phone', 'facebook', 'reviews', 'jumio', 'offline_government_id', 'selfie', 'government_id', 'identity_manual']                  0.018334\n",
      "['email', 'phone', 'facebook', 'reviews', 'jumio', 'government_id', 'work_email']                                                          0.014987\n",
      "['phone']                                                                                                                                  0.014681\n",
      "['phone', 'reviews']                                                                                                                       0.012553\n",
      "['email', 'phone', 'google', 'reviews', 'jumio', 'government_id']                                                                          0.009151\n",
      "['email', 'phone', 'reviews', 'work_email']                                                                                                0.008861\n",
      "['email', 'phone', 'jumio', 'offline_government_id', 'government_id']                                                                      0.008381\n",
      "['email', 'phone', 'jumio', 'offline_government_id', 'selfie', 'government_id', 'identity_manual']                                         0.007869\n",
      "['email', 'phone', 'reviews', 'jumio', 'offline_government_id', 'government_id', 'work_email']                                             0.007035\n",
      "['email', 'phone', 'reviews', 'manual_offline', 'jumio', 'government_id']                                                                  0.006805\n",
      "['phone', 'facebook', 'reviews']                                                                                                           0.006412\n",
      "['email', 'phone', 'jumio', 'government_id']                                                                                               0.006233\n",
      "['email', 'phone', 'facebook', 'reviews', 'jumio', 'offline_government_id', 'government_id', 'work_email']                                 0.006209\n",
      "['email', 'phone', 'reviews', 'jumio', 'offline_government_id', 'selfie', 'government_id', 'identity_manual', 'work_email']                0.005546\n",
      "['email', 'phone', 'facebook', 'reviews', 'work_email']                                                                                    0.005443\n",
      "['phone', 'facebook']                                                                                                                      0.005407\n",
      "['email', 'phone', 'facebook', 'jumio', 'government_id']                                                                                   0.004585\n",
      "['email', 'phone', 'facebook', 'jumio', 'offline_government_id', 'government_id']                                                          0.004454\n",
      "['email', 'phone', 'facebook', 'reviews', 'jumio', 'offline_government_id', 'selfie', 'government_id', 'identity_manual', 'work_email']    0.003394\n",
      "['email', 'phone', 'facebook', 'google', 'reviews', 'jumio', 'government_id']                                                              0.003295\n",
      "                                                                                                                                             ...   \n",
      "['email', 'reviews', 'jumio']                                                                                                              0.000008\n",
      "['phone', 'manual_online', 'reviews', 'manual_offline', 'jumio', 'offline_government_id', 'selfie', 'government_id', 'identity_manual']    0.000008\n",
      "['email', 'phone', 'facebook', 'manual_offline', 'jumio']                                                                                  0.000008\n",
      "['email', 'phone', 'google', 'reviews', 'offline_government_id', 'kba', 'selfie', 'government_id', 'identity_manual']                      0.000008\n",
      "['email', 'phone', 'google', 'reviews', 'offline_government_id', 'selfie', 'government_id']                                                0.000008\n",
      "['email', 'phone', 'facebook', 'reviews', 'manual_offline', 'kba']                                                                         0.000004\n",
      "['phone', 'reviews', 'jumio', 'selfie', 'government_id', 'identity_manual']                                                                0.000004\n",
      "['email', 'phone', 'facebook', 'reviews', 'offline_government_id', 'selfie', 'government_id', 'work_email']                                0.000004\n",
      "['email', 'phone', 'manual_online', 'manual_offline', 'jumio']                                                                             0.000004\n",
      "['email', 'phone', 'reviews', 'selfie', 'work_email']                                                                                      0.000004\n",
      "['email', 'phone', 'facebook', 'google', 'offline_government_id', 'government_id']                                                         0.000004\n",
      "['phone', 'google', 'reviews', 'jumio', 'government_id']                                                                                   0.000004\n",
      "['email', 'facebook', 'reviews', 'jumio', 'offline_government_id', 'selfie', 'government_id', 'identity_manual']                           0.000004\n",
      "['email', 'reviews', 'jumio', 'selfie', 'government_id', 'identity_manual', 'work_email']                                                  0.000004\n",
      "['phone', 'reviews', 'jumio', 'work_email']                                                                                                0.000004\n",
      "['email', 'phone', 'manual_online', 'jumio']                                                                                               0.000004\n",
      "['email', 'jumio', 'offline_government_id', 'government_id']                                                                               0.000004\n",
      "['email', 'phone', 'facebook', 'reviews', 'jumio', 'kba', 'government_id']                                                                 0.000004\n",
      "['work_email']                                                                                                                             0.000004\n",
      "['email', 'phone', 'manual_online', 'facebook', 'reviews', 'manual_offline', 'jumio', 'offline_government_id', 'government_id']            0.000004\n",
      "['phone', 'jumio']                                                                                                                         0.000004\n",
      "['phone', 'facebook', 'reviews', 'jumio', 'work_email']                                                                                    0.000004\n",
      "['email', 'phone', 'facebook', 'reviews', 'selfie', 'work_email']                                                                          0.000004\n",
      "['email', 'phone', 'jumio', 'offline_government_id', 'government_id', 'identity_manual']                                                   0.000004\n",
      "['reviews', 'jumio', 'government_id', 'work_email']                                                                                        0.000004\n",
      "['phone', 'google', 'reviews', 'jumio', 'offline_government_id', 'selfie', 'government_id']                                                0.000004\n",
      "['phone', 'reviews', 'weibo', 'work_email']                                                                                                0.000004\n",
      "['reviews', 'jumio']                                                                                                                       0.000004\n",
      "['email', 'phone', 'selfie', 'work_email']                                                                                                 0.000004\n",
      "['phone', 'reviews', 'offline_government_id', 'selfie', 'government_id']                                                                   0.000004\n",
      "Name: host_verifications, Length: 343, dtype: float64\n"
     ]
    },
    {
     "data": {
      "text/html": [
       "<div>\n",
       "<style scoped>\n",
       "    .dataframe tbody tr th:only-of-type {\n",
       "        vertical-align: middle;\n",
       "    }\n",
       "\n",
       "    .dataframe tbody tr th {\n",
       "        vertical-align: top;\n",
       "    }\n",
       "\n",
       "    .dataframe thead th {\n",
       "        text-align: right;\n",
       "    }\n",
       "</style>\n",
       "<table border=\"1\" class=\"dataframe\">\n",
       "  <thead>\n",
       "    <tr style=\"text-align: right;\">\n",
       "      <th></th>\n",
       "      <th>host_id</th>\n",
       "      <th>host_location</th>\n",
       "      <th>host_response_time</th>\n",
       "      <th>host_response_rate</th>\n",
       "      <th>host_acceptance_rate</th>\n",
       "      <th>host_is_superhost</th>\n",
       "      <th>host_neighbourhood</th>\n",
       "      <th>host_listings_count</th>\n",
       "      <th>host_total_listings_count</th>\n",
       "      <th>host_has_profile_pic</th>\n",
       "      <th>...</th>\n",
       "      <th>Sep</th>\n",
       "      <th>Oct</th>\n",
       "      <th>Nov</th>\n",
       "      <th>Dec</th>\n",
       "      <th>host_age</th>\n",
       "      <th>a few days or more</th>\n",
       "      <th>no response</th>\n",
       "      <th>within a day</th>\n",
       "      <th>within a few hours</th>\n",
       "      <th>within an hour</th>\n",
       "    </tr>\n",
       "    <tr>\n",
       "      <th>id</th>\n",
       "      <th></th>\n",
       "      <th></th>\n",
       "      <th></th>\n",
       "      <th></th>\n",
       "      <th></th>\n",
       "      <th></th>\n",
       "      <th></th>\n",
       "      <th></th>\n",
       "      <th></th>\n",
       "      <th></th>\n",
       "      <th></th>\n",
       "      <th></th>\n",
       "      <th></th>\n",
       "      <th></th>\n",
       "      <th></th>\n",
       "      <th></th>\n",
       "      <th></th>\n",
       "      <th></th>\n",
       "      <th></th>\n",
       "      <th></th>\n",
       "      <th></th>\n",
       "    </tr>\n",
       "  </thead>\n",
       "  <tbody>\n",
       "    <tr>\n",
       "      <th>6983</th>\n",
       "      <td>16774</td>\n",
       "      <td>Copenhagen, Capital Region of Denmark, Denmark</td>\n",
       "      <td>no response</td>\n",
       "      <td>0.00</td>\n",
       "      <td>NaN</td>\n",
       "      <td>0.0</td>\n",
       "      <td>Nørrebro</td>\n",
       "      <td>1.0</td>\n",
       "      <td>1.0</td>\n",
       "      <td>t</td>\n",
       "      <td>...</td>\n",
       "      <td>0</td>\n",
       "      <td>0</td>\n",
       "      <td>0</td>\n",
       "      <td>0</td>\n",
       "      <td>10.0</td>\n",
       "      <td>0</td>\n",
       "      <td>1</td>\n",
       "      <td>0</td>\n",
       "      <td>0</td>\n",
       "      <td>0</td>\n",
       "    </tr>\n",
       "    <tr>\n",
       "      <th>29118</th>\n",
       "      <td>125230</td>\n",
       "      <td>Copenhagen, Capital Region of Denmark, Denmark</td>\n",
       "      <td>within a day</td>\n",
       "      <td>1.00</td>\n",
       "      <td>NaN</td>\n",
       "      <td>0.0</td>\n",
       "      <td>Vesterbro</td>\n",
       "      <td>1.0</td>\n",
       "      <td>1.0</td>\n",
       "      <td>t</td>\n",
       "      <td>...</td>\n",
       "      <td>0</td>\n",
       "      <td>0</td>\n",
       "      <td>0</td>\n",
       "      <td>0</td>\n",
       "      <td>9.0</td>\n",
       "      <td>0</td>\n",
       "      <td>0</td>\n",
       "      <td>1</td>\n",
       "      <td>0</td>\n",
       "      <td>0</td>\n",
       "    </tr>\n",
       "    <tr>\n",
       "      <th>29618</th>\n",
       "      <td>127577</td>\n",
       "      <td>Copenhagen, Capital Region of Denmark, Denmark</td>\n",
       "      <td>no response</td>\n",
       "      <td>0.00</td>\n",
       "      <td>NaN</td>\n",
       "      <td>0.0</td>\n",
       "      <td>Østerbro</td>\n",
       "      <td>1.0</td>\n",
       "      <td>1.0</td>\n",
       "      <td>t</td>\n",
       "      <td>...</td>\n",
       "      <td>0</td>\n",
       "      <td>0</td>\n",
       "      <td>0</td>\n",
       "      <td>0</td>\n",
       "      <td>9.0</td>\n",
       "      <td>0</td>\n",
       "      <td>1</td>\n",
       "      <td>0</td>\n",
       "      <td>0</td>\n",
       "      <td>0</td>\n",
       "    </tr>\n",
       "    <tr>\n",
       "      <th>31094</th>\n",
       "      <td>129976</td>\n",
       "      <td>Copenhagen, Capital Region of Denmark, Denmark</td>\n",
       "      <td>no response</td>\n",
       "      <td>0.00</td>\n",
       "      <td>NaN</td>\n",
       "      <td>0.0</td>\n",
       "      <td>Vesterbro</td>\n",
       "      <td>1.0</td>\n",
       "      <td>1.0</td>\n",
       "      <td>t</td>\n",
       "      <td>...</td>\n",
       "      <td>0</td>\n",
       "      <td>0</td>\n",
       "      <td>0</td>\n",
       "      <td>0</td>\n",
       "      <td>9.0</td>\n",
       "      <td>0</td>\n",
       "      <td>1</td>\n",
       "      <td>0</td>\n",
       "      <td>0</td>\n",
       "      <td>0</td>\n",
       "    </tr>\n",
       "    <tr>\n",
       "      <th>32379</th>\n",
       "      <td>140105</td>\n",
       "      <td>Copenhagen, Capital Region of Denmark, Denmark</td>\n",
       "      <td>within an hour</td>\n",
       "      <td>1.00</td>\n",
       "      <td>NaN</td>\n",
       "      <td>0.0</td>\n",
       "      <td>Vesterbro</td>\n",
       "      <td>4.0</td>\n",
       "      <td>4.0</td>\n",
       "      <td>t</td>\n",
       "      <td>...</td>\n",
       "      <td>0</td>\n",
       "      <td>0</td>\n",
       "      <td>0</td>\n",
       "      <td>0</td>\n",
       "      <td>9.0</td>\n",
       "      <td>0</td>\n",
       "      <td>0</td>\n",
       "      <td>0</td>\n",
       "      <td>0</td>\n",
       "      <td>1</td>\n",
       "    </tr>\n",
       "    <tr>\n",
       "      <th>32841</th>\n",
       "      <td>142143</td>\n",
       "      <td>Copenhagen, Capital Region of Denmark, Denmark</td>\n",
       "      <td>no response</td>\n",
       "      <td>0.00</td>\n",
       "      <td>NaN</td>\n",
       "      <td>0.0</td>\n",
       "      <td>Østerbro</td>\n",
       "      <td>1.0</td>\n",
       "      <td>1.0</td>\n",
       "      <td>t</td>\n",
       "      <td>...</td>\n",
       "      <td>0</td>\n",
       "      <td>0</td>\n",
       "      <td>0</td>\n",
       "      <td>0</td>\n",
       "      <td>9.0</td>\n",
       "      <td>0</td>\n",
       "      <td>1</td>\n",
       "      <td>0</td>\n",
       "      <td>0</td>\n",
       "      <td>0</td>\n",
       "    </tr>\n",
       "    <tr>\n",
       "      <th>37159</th>\n",
       "      <td>160390</td>\n",
       "      <td>Copenhagen, Capital Region of Denmark, Denmark</td>\n",
       "      <td>no response</td>\n",
       "      <td>0.00</td>\n",
       "      <td>NaN</td>\n",
       "      <td>0.0</td>\n",
       "      <td>Indre By</td>\n",
       "      <td>1.0</td>\n",
       "      <td>1.0</td>\n",
       "      <td>t</td>\n",
       "      <td>...</td>\n",
       "      <td>0</td>\n",
       "      <td>0</td>\n",
       "      <td>0</td>\n",
       "      <td>0</td>\n",
       "      <td>9.0</td>\n",
       "      <td>0</td>\n",
       "      <td>1</td>\n",
       "      <td>0</td>\n",
       "      <td>0</td>\n",
       "      <td>0</td>\n",
       "    </tr>\n",
       "    <tr>\n",
       "      <th>38524</th>\n",
       "      <td>165326</td>\n",
       "      <td>London</td>\n",
       "      <td>within a day</td>\n",
       "      <td>0.80</td>\n",
       "      <td>NaN</td>\n",
       "      <td>0.0</td>\n",
       "      <td>Frederiksberg</td>\n",
       "      <td>2.0</td>\n",
       "      <td>2.0</td>\n",
       "      <td>t</td>\n",
       "      <td>...</td>\n",
       "      <td>0</td>\n",
       "      <td>0</td>\n",
       "      <td>0</td>\n",
       "      <td>0</td>\n",
       "      <td>9.0</td>\n",
       "      <td>0</td>\n",
       "      <td>0</td>\n",
       "      <td>1</td>\n",
       "      <td>0</td>\n",
       "      <td>0</td>\n",
       "    </tr>\n",
       "    <tr>\n",
       "      <th>41105</th>\n",
       "      <td>178320</td>\n",
       "      <td>Christianshavn, Capital Region of Denmark, Den...</td>\n",
       "      <td>no response</td>\n",
       "      <td>0.00</td>\n",
       "      <td>NaN</td>\n",
       "      <td>0.0</td>\n",
       "      <td>Christianshavn</td>\n",
       "      <td>1.0</td>\n",
       "      <td>1.0</td>\n",
       "      <td>t</td>\n",
       "      <td>...</td>\n",
       "      <td>0</td>\n",
       "      <td>0</td>\n",
       "      <td>0</td>\n",
       "      <td>0</td>\n",
       "      <td>9.0</td>\n",
       "      <td>0</td>\n",
       "      <td>1</td>\n",
       "      <td>0</td>\n",
       "      <td>0</td>\n",
       "      <td>0</td>\n",
       "    </tr>\n",
       "    <tr>\n",
       "      <th>45794</th>\n",
       "      <td>203844</td>\n",
       "      <td>Copenhagen, Capital Region of Denmark, Denmark</td>\n",
       "      <td>no response</td>\n",
       "      <td>0.00</td>\n",
       "      <td>NaN</td>\n",
       "      <td>0.0</td>\n",
       "      <td>Frederiksberg</td>\n",
       "      <td>1.0</td>\n",
       "      <td>1.0</td>\n",
       "      <td>t</td>\n",
       "      <td>...</td>\n",
       "      <td>0</td>\n",
       "      <td>0</td>\n",
       "      <td>0</td>\n",
       "      <td>0</td>\n",
       "      <td>9.0</td>\n",
       "      <td>0</td>\n",
       "      <td>1</td>\n",
       "      <td>0</td>\n",
       "      <td>0</td>\n",
       "      <td>0</td>\n",
       "    </tr>\n",
       "    <tr>\n",
       "      <th>49122</th>\n",
       "      <td>217651</td>\n",
       "      <td>Copenhagen, Capital Region of Denmark, Denmark</td>\n",
       "      <td>within a day</td>\n",
       "      <td>0.82</td>\n",
       "      <td>NaN</td>\n",
       "      <td>1.0</td>\n",
       "      <td>Indre By</td>\n",
       "      <td>1.0</td>\n",
       "      <td>1.0</td>\n",
       "      <td>t</td>\n",
       "      <td>...</td>\n",
       "      <td>0</td>\n",
       "      <td>0</td>\n",
       "      <td>0</td>\n",
       "      <td>0</td>\n",
       "      <td>9.0</td>\n",
       "      <td>0</td>\n",
       "      <td>0</td>\n",
       "      <td>1</td>\n",
       "      <td>0</td>\n",
       "      <td>0</td>\n",
       "    </tr>\n",
       "    <tr>\n",
       "      <th>53776</th>\n",
       "      <td>246676</td>\n",
       "      <td>Copenhagen, Capital Region of Denmark, Denmark</td>\n",
       "      <td>no response</td>\n",
       "      <td>0.00</td>\n",
       "      <td>NaN</td>\n",
       "      <td>0.0</td>\n",
       "      <td>Vesterbro</td>\n",
       "      <td>1.0</td>\n",
       "      <td>1.0</td>\n",
       "      <td>t</td>\n",
       "      <td>...</td>\n",
       "      <td>0</td>\n",
       "      <td>0</td>\n",
       "      <td>0</td>\n",
       "      <td>0</td>\n",
       "      <td>9.0</td>\n",
       "      <td>0</td>\n",
       "      <td>1</td>\n",
       "      <td>0</td>\n",
       "      <td>0</td>\n",
       "      <td>0</td>\n",
       "    </tr>\n",
       "    <tr>\n",
       "      <th>55465</th>\n",
       "      <td>261977</td>\n",
       "      <td>Copenhagen, Capital Region of Denmark, Denmark</td>\n",
       "      <td>within a day</td>\n",
       "      <td>1.00</td>\n",
       "      <td>NaN</td>\n",
       "      <td>0.0</td>\n",
       "      <td>Nørrebro</td>\n",
       "      <td>2.0</td>\n",
       "      <td>2.0</td>\n",
       "      <td>t</td>\n",
       "      <td>...</td>\n",
       "      <td>0</td>\n",
       "      <td>0</td>\n",
       "      <td>0</td>\n",
       "      <td>0</td>\n",
       "      <td>9.0</td>\n",
       "      <td>0</td>\n",
       "      <td>0</td>\n",
       "      <td>1</td>\n",
       "      <td>0</td>\n",
       "      <td>0</td>\n",
       "    </tr>\n",
       "    <tr>\n",
       "      <th>60048</th>\n",
       "      <td>288615</td>\n",
       "      <td>Copenhagen, Capital Region of Denmark, Denmark</td>\n",
       "      <td>within a few hours</td>\n",
       "      <td>1.00</td>\n",
       "      <td>NaN</td>\n",
       "      <td>0.0</td>\n",
       "      <td>Vesterbro</td>\n",
       "      <td>1.0</td>\n",
       "      <td>1.0</td>\n",
       "      <td>t</td>\n",
       "      <td>...</td>\n",
       "      <td>0</td>\n",
       "      <td>0</td>\n",
       "      <td>0</td>\n",
       "      <td>0</td>\n",
       "      <td>9.0</td>\n",
       "      <td>0</td>\n",
       "      <td>0</td>\n",
       "      <td>0</td>\n",
       "      <td>1</td>\n",
       "      <td>0</td>\n",
       "    </tr>\n",
       "    <tr>\n",
       "      <th>61546</th>\n",
       "      <td>298023</td>\n",
       "      <td>Copenhagen, Capital Region of Denmark, Denmark</td>\n",
       "      <td>within a day</td>\n",
       "      <td>1.00</td>\n",
       "      <td>NaN</td>\n",
       "      <td>1.0</td>\n",
       "      <td>Nørrebro</td>\n",
       "      <td>1.0</td>\n",
       "      <td>1.0</td>\n",
       "      <td>t</td>\n",
       "      <td>...</td>\n",
       "      <td>0</td>\n",
       "      <td>0</td>\n",
       "      <td>0</td>\n",
       "      <td>0</td>\n",
       "      <td>9.0</td>\n",
       "      <td>0</td>\n",
       "      <td>0</td>\n",
       "      <td>1</td>\n",
       "      <td>0</td>\n",
       "      <td>0</td>\n",
       "    </tr>\n",
       "    <tr>\n",
       "      <th>65902</th>\n",
       "      <td>322300</td>\n",
       "      <td>Copenhagen, Capital Region of Denmark, Denmark</td>\n",
       "      <td>within an hour</td>\n",
       "      <td>1.00</td>\n",
       "      <td>NaN</td>\n",
       "      <td>0.0</td>\n",
       "      <td>Nørrebro</td>\n",
       "      <td>1.0</td>\n",
       "      <td>1.0</td>\n",
       "      <td>t</td>\n",
       "      <td>...</td>\n",
       "      <td>0</td>\n",
       "      <td>0</td>\n",
       "      <td>0</td>\n",
       "      <td>0</td>\n",
       "      <td>9.0</td>\n",
       "      <td>0</td>\n",
       "      <td>0</td>\n",
       "      <td>0</td>\n",
       "      <td>0</td>\n",
       "      <td>1</td>\n",
       "    </tr>\n",
       "    <tr>\n",
       "      <th>69210</th>\n",
       "      <td>135565</td>\n",
       "      <td>Copenhagen, Capital Region of Denmark, Denmark</td>\n",
       "      <td>within a few hours</td>\n",
       "      <td>0.90</td>\n",
       "      <td>NaN</td>\n",
       "      <td>0.0</td>\n",
       "      <td>Nørrebro</td>\n",
       "      <td>1.0</td>\n",
       "      <td>1.0</td>\n",
       "      <td>t</td>\n",
       "      <td>...</td>\n",
       "      <td>0</td>\n",
       "      <td>0</td>\n",
       "      <td>0</td>\n",
       "      <td>0</td>\n",
       "      <td>9.0</td>\n",
       "      <td>0</td>\n",
       "      <td>0</td>\n",
       "      <td>0</td>\n",
       "      <td>1</td>\n",
       "      <td>0</td>\n",
       "    </tr>\n",
       "    <tr>\n",
       "      <th>70768</th>\n",
       "      <td>183394</td>\n",
       "      <td>Copenhagen, Capital Region of Denmark, Denmark</td>\n",
       "      <td>a few days or more</td>\n",
       "      <td>0.00</td>\n",
       "      <td>NaN</td>\n",
       "      <td>0.0</td>\n",
       "      <td>Vesterbro</td>\n",
       "      <td>1.0</td>\n",
       "      <td>1.0</td>\n",
       "      <td>t</td>\n",
       "      <td>...</td>\n",
       "      <td>0</td>\n",
       "      <td>0</td>\n",
       "      <td>0</td>\n",
       "      <td>0</td>\n",
       "      <td>9.0</td>\n",
       "      <td>1</td>\n",
       "      <td>0</td>\n",
       "      <td>0</td>\n",
       "      <td>0</td>\n",
       "      <td>0</td>\n",
       "    </tr>\n",
       "    <tr>\n",
       "      <th>75158</th>\n",
       "      <td>299149</td>\n",
       "      <td>Copenhagen, Capital Region of Denmark, Denmark</td>\n",
       "      <td>no response</td>\n",
       "      <td>0.00</td>\n",
       "      <td>NaN</td>\n",
       "      <td>0.0</td>\n",
       "      <td>Vesterbro</td>\n",
       "      <td>1.0</td>\n",
       "      <td>1.0</td>\n",
       "      <td>t</td>\n",
       "      <td>...</td>\n",
       "      <td>0</td>\n",
       "      <td>0</td>\n",
       "      <td>0</td>\n",
       "      <td>0</td>\n",
       "      <td>9.0</td>\n",
       "      <td>0</td>\n",
       "      <td>1</td>\n",
       "      <td>0</td>\n",
       "      <td>0</td>\n",
       "      <td>0</td>\n",
       "    </tr>\n",
       "    <tr>\n",
       "      <th>78381</th>\n",
       "      <td>420914</td>\n",
       "      <td>Copenhagen, Capital Region of Denmark, Denmark</td>\n",
       "      <td>within an hour</td>\n",
       "      <td>1.00</td>\n",
       "      <td>NaN</td>\n",
       "      <td>0.0</td>\n",
       "      <td>Indre By</td>\n",
       "      <td>1.0</td>\n",
       "      <td>1.0</td>\n",
       "      <td>t</td>\n",
       "      <td>...</td>\n",
       "      <td>0</td>\n",
       "      <td>0</td>\n",
       "      <td>0</td>\n",
       "      <td>0</td>\n",
       "      <td>8.0</td>\n",
       "      <td>0</td>\n",
       "      <td>0</td>\n",
       "      <td>0</td>\n",
       "      <td>0</td>\n",
       "      <td>1</td>\n",
       "    </tr>\n",
       "    <tr>\n",
       "      <th>96080</th>\n",
       "      <td>510632</td>\n",
       "      <td>Copenhagen, Capital Region of Denmark, Denmark</td>\n",
       "      <td>within an hour</td>\n",
       "      <td>1.00</td>\n",
       "      <td>NaN</td>\n",
       "      <td>0.0</td>\n",
       "      <td>Østerbro</td>\n",
       "      <td>1.0</td>\n",
       "      <td>1.0</td>\n",
       "      <td>t</td>\n",
       "      <td>...</td>\n",
       "      <td>0</td>\n",
       "      <td>0</td>\n",
       "      <td>0</td>\n",
       "      <td>0</td>\n",
       "      <td>8.0</td>\n",
       "      <td>0</td>\n",
       "      <td>0</td>\n",
       "      <td>0</td>\n",
       "      <td>0</td>\n",
       "      <td>1</td>\n",
       "    </tr>\n",
       "    <tr>\n",
       "      <th>104280</th>\n",
       "      <td>542873</td>\n",
       "      <td>Copenhagen, Capital Region of Denmark, Denmark</td>\n",
       "      <td>no response</td>\n",
       "      <td>0.00</td>\n",
       "      <td>NaN</td>\n",
       "      <td>0.0</td>\n",
       "      <td>Nørrebro</td>\n",
       "      <td>3.0</td>\n",
       "      <td>3.0</td>\n",
       "      <td>t</td>\n",
       "      <td>...</td>\n",
       "      <td>0</td>\n",
       "      <td>0</td>\n",
       "      <td>0</td>\n",
       "      <td>0</td>\n",
       "      <td>8.0</td>\n",
       "      <td>0</td>\n",
       "      <td>1</td>\n",
       "      <td>0</td>\n",
       "      <td>0</td>\n",
       "      <td>0</td>\n",
       "    </tr>\n",
       "    <tr>\n",
       "      <th>104281</th>\n",
       "      <td>542873</td>\n",
       "      <td>Copenhagen, Capital Region of Denmark, Denmark</td>\n",
       "      <td>no response</td>\n",
       "      <td>0.00</td>\n",
       "      <td>NaN</td>\n",
       "      <td>0.0</td>\n",
       "      <td>Nørrebro</td>\n",
       "      <td>3.0</td>\n",
       "      <td>3.0</td>\n",
       "      <td>t</td>\n",
       "      <td>...</td>\n",
       "      <td>0</td>\n",
       "      <td>0</td>\n",
       "      <td>0</td>\n",
       "      <td>0</td>\n",
       "      <td>8.0</td>\n",
       "      <td>0</td>\n",
       "      <td>1</td>\n",
       "      <td>0</td>\n",
       "      <td>0</td>\n",
       "      <td>0</td>\n",
       "    </tr>\n",
       "    <tr>\n",
       "      <th>112292</th>\n",
       "      <td>573172</td>\n",
       "      <td>Frederiksberg, Capital Region of Denmark, Denmark</td>\n",
       "      <td>within a few hours</td>\n",
       "      <td>1.00</td>\n",
       "      <td>NaN</td>\n",
       "      <td>0.0</td>\n",
       "      <td>Frederiksberg</td>\n",
       "      <td>1.0</td>\n",
       "      <td>1.0</td>\n",
       "      <td>t</td>\n",
       "      <td>...</td>\n",
       "      <td>0</td>\n",
       "      <td>0</td>\n",
       "      <td>0</td>\n",
       "      <td>0</td>\n",
       "      <td>8.0</td>\n",
       "      <td>0</td>\n",
       "      <td>0</td>\n",
       "      <td>0</td>\n",
       "      <td>1</td>\n",
       "      <td>0</td>\n",
       "    </tr>\n",
       "    <tr>\n",
       "      <th>117702</th>\n",
       "      <td>594426</td>\n",
       "      <td>Copenhagen, Capital Region of Denmark, Denmark</td>\n",
       "      <td>within a few hours</td>\n",
       "      <td>0.86</td>\n",
       "      <td>NaN</td>\n",
       "      <td>0.0</td>\n",
       "      <td>Nørrebro</td>\n",
       "      <td>1.0</td>\n",
       "      <td>1.0</td>\n",
       "      <td>t</td>\n",
       "      <td>...</td>\n",
       "      <td>0</td>\n",
       "      <td>0</td>\n",
       "      <td>0</td>\n",
       "      <td>0</td>\n",
       "      <td>8.0</td>\n",
       "      <td>0</td>\n",
       "      <td>0</td>\n",
       "      <td>0</td>\n",
       "      <td>1</td>\n",
       "      <td>0</td>\n",
       "    </tr>\n",
       "    <tr>\n",
       "      <th>118649</th>\n",
       "      <td>599145</td>\n",
       "      <td>Copenhagen, Capital Region of Denmark, Denmark</td>\n",
       "      <td>within an hour</td>\n",
       "      <td>1.00</td>\n",
       "      <td>NaN</td>\n",
       "      <td>1.0</td>\n",
       "      <td>Indre By</td>\n",
       "      <td>1.0</td>\n",
       "      <td>1.0</td>\n",
       "      <td>t</td>\n",
       "      <td>...</td>\n",
       "      <td>0</td>\n",
       "      <td>0</td>\n",
       "      <td>0</td>\n",
       "      <td>0</td>\n",
       "      <td>8.0</td>\n",
       "      <td>0</td>\n",
       "      <td>0</td>\n",
       "      <td>0</td>\n",
       "      <td>0</td>\n",
       "      <td>1</td>\n",
       "    </tr>\n",
       "    <tr>\n",
       "      <th>118971</th>\n",
       "      <td>600859</td>\n",
       "      <td>Copenhagen, Capital Region of Denmark, Denmark</td>\n",
       "      <td>within a day</td>\n",
       "      <td>1.00</td>\n",
       "      <td>NaN</td>\n",
       "      <td>0.0</td>\n",
       "      <td>Nørrebro</td>\n",
       "      <td>1.0</td>\n",
       "      <td>1.0</td>\n",
       "      <td>t</td>\n",
       "      <td>...</td>\n",
       "      <td>0</td>\n",
       "      <td>0</td>\n",
       "      <td>0</td>\n",
       "      <td>0</td>\n",
       "      <td>8.0</td>\n",
       "      <td>0</td>\n",
       "      <td>0</td>\n",
       "      <td>1</td>\n",
       "      <td>0</td>\n",
       "      <td>0</td>\n",
       "    </tr>\n",
       "    <tr>\n",
       "      <th>119322</th>\n",
       "      <td>602647</td>\n",
       "      <td>Copenhagen, Capital Region of Denmark, Denmark</td>\n",
       "      <td>within a day</td>\n",
       "      <td>0.63</td>\n",
       "      <td>NaN</td>\n",
       "      <td>0.0</td>\n",
       "      <td>Indre By</td>\n",
       "      <td>1.0</td>\n",
       "      <td>1.0</td>\n",
       "      <td>t</td>\n",
       "      <td>...</td>\n",
       "      <td>0</td>\n",
       "      <td>0</td>\n",
       "      <td>0</td>\n",
       "      <td>0</td>\n",
       "      <td>8.0</td>\n",
       "      <td>0</td>\n",
       "      <td>0</td>\n",
       "      <td>1</td>\n",
       "      <td>0</td>\n",
       "      <td>0</td>\n",
       "    </tr>\n",
       "    <tr>\n",
       "      <th>130130</th>\n",
       "      <td>641191</td>\n",
       "      <td>Copenhagen, Capital Region of Denmark, Denmark</td>\n",
       "      <td>within a day</td>\n",
       "      <td>0.80</td>\n",
       "      <td>NaN</td>\n",
       "      <td>0.0</td>\n",
       "      <td>Vesterbro</td>\n",
       "      <td>1.0</td>\n",
       "      <td>1.0</td>\n",
       "      <td>t</td>\n",
       "      <td>...</td>\n",
       "      <td>0</td>\n",
       "      <td>0</td>\n",
       "      <td>0</td>\n",
       "      <td>0</td>\n",
       "      <td>8.0</td>\n",
       "      <td>0</td>\n",
       "      <td>0</td>\n",
       "      <td>1</td>\n",
       "      <td>0</td>\n",
       "      <td>0</td>\n",
       "    </tr>\n",
       "    <tr>\n",
       "      <th>131263</th>\n",
       "      <td>646050</td>\n",
       "      <td>Copenhagen, Capital Region of Denmark, Denmark</td>\n",
       "      <td>no response</td>\n",
       "      <td>0.00</td>\n",
       "      <td>NaN</td>\n",
       "      <td>0.0</td>\n",
       "      <td>Nørrebro</td>\n",
       "      <td>1.0</td>\n",
       "      <td>1.0</td>\n",
       "      <td>t</td>\n",
       "      <td>...</td>\n",
       "      <td>0</td>\n",
       "      <td>0</td>\n",
       "      <td>0</td>\n",
       "      <td>0</td>\n",
       "      <td>8.0</td>\n",
       "      <td>0</td>\n",
       "      <td>1</td>\n",
       "      <td>0</td>\n",
       "      <td>0</td>\n",
       "      <td>0</td>\n",
       "    </tr>\n",
       "    <tr>\n",
       "      <th>...</th>\n",
       "      <td>...</td>\n",
       "      <td>...</td>\n",
       "      <td>...</td>\n",
       "      <td>...</td>\n",
       "      <td>...</td>\n",
       "      <td>...</td>\n",
       "      <td>...</td>\n",
       "      <td>...</td>\n",
       "      <td>...</td>\n",
       "      <td>...</td>\n",
       "      <td>...</td>\n",
       "      <td>...</td>\n",
       "      <td>...</td>\n",
       "      <td>...</td>\n",
       "      <td>...</td>\n",
       "      <td>...</td>\n",
       "      <td>...</td>\n",
       "      <td>...</td>\n",
       "      <td>...</td>\n",
       "      <td>...</td>\n",
       "      <td>...</td>\n",
       "    </tr>\n",
       "    <tr>\n",
       "      <th>28580260</th>\n",
       "      <td>155721400</td>\n",
       "      <td>Frederiksberg, Denmark</td>\n",
       "      <td>no response</td>\n",
       "      <td>0.00</td>\n",
       "      <td>NaN</td>\n",
       "      <td>1.0</td>\n",
       "      <td>Indre By</td>\n",
       "      <td>1.0</td>\n",
       "      <td>1.0</td>\n",
       "      <td>t</td>\n",
       "      <td>...</td>\n",
       "      <td>1</td>\n",
       "      <td>0</td>\n",
       "      <td>0</td>\n",
       "      <td>0</td>\n",
       "      <td>2.0</td>\n",
       "      <td>0</td>\n",
       "      <td>1</td>\n",
       "      <td>0</td>\n",
       "      <td>0</td>\n",
       "      <td>0</td>\n",
       "    </tr>\n",
       "    <tr>\n",
       "      <th>28581772</th>\n",
       "      <td>215715008</td>\n",
       "      <td>DK</td>\n",
       "      <td>no response</td>\n",
       "      <td>0.00</td>\n",
       "      <td>NaN</td>\n",
       "      <td>1.0</td>\n",
       "      <td>NaN</td>\n",
       "      <td>1.0</td>\n",
       "      <td>1.0</td>\n",
       "      <td>t</td>\n",
       "      <td>...</td>\n",
       "      <td>1</td>\n",
       "      <td>0</td>\n",
       "      <td>0</td>\n",
       "      <td>0</td>\n",
       "      <td>1.0</td>\n",
       "      <td>0</td>\n",
       "      <td>1</td>\n",
       "      <td>0</td>\n",
       "      <td>0</td>\n",
       "      <td>0</td>\n",
       "    </tr>\n",
       "    <tr>\n",
       "      <th>28582848</th>\n",
       "      <td>8282698</td>\n",
       "      <td>Amagerbro, Capital Region of Denmark, Denmark</td>\n",
       "      <td>within a few hours</td>\n",
       "      <td>1.00</td>\n",
       "      <td>NaN</td>\n",
       "      <td>1.0</td>\n",
       "      <td>Amagerbro</td>\n",
       "      <td>4.0</td>\n",
       "      <td>4.0</td>\n",
       "      <td>t</td>\n",
       "      <td>...</td>\n",
       "      <td>1</td>\n",
       "      <td>0</td>\n",
       "      <td>0</td>\n",
       "      <td>0</td>\n",
       "      <td>6.0</td>\n",
       "      <td>0</td>\n",
       "      <td>0</td>\n",
       "      <td>0</td>\n",
       "      <td>1</td>\n",
       "      <td>0</td>\n",
       "    </tr>\n",
       "    <tr>\n",
       "      <th>28583518</th>\n",
       "      <td>215729330</td>\n",
       "      <td>DK</td>\n",
       "      <td>no response</td>\n",
       "      <td>0.00</td>\n",
       "      <td>NaN</td>\n",
       "      <td>1.0</td>\n",
       "      <td>Amager Vest</td>\n",
       "      <td>1.0</td>\n",
       "      <td>1.0</td>\n",
       "      <td>t</td>\n",
       "      <td>...</td>\n",
       "      <td>1</td>\n",
       "      <td>0</td>\n",
       "      <td>0</td>\n",
       "      <td>0</td>\n",
       "      <td>1.0</td>\n",
       "      <td>0</td>\n",
       "      <td>1</td>\n",
       "      <td>0</td>\n",
       "      <td>0</td>\n",
       "      <td>0</td>\n",
       "    </tr>\n",
       "    <tr>\n",
       "      <th>28593100</th>\n",
       "      <td>215800682</td>\n",
       "      <td>DK</td>\n",
       "      <td>no response</td>\n",
       "      <td>0.00</td>\n",
       "      <td>NaN</td>\n",
       "      <td>1.0</td>\n",
       "      <td>Vesterbro</td>\n",
       "      <td>1.0</td>\n",
       "      <td>1.0</td>\n",
       "      <td>t</td>\n",
       "      <td>...</td>\n",
       "      <td>1</td>\n",
       "      <td>0</td>\n",
       "      <td>0</td>\n",
       "      <td>0</td>\n",
       "      <td>1.0</td>\n",
       "      <td>0</td>\n",
       "      <td>1</td>\n",
       "      <td>0</td>\n",
       "      <td>0</td>\n",
       "      <td>0</td>\n",
       "    </tr>\n",
       "    <tr>\n",
       "      <th>28593366</th>\n",
       "      <td>102199606</td>\n",
       "      <td>Copenhagen, Denmark</td>\n",
       "      <td>no response</td>\n",
       "      <td>0.00</td>\n",
       "      <td>NaN</td>\n",
       "      <td>1.0</td>\n",
       "      <td>Vesterbro</td>\n",
       "      <td>1.0</td>\n",
       "      <td>1.0</td>\n",
       "      <td>t</td>\n",
       "      <td>...</td>\n",
       "      <td>1</td>\n",
       "      <td>0</td>\n",
       "      <td>0</td>\n",
       "      <td>0</td>\n",
       "      <td>3.0</td>\n",
       "      <td>0</td>\n",
       "      <td>1</td>\n",
       "      <td>0</td>\n",
       "      <td>0</td>\n",
       "      <td>0</td>\n",
       "    </tr>\n",
       "    <tr>\n",
       "      <th>28594943</th>\n",
       "      <td>215812152</td>\n",
       "      <td>DK</td>\n",
       "      <td>no response</td>\n",
       "      <td>0.00</td>\n",
       "      <td>NaN</td>\n",
       "      <td>1.0</td>\n",
       "      <td>Indre By</td>\n",
       "      <td>1.0</td>\n",
       "      <td>1.0</td>\n",
       "      <td>t</td>\n",
       "      <td>...</td>\n",
       "      <td>1</td>\n",
       "      <td>0</td>\n",
       "      <td>0</td>\n",
       "      <td>0</td>\n",
       "      <td>1.0</td>\n",
       "      <td>0</td>\n",
       "      <td>1</td>\n",
       "      <td>0</td>\n",
       "      <td>0</td>\n",
       "      <td>0</td>\n",
       "    </tr>\n",
       "    <tr>\n",
       "      <th>28597438</th>\n",
       "      <td>98932881</td>\n",
       "      <td>Copenhagen, Capital Region of Denmark, Denmark</td>\n",
       "      <td>within an hour</td>\n",
       "      <td>1.00</td>\n",
       "      <td>NaN</td>\n",
       "      <td>1.0</td>\n",
       "      <td>Frederiksberg</td>\n",
       "      <td>2.0</td>\n",
       "      <td>2.0</td>\n",
       "      <td>t</td>\n",
       "      <td>...</td>\n",
       "      <td>1</td>\n",
       "      <td>0</td>\n",
       "      <td>0</td>\n",
       "      <td>0</td>\n",
       "      <td>3.0</td>\n",
       "      <td>0</td>\n",
       "      <td>0</td>\n",
       "      <td>0</td>\n",
       "      <td>0</td>\n",
       "      <td>1</td>\n",
       "    </tr>\n",
       "    <tr>\n",
       "      <th>28599035</th>\n",
       "      <td>13642093</td>\n",
       "      <td>Copenhagen, Denmark</td>\n",
       "      <td>no response</td>\n",
       "      <td>0.00</td>\n",
       "      <td>NaN</td>\n",
       "      <td>1.0</td>\n",
       "      <td>Teglholmen</td>\n",
       "      <td>1.0</td>\n",
       "      <td>1.0</td>\n",
       "      <td>t</td>\n",
       "      <td>...</td>\n",
       "      <td>1</td>\n",
       "      <td>0</td>\n",
       "      <td>0</td>\n",
       "      <td>0</td>\n",
       "      <td>5.0</td>\n",
       "      <td>0</td>\n",
       "      <td>1</td>\n",
       "      <td>0</td>\n",
       "      <td>0</td>\n",
       "      <td>0</td>\n",
       "    </tr>\n",
       "    <tr>\n",
       "      <th>28599822</th>\n",
       "      <td>196102448</td>\n",
       "      <td>DK</td>\n",
       "      <td>no response</td>\n",
       "      <td>0.00</td>\n",
       "      <td>NaN</td>\n",
       "      <td>1.0</td>\n",
       "      <td>NaN</td>\n",
       "      <td>2.0</td>\n",
       "      <td>2.0</td>\n",
       "      <td>t</td>\n",
       "      <td>...</td>\n",
       "      <td>1</td>\n",
       "      <td>0</td>\n",
       "      <td>0</td>\n",
       "      <td>0</td>\n",
       "      <td>1.0</td>\n",
       "      <td>0</td>\n",
       "      <td>1</td>\n",
       "      <td>0</td>\n",
       "      <td>0</td>\n",
       "      <td>0</td>\n",
       "    </tr>\n",
       "    <tr>\n",
       "      <th>28606593</th>\n",
       "      <td>194341774</td>\n",
       "      <td>DK</td>\n",
       "      <td>no response</td>\n",
       "      <td>0.00</td>\n",
       "      <td>NaN</td>\n",
       "      <td>1.0</td>\n",
       "      <td>Østerbro</td>\n",
       "      <td>1.0</td>\n",
       "      <td>1.0</td>\n",
       "      <td>t</td>\n",
       "      <td>...</td>\n",
       "      <td>1</td>\n",
       "      <td>0</td>\n",
       "      <td>0</td>\n",
       "      <td>0</td>\n",
       "      <td>1.0</td>\n",
       "      <td>0</td>\n",
       "      <td>1</td>\n",
       "      <td>0</td>\n",
       "      <td>0</td>\n",
       "      <td>0</td>\n",
       "    </tr>\n",
       "    <tr>\n",
       "      <th>28607022</th>\n",
       "      <td>215899635</td>\n",
       "      <td>DK</td>\n",
       "      <td>no response</td>\n",
       "      <td>0.00</td>\n",
       "      <td>NaN</td>\n",
       "      <td>1.0</td>\n",
       "      <td>NaN</td>\n",
       "      <td>1.0</td>\n",
       "      <td>1.0</td>\n",
       "      <td>t</td>\n",
       "      <td>...</td>\n",
       "      <td>1</td>\n",
       "      <td>0</td>\n",
       "      <td>0</td>\n",
       "      <td>0</td>\n",
       "      <td>1.0</td>\n",
       "      <td>0</td>\n",
       "      <td>1</td>\n",
       "      <td>0</td>\n",
       "      <td>0</td>\n",
       "      <td>0</td>\n",
       "    </tr>\n",
       "    <tr>\n",
       "      <th>28607758</th>\n",
       "      <td>22112621</td>\n",
       "      <td>Munich, Bavaria, Germany</td>\n",
       "      <td>within a day</td>\n",
       "      <td>0.67</td>\n",
       "      <td>NaN</td>\n",
       "      <td>1.0</td>\n",
       "      <td>Vesterbro</td>\n",
       "      <td>1.0</td>\n",
       "      <td>1.0</td>\n",
       "      <td>t</td>\n",
       "      <td>...</td>\n",
       "      <td>1</td>\n",
       "      <td>0</td>\n",
       "      <td>0</td>\n",
       "      <td>0</td>\n",
       "      <td>5.0</td>\n",
       "      <td>0</td>\n",
       "      <td>0</td>\n",
       "      <td>1</td>\n",
       "      <td>0</td>\n",
       "      <td>0</td>\n",
       "    </tr>\n",
       "    <tr>\n",
       "      <th>28609630</th>\n",
       "      <td>14402043</td>\n",
       "      <td>Copenhagen, Capital Region of Denmark, Denmark</td>\n",
       "      <td>within a few hours</td>\n",
       "      <td>1.00</td>\n",
       "      <td>NaN</td>\n",
       "      <td>1.0</td>\n",
       "      <td>Valby</td>\n",
       "      <td>2.0</td>\n",
       "      <td>2.0</td>\n",
       "      <td>t</td>\n",
       "      <td>...</td>\n",
       "      <td>1</td>\n",
       "      <td>0</td>\n",
       "      <td>0</td>\n",
       "      <td>0</td>\n",
       "      <td>5.0</td>\n",
       "      <td>0</td>\n",
       "      <td>0</td>\n",
       "      <td>0</td>\n",
       "      <td>1</td>\n",
       "      <td>0</td>\n",
       "    </tr>\n",
       "    <tr>\n",
       "      <th>28618851</th>\n",
       "      <td>215986125</td>\n",
       "      <td>Copenhagen, Denmark</td>\n",
       "      <td>no response</td>\n",
       "      <td>0.00</td>\n",
       "      <td>NaN</td>\n",
       "      <td>1.0</td>\n",
       "      <td>NaN</td>\n",
       "      <td>1.0</td>\n",
       "      <td>1.0</td>\n",
       "      <td>t</td>\n",
       "      <td>...</td>\n",
       "      <td>1</td>\n",
       "      <td>0</td>\n",
       "      <td>0</td>\n",
       "      <td>0</td>\n",
       "      <td>1.0</td>\n",
       "      <td>0</td>\n",
       "      <td>1</td>\n",
       "      <td>0</td>\n",
       "      <td>0</td>\n",
       "      <td>0</td>\n",
       "    </tr>\n",
       "    <tr>\n",
       "      <th>28620677</th>\n",
       "      <td>23289291</td>\n",
       "      <td>DK</td>\n",
       "      <td>no response</td>\n",
       "      <td>0.00</td>\n",
       "      <td>NaN</td>\n",
       "      <td>1.0</td>\n",
       "      <td>Østerbro</td>\n",
       "      <td>1.0</td>\n",
       "      <td>1.0</td>\n",
       "      <td>t</td>\n",
       "      <td>...</td>\n",
       "      <td>1</td>\n",
       "      <td>0</td>\n",
       "      <td>0</td>\n",
       "      <td>0</td>\n",
       "      <td>5.0</td>\n",
       "      <td>0</td>\n",
       "      <td>1</td>\n",
       "      <td>0</td>\n",
       "      <td>0</td>\n",
       "      <td>0</td>\n",
       "    </tr>\n",
       "    <tr>\n",
       "      <th>28621813</th>\n",
       "      <td>38201405</td>\n",
       "      <td>Frederiksberg, Denmark</td>\n",
       "      <td>within an hour</td>\n",
       "      <td>1.00</td>\n",
       "      <td>NaN</td>\n",
       "      <td>1.0</td>\n",
       "      <td>Frederiksberg</td>\n",
       "      <td>2.0</td>\n",
       "      <td>2.0</td>\n",
       "      <td>t</td>\n",
       "      <td>...</td>\n",
       "      <td>1</td>\n",
       "      <td>0</td>\n",
       "      <td>0</td>\n",
       "      <td>0</td>\n",
       "      <td>4.0</td>\n",
       "      <td>0</td>\n",
       "      <td>0</td>\n",
       "      <td>0</td>\n",
       "      <td>0</td>\n",
       "      <td>1</td>\n",
       "    </tr>\n",
       "    <tr>\n",
       "      <th>28621895</th>\n",
       "      <td>215998110</td>\n",
       "      <td>Svogerslev, Denmark</td>\n",
       "      <td>no response</td>\n",
       "      <td>0.00</td>\n",
       "      <td>NaN</td>\n",
       "      <td>1.0</td>\n",
       "      <td>Amagerbro</td>\n",
       "      <td>1.0</td>\n",
       "      <td>1.0</td>\n",
       "      <td>t</td>\n",
       "      <td>...</td>\n",
       "      <td>1</td>\n",
       "      <td>0</td>\n",
       "      <td>0</td>\n",
       "      <td>0</td>\n",
       "      <td>1.0</td>\n",
       "      <td>0</td>\n",
       "      <td>1</td>\n",
       "      <td>0</td>\n",
       "      <td>0</td>\n",
       "      <td>0</td>\n",
       "    </tr>\n",
       "    <tr>\n",
       "      <th>28624823</th>\n",
       "      <td>44339715</td>\n",
       "      <td>Aix-en-Provence, Provence-Alpes-Côte d'Azur, F...</td>\n",
       "      <td>within a day</td>\n",
       "      <td>0.80</td>\n",
       "      <td>NaN</td>\n",
       "      <td>1.0</td>\n",
       "      <td>NaN</td>\n",
       "      <td>1.0</td>\n",
       "      <td>1.0</td>\n",
       "      <td>t</td>\n",
       "      <td>...</td>\n",
       "      <td>1</td>\n",
       "      <td>0</td>\n",
       "      <td>0</td>\n",
       "      <td>0</td>\n",
       "      <td>4.0</td>\n",
       "      <td>0</td>\n",
       "      <td>0</td>\n",
       "      <td>1</td>\n",
       "      <td>0</td>\n",
       "      <td>0</td>\n",
       "    </tr>\n",
       "    <tr>\n",
       "      <th>28624874</th>\n",
       "      <td>416126</td>\n",
       "      <td>Copenhagen, Capital Region of Denmark, Denmark</td>\n",
       "      <td>no response</td>\n",
       "      <td>0.00</td>\n",
       "      <td>NaN</td>\n",
       "      <td>1.0</td>\n",
       "      <td>Indre By</td>\n",
       "      <td>1.0</td>\n",
       "      <td>1.0</td>\n",
       "      <td>t</td>\n",
       "      <td>...</td>\n",
       "      <td>1</td>\n",
       "      <td>0</td>\n",
       "      <td>0</td>\n",
       "      <td>0</td>\n",
       "      <td>8.0</td>\n",
       "      <td>0</td>\n",
       "      <td>1</td>\n",
       "      <td>0</td>\n",
       "      <td>0</td>\n",
       "      <td>0</td>\n",
       "    </tr>\n",
       "    <tr>\n",
       "      <th>28625152</th>\n",
       "      <td>216017209</td>\n",
       "      <td>DK</td>\n",
       "      <td>no response</td>\n",
       "      <td>0.00</td>\n",
       "      <td>NaN</td>\n",
       "      <td>1.0</td>\n",
       "      <td>NaN</td>\n",
       "      <td>1.0</td>\n",
       "      <td>1.0</td>\n",
       "      <td>t</td>\n",
       "      <td>...</td>\n",
       "      <td>1</td>\n",
       "      <td>0</td>\n",
       "      <td>0</td>\n",
       "      <td>0</td>\n",
       "      <td>1.0</td>\n",
       "      <td>0</td>\n",
       "      <td>1</td>\n",
       "      <td>0</td>\n",
       "      <td>0</td>\n",
       "      <td>0</td>\n",
       "    </tr>\n",
       "    <tr>\n",
       "      <th>28625446</th>\n",
       "      <td>129666252</td>\n",
       "      <td>Rødovre, Denmark</td>\n",
       "      <td>within an hour</td>\n",
       "      <td>1.00</td>\n",
       "      <td>NaN</td>\n",
       "      <td>1.0</td>\n",
       "      <td>NaN</td>\n",
       "      <td>2.0</td>\n",
       "      <td>2.0</td>\n",
       "      <td>t</td>\n",
       "      <td>...</td>\n",
       "      <td>1</td>\n",
       "      <td>0</td>\n",
       "      <td>0</td>\n",
       "      <td>0</td>\n",
       "      <td>2.0</td>\n",
       "      <td>0</td>\n",
       "      <td>0</td>\n",
       "      <td>0</td>\n",
       "      <td>0</td>\n",
       "      <td>1</td>\n",
       "    </tr>\n",
       "    <tr>\n",
       "      <th>28625530</th>\n",
       "      <td>196102448</td>\n",
       "      <td>DK</td>\n",
       "      <td>no response</td>\n",
       "      <td>0.00</td>\n",
       "      <td>NaN</td>\n",
       "      <td>1.0</td>\n",
       "      <td>NaN</td>\n",
       "      <td>2.0</td>\n",
       "      <td>2.0</td>\n",
       "      <td>t</td>\n",
       "      <td>...</td>\n",
       "      <td>1</td>\n",
       "      <td>0</td>\n",
       "      <td>0</td>\n",
       "      <td>0</td>\n",
       "      <td>1.0</td>\n",
       "      <td>0</td>\n",
       "      <td>1</td>\n",
       "      <td>0</td>\n",
       "      <td>0</td>\n",
       "      <td>0</td>\n",
       "    </tr>\n",
       "    <tr>\n",
       "      <th>28625685</th>\n",
       "      <td>216020550</td>\n",
       "      <td>SE</td>\n",
       "      <td>no response</td>\n",
       "      <td>0.00</td>\n",
       "      <td>NaN</td>\n",
       "      <td>1.0</td>\n",
       "      <td>NaN</td>\n",
       "      <td>1.0</td>\n",
       "      <td>1.0</td>\n",
       "      <td>t</td>\n",
       "      <td>...</td>\n",
       "      <td>1</td>\n",
       "      <td>0</td>\n",
       "      <td>0</td>\n",
       "      <td>0</td>\n",
       "      <td>1.0</td>\n",
       "      <td>0</td>\n",
       "      <td>1</td>\n",
       "      <td>0</td>\n",
       "      <td>0</td>\n",
       "      <td>0</td>\n",
       "    </tr>\n",
       "    <tr>\n",
       "      <th>28627948</th>\n",
       "      <td>108105145</td>\n",
       "      <td>Søborg, Capital Region of Denmark, Denmark</td>\n",
       "      <td>no response</td>\n",
       "      <td>0.00</td>\n",
       "      <td>NaN</td>\n",
       "      <td>1.0</td>\n",
       "      <td>NaN</td>\n",
       "      <td>1.0</td>\n",
       "      <td>1.0</td>\n",
       "      <td>t</td>\n",
       "      <td>...</td>\n",
       "      <td>1</td>\n",
       "      <td>0</td>\n",
       "      <td>0</td>\n",
       "      <td>0</td>\n",
       "      <td>3.0</td>\n",
       "      <td>0</td>\n",
       "      <td>1</td>\n",
       "      <td>0</td>\n",
       "      <td>0</td>\n",
       "      <td>0</td>\n",
       "    </tr>\n",
       "    <tr>\n",
       "      <th>28628167</th>\n",
       "      <td>58576954</td>\n",
       "      <td>Copenhagen, Capital Region of Denmark, Denmark</td>\n",
       "      <td>no response</td>\n",
       "      <td>0.00</td>\n",
       "      <td>NaN</td>\n",
       "      <td>1.0</td>\n",
       "      <td>København NV</td>\n",
       "      <td>1.0</td>\n",
       "      <td>1.0</td>\n",
       "      <td>t</td>\n",
       "      <td>...</td>\n",
       "      <td>1</td>\n",
       "      <td>0</td>\n",
       "      <td>0</td>\n",
       "      <td>0</td>\n",
       "      <td>3.0</td>\n",
       "      <td>0</td>\n",
       "      <td>1</td>\n",
       "      <td>0</td>\n",
       "      <td>0</td>\n",
       "      <td>0</td>\n",
       "    </tr>\n",
       "    <tr>\n",
       "      <th>28628664</th>\n",
       "      <td>10998729</td>\n",
       "      <td>Copenhagen, Capital Region of Denmark, Denmark</td>\n",
       "      <td>within an hour</td>\n",
       "      <td>1.00</td>\n",
       "      <td>NaN</td>\n",
       "      <td>1.0</td>\n",
       "      <td>Amager Vest</td>\n",
       "      <td>2.0</td>\n",
       "      <td>2.0</td>\n",
       "      <td>t</td>\n",
       "      <td>...</td>\n",
       "      <td>1</td>\n",
       "      <td>0</td>\n",
       "      <td>0</td>\n",
       "      <td>0</td>\n",
       "      <td>5.0</td>\n",
       "      <td>0</td>\n",
       "      <td>0</td>\n",
       "      <td>0</td>\n",
       "      <td>0</td>\n",
       "      <td>1</td>\n",
       "    </tr>\n",
       "    <tr>\n",
       "      <th>28631747</th>\n",
       "      <td>5415406</td>\n",
       "      <td>Copenhagen, Capital Region of Denmark, Denmark</td>\n",
       "      <td>within a day</td>\n",
       "      <td>1.00</td>\n",
       "      <td>NaN</td>\n",
       "      <td>1.0</td>\n",
       "      <td>Nørrebro</td>\n",
       "      <td>1.0</td>\n",
       "      <td>1.0</td>\n",
       "      <td>t</td>\n",
       "      <td>...</td>\n",
       "      <td>1</td>\n",
       "      <td>0</td>\n",
       "      <td>0</td>\n",
       "      <td>0</td>\n",
       "      <td>6.0</td>\n",
       "      <td>0</td>\n",
       "      <td>0</td>\n",
       "      <td>1</td>\n",
       "      <td>0</td>\n",
       "      <td>0</td>\n",
       "    </tr>\n",
       "    <tr>\n",
       "      <th>28633483</th>\n",
       "      <td>18997062</td>\n",
       "      <td>Sonderborg, Region Syddanmark, Denmark</td>\n",
       "      <td>a few days or more</td>\n",
       "      <td>0.00</td>\n",
       "      <td>NaN</td>\n",
       "      <td>1.0</td>\n",
       "      <td>NaN</td>\n",
       "      <td>1.0</td>\n",
       "      <td>1.0</td>\n",
       "      <td>t</td>\n",
       "      <td>...</td>\n",
       "      <td>1</td>\n",
       "      <td>0</td>\n",
       "      <td>0</td>\n",
       "      <td>0</td>\n",
       "      <td>5.0</td>\n",
       "      <td>1</td>\n",
       "      <td>0</td>\n",
       "      <td>0</td>\n",
       "      <td>0</td>\n",
       "      <td>0</td>\n",
       "    </tr>\n",
       "    <tr>\n",
       "      <th>28633865</th>\n",
       "      <td>87467797</td>\n",
       "      <td>Copenhagen, Denmark</td>\n",
       "      <td>no response</td>\n",
       "      <td>0.00</td>\n",
       "      <td>NaN</td>\n",
       "      <td>1.0</td>\n",
       "      <td>Islands Brygge</td>\n",
       "      <td>1.0</td>\n",
       "      <td>1.0</td>\n",
       "      <td>t</td>\n",
       "      <td>...</td>\n",
       "      <td>1</td>\n",
       "      <td>0</td>\n",
       "      <td>0</td>\n",
       "      <td>0</td>\n",
       "      <td>3.0</td>\n",
       "      <td>0</td>\n",
       "      <td>1</td>\n",
       "      <td>0</td>\n",
       "      <td>0</td>\n",
       "      <td>0</td>\n",
       "    </tr>\n",
       "  </tbody>\n",
       "</table>\n",
       "<p>251885 rows × 66 columns</p>\n",
       "</div>"
      ],
      "text/plain": [
       "            host_id                                      host_location  \\\n",
       "id                                                                       \n",
       "6983          16774     Copenhagen, Capital Region of Denmark, Denmark   \n",
       "29118        125230     Copenhagen, Capital Region of Denmark, Denmark   \n",
       "29618        127577     Copenhagen, Capital Region of Denmark, Denmark   \n",
       "31094        129976     Copenhagen, Capital Region of Denmark, Denmark   \n",
       "32379        140105     Copenhagen, Capital Region of Denmark, Denmark   \n",
       "32841        142143     Copenhagen, Capital Region of Denmark, Denmark   \n",
       "37159        160390     Copenhagen, Capital Region of Denmark, Denmark   \n",
       "38524        165326                                             London   \n",
       "41105        178320  Christianshavn, Capital Region of Denmark, Den...   \n",
       "45794        203844     Copenhagen, Capital Region of Denmark, Denmark   \n",
       "49122        217651     Copenhagen, Capital Region of Denmark, Denmark   \n",
       "53776        246676     Copenhagen, Capital Region of Denmark, Denmark   \n",
       "55465        261977     Copenhagen, Capital Region of Denmark, Denmark   \n",
       "60048        288615     Copenhagen, Capital Region of Denmark, Denmark   \n",
       "61546        298023     Copenhagen, Capital Region of Denmark, Denmark   \n",
       "65902        322300     Copenhagen, Capital Region of Denmark, Denmark   \n",
       "69210        135565     Copenhagen, Capital Region of Denmark, Denmark   \n",
       "70768        183394     Copenhagen, Capital Region of Denmark, Denmark   \n",
       "75158        299149     Copenhagen, Capital Region of Denmark, Denmark   \n",
       "78381        420914     Copenhagen, Capital Region of Denmark, Denmark   \n",
       "96080        510632     Copenhagen, Capital Region of Denmark, Denmark   \n",
       "104280       542873     Copenhagen, Capital Region of Denmark, Denmark   \n",
       "104281       542873     Copenhagen, Capital Region of Denmark, Denmark   \n",
       "112292       573172  Frederiksberg, Capital Region of Denmark, Denmark   \n",
       "117702       594426     Copenhagen, Capital Region of Denmark, Denmark   \n",
       "118649       599145     Copenhagen, Capital Region of Denmark, Denmark   \n",
       "118971       600859     Copenhagen, Capital Region of Denmark, Denmark   \n",
       "119322       602647     Copenhagen, Capital Region of Denmark, Denmark   \n",
       "130130       641191     Copenhagen, Capital Region of Denmark, Denmark   \n",
       "131263       646050     Copenhagen, Capital Region of Denmark, Denmark   \n",
       "...             ...                                                ...   \n",
       "28580260  155721400                             Frederiksberg, Denmark   \n",
       "28581772  215715008                                                 DK   \n",
       "28582848    8282698      Amagerbro, Capital Region of Denmark, Denmark   \n",
       "28583518  215729330                                                 DK   \n",
       "28593100  215800682                                                 DK   \n",
       "28593366  102199606                                Copenhagen, Denmark   \n",
       "28594943  215812152                                                 DK   \n",
       "28597438   98932881     Copenhagen, Capital Region of Denmark, Denmark   \n",
       "28599035   13642093                                Copenhagen, Denmark   \n",
       "28599822  196102448                                                 DK   \n",
       "28606593  194341774                                                 DK   \n",
       "28607022  215899635                                                 DK   \n",
       "28607758   22112621                           Munich, Bavaria, Germany   \n",
       "28609630   14402043     Copenhagen, Capital Region of Denmark, Denmark   \n",
       "28618851  215986125                                Copenhagen, Denmark   \n",
       "28620677   23289291                                                 DK   \n",
       "28621813   38201405                             Frederiksberg, Denmark   \n",
       "28621895  215998110                                Svogerslev, Denmark   \n",
       "28624823   44339715  Aix-en-Provence, Provence-Alpes-Côte d'Azur, F...   \n",
       "28624874     416126     Copenhagen, Capital Region of Denmark, Denmark   \n",
       "28625152  216017209                                                 DK   \n",
       "28625446  129666252                                   Rødovre, Denmark   \n",
       "28625530  196102448                                                 DK   \n",
       "28625685  216020550                                                 SE   \n",
       "28627948  108105145         Søborg, Capital Region of Denmark, Denmark   \n",
       "28628167   58576954     Copenhagen, Capital Region of Denmark, Denmark   \n",
       "28628664   10998729     Copenhagen, Capital Region of Denmark, Denmark   \n",
       "28631747    5415406     Copenhagen, Capital Region of Denmark, Denmark   \n",
       "28633483   18997062             Sonderborg, Region Syddanmark, Denmark   \n",
       "28633865   87467797                                Copenhagen, Denmark   \n",
       "\n",
       "          host_response_time  host_response_rate  host_acceptance_rate  \\\n",
       "id                                                                       \n",
       "6983             no response                0.00                   NaN   \n",
       "29118           within a day                1.00                   NaN   \n",
       "29618            no response                0.00                   NaN   \n",
       "31094            no response                0.00                   NaN   \n",
       "32379         within an hour                1.00                   NaN   \n",
       "32841            no response                0.00                   NaN   \n",
       "37159            no response                0.00                   NaN   \n",
       "38524           within a day                0.80                   NaN   \n",
       "41105            no response                0.00                   NaN   \n",
       "45794            no response                0.00                   NaN   \n",
       "49122           within a day                0.82                   NaN   \n",
       "53776            no response                0.00                   NaN   \n",
       "55465           within a day                1.00                   NaN   \n",
       "60048     within a few hours                1.00                   NaN   \n",
       "61546           within a day                1.00                   NaN   \n",
       "65902         within an hour                1.00                   NaN   \n",
       "69210     within a few hours                0.90                   NaN   \n",
       "70768     a few days or more                0.00                   NaN   \n",
       "75158            no response                0.00                   NaN   \n",
       "78381         within an hour                1.00                   NaN   \n",
       "96080         within an hour                1.00                   NaN   \n",
       "104280           no response                0.00                   NaN   \n",
       "104281           no response                0.00                   NaN   \n",
       "112292    within a few hours                1.00                   NaN   \n",
       "117702    within a few hours                0.86                   NaN   \n",
       "118649        within an hour                1.00                   NaN   \n",
       "118971          within a day                1.00                   NaN   \n",
       "119322          within a day                0.63                   NaN   \n",
       "130130          within a day                0.80                   NaN   \n",
       "131263           no response                0.00                   NaN   \n",
       "...                      ...                 ...                   ...   \n",
       "28580260         no response                0.00                   NaN   \n",
       "28581772         no response                0.00                   NaN   \n",
       "28582848  within a few hours                1.00                   NaN   \n",
       "28583518         no response                0.00                   NaN   \n",
       "28593100         no response                0.00                   NaN   \n",
       "28593366         no response                0.00                   NaN   \n",
       "28594943         no response                0.00                   NaN   \n",
       "28597438      within an hour                1.00                   NaN   \n",
       "28599035         no response                0.00                   NaN   \n",
       "28599822         no response                0.00                   NaN   \n",
       "28606593         no response                0.00                   NaN   \n",
       "28607022         no response                0.00                   NaN   \n",
       "28607758        within a day                0.67                   NaN   \n",
       "28609630  within a few hours                1.00                   NaN   \n",
       "28618851         no response                0.00                   NaN   \n",
       "28620677         no response                0.00                   NaN   \n",
       "28621813      within an hour                1.00                   NaN   \n",
       "28621895         no response                0.00                   NaN   \n",
       "28624823        within a day                0.80                   NaN   \n",
       "28624874         no response                0.00                   NaN   \n",
       "28625152         no response                0.00                   NaN   \n",
       "28625446      within an hour                1.00                   NaN   \n",
       "28625530         no response                0.00                   NaN   \n",
       "28625685         no response                0.00                   NaN   \n",
       "28627948         no response                0.00                   NaN   \n",
       "28628167         no response                0.00                   NaN   \n",
       "28628664      within an hour                1.00                   NaN   \n",
       "28631747        within a day                1.00                   NaN   \n",
       "28633483  a few days or more                0.00                   NaN   \n",
       "28633865         no response                0.00                   NaN   \n",
       "\n",
       "          host_is_superhost host_neighbourhood  host_listings_count  \\\n",
       "id                                                                    \n",
       "6983                    0.0           Nørrebro                  1.0   \n",
       "29118                   0.0          Vesterbro                  1.0   \n",
       "29618                   0.0           Østerbro                  1.0   \n",
       "31094                   0.0          Vesterbro                  1.0   \n",
       "32379                   0.0          Vesterbro                  4.0   \n",
       "32841                   0.0           Østerbro                  1.0   \n",
       "37159                   0.0           Indre By                  1.0   \n",
       "38524                   0.0      Frederiksberg                  2.0   \n",
       "41105                   0.0     Christianshavn                  1.0   \n",
       "45794                   0.0      Frederiksberg                  1.0   \n",
       "49122                   1.0           Indre By                  1.0   \n",
       "53776                   0.0          Vesterbro                  1.0   \n",
       "55465                   0.0           Nørrebro                  2.0   \n",
       "60048                   0.0          Vesterbro                  1.0   \n",
       "61546                   1.0           Nørrebro                  1.0   \n",
       "65902                   0.0           Nørrebro                  1.0   \n",
       "69210                   0.0           Nørrebro                  1.0   \n",
       "70768                   0.0          Vesterbro                  1.0   \n",
       "75158                   0.0          Vesterbro                  1.0   \n",
       "78381                   0.0           Indre By                  1.0   \n",
       "96080                   0.0           Østerbro                  1.0   \n",
       "104280                  0.0           Nørrebro                  3.0   \n",
       "104281                  0.0           Nørrebro                  3.0   \n",
       "112292                  0.0      Frederiksberg                  1.0   \n",
       "117702                  0.0           Nørrebro                  1.0   \n",
       "118649                  1.0           Indre By                  1.0   \n",
       "118971                  0.0           Nørrebro                  1.0   \n",
       "119322                  0.0           Indre By                  1.0   \n",
       "130130                  0.0          Vesterbro                  1.0   \n",
       "131263                  0.0           Nørrebro                  1.0   \n",
       "...                     ...                ...                  ...   \n",
       "28580260                1.0           Indre By                  1.0   \n",
       "28581772                1.0                NaN                  1.0   \n",
       "28582848                1.0          Amagerbro                  4.0   \n",
       "28583518                1.0        Amager Vest                  1.0   \n",
       "28593100                1.0          Vesterbro                  1.0   \n",
       "28593366                1.0          Vesterbro                  1.0   \n",
       "28594943                1.0           Indre By                  1.0   \n",
       "28597438                1.0      Frederiksberg                  2.0   \n",
       "28599035                1.0         Teglholmen                  1.0   \n",
       "28599822                1.0                NaN                  2.0   \n",
       "28606593                1.0           Østerbro                  1.0   \n",
       "28607022                1.0                NaN                  1.0   \n",
       "28607758                1.0          Vesterbro                  1.0   \n",
       "28609630                1.0              Valby                  2.0   \n",
       "28618851                1.0                NaN                  1.0   \n",
       "28620677                1.0           Østerbro                  1.0   \n",
       "28621813                1.0      Frederiksberg                  2.0   \n",
       "28621895                1.0          Amagerbro                  1.0   \n",
       "28624823                1.0                NaN                  1.0   \n",
       "28624874                1.0           Indre By                  1.0   \n",
       "28625152                1.0                NaN                  1.0   \n",
       "28625446                1.0                NaN                  2.0   \n",
       "28625530                1.0                NaN                  2.0   \n",
       "28625685                1.0                NaN                  1.0   \n",
       "28627948                1.0                NaN                  1.0   \n",
       "28628167                1.0       København NV                  1.0   \n",
       "28628664                1.0        Amager Vest                  2.0   \n",
       "28631747                1.0           Nørrebro                  1.0   \n",
       "28633483                1.0                NaN                  1.0   \n",
       "28633865                1.0     Islands Brygge                  1.0   \n",
       "\n",
       "          host_total_listings_count host_has_profile_pic  ... Sep Oct  Nov  \\\n",
       "id                                                        ...                \n",
       "6983                            1.0                    t  ...   0   0    0   \n",
       "29118                           1.0                    t  ...   0   0    0   \n",
       "29618                           1.0                    t  ...   0   0    0   \n",
       "31094                           1.0                    t  ...   0   0    0   \n",
       "32379                           4.0                    t  ...   0   0    0   \n",
       "32841                           1.0                    t  ...   0   0    0   \n",
       "37159                           1.0                    t  ...   0   0    0   \n",
       "38524                           2.0                    t  ...   0   0    0   \n",
       "41105                           1.0                    t  ...   0   0    0   \n",
       "45794                           1.0                    t  ...   0   0    0   \n",
       "49122                           1.0                    t  ...   0   0    0   \n",
       "53776                           1.0                    t  ...   0   0    0   \n",
       "55465                           2.0                    t  ...   0   0    0   \n",
       "60048                           1.0                    t  ...   0   0    0   \n",
       "61546                           1.0                    t  ...   0   0    0   \n",
       "65902                           1.0                    t  ...   0   0    0   \n",
       "69210                           1.0                    t  ...   0   0    0   \n",
       "70768                           1.0                    t  ...   0   0    0   \n",
       "75158                           1.0                    t  ...   0   0    0   \n",
       "78381                           1.0                    t  ...   0   0    0   \n",
       "96080                           1.0                    t  ...   0   0    0   \n",
       "104280                          3.0                    t  ...   0   0    0   \n",
       "104281                          3.0                    t  ...   0   0    0   \n",
       "112292                          1.0                    t  ...   0   0    0   \n",
       "117702                          1.0                    t  ...   0   0    0   \n",
       "118649                          1.0                    t  ...   0   0    0   \n",
       "118971                          1.0                    t  ...   0   0    0   \n",
       "119322                          1.0                    t  ...   0   0    0   \n",
       "130130                          1.0                    t  ...   0   0    0   \n",
       "131263                          1.0                    t  ...   0   0    0   \n",
       "...                             ...                  ...  ...  ..  ..  ...   \n",
       "28580260                        1.0                    t  ...   1   0    0   \n",
       "28581772                        1.0                    t  ...   1   0    0   \n",
       "28582848                        4.0                    t  ...   1   0    0   \n",
       "28583518                        1.0                    t  ...   1   0    0   \n",
       "28593100                        1.0                    t  ...   1   0    0   \n",
       "28593366                        1.0                    t  ...   1   0    0   \n",
       "28594943                        1.0                    t  ...   1   0    0   \n",
       "28597438                        2.0                    t  ...   1   0    0   \n",
       "28599035                        1.0                    t  ...   1   0    0   \n",
       "28599822                        2.0                    t  ...   1   0    0   \n",
       "28606593                        1.0                    t  ...   1   0    0   \n",
       "28607022                        1.0                    t  ...   1   0    0   \n",
       "28607758                        1.0                    t  ...   1   0    0   \n",
       "28609630                        2.0                    t  ...   1   0    0   \n",
       "28618851                        1.0                    t  ...   1   0    0   \n",
       "28620677                        1.0                    t  ...   1   0    0   \n",
       "28621813                        2.0                    t  ...   1   0    0   \n",
       "28621895                        1.0                    t  ...   1   0    0   \n",
       "28624823                        1.0                    t  ...   1   0    0   \n",
       "28624874                        1.0                    t  ...   1   0    0   \n",
       "28625152                        1.0                    t  ...   1   0    0   \n",
       "28625446                        2.0                    t  ...   1   0    0   \n",
       "28625530                        2.0                    t  ...   1   0    0   \n",
       "28625685                        1.0                    t  ...   1   0    0   \n",
       "28627948                        1.0                    t  ...   1   0    0   \n",
       "28628167                        1.0                    t  ...   1   0    0   \n",
       "28628664                        2.0                    t  ...   1   0    0   \n",
       "28631747                        1.0                    t  ...   1   0    0   \n",
       "28633483                        1.0                    t  ...   1   0    0   \n",
       "28633865                        1.0                    t  ...   1   0    0   \n",
       "\n",
       "          Dec host_age a few days or more  no response  within a day  \\\n",
       "id                                                                     \n",
       "6983        0     10.0                  0            1             0   \n",
       "29118       0      9.0                  0            0             1   \n",
       "29618       0      9.0                  0            1             0   \n",
       "31094       0      9.0                  0            1             0   \n",
       "32379       0      9.0                  0            0             0   \n",
       "32841       0      9.0                  0            1             0   \n",
       "37159       0      9.0                  0            1             0   \n",
       "38524       0      9.0                  0            0             1   \n",
       "41105       0      9.0                  0            1             0   \n",
       "45794       0      9.0                  0            1             0   \n",
       "49122       0      9.0                  0            0             1   \n",
       "53776       0      9.0                  0            1             0   \n",
       "55465       0      9.0                  0            0             1   \n",
       "60048       0      9.0                  0            0             0   \n",
       "61546       0      9.0                  0            0             1   \n",
       "65902       0      9.0                  0            0             0   \n",
       "69210       0      9.0                  0            0             0   \n",
       "70768       0      9.0                  1            0             0   \n",
       "75158       0      9.0                  0            1             0   \n",
       "78381       0      8.0                  0            0             0   \n",
       "96080       0      8.0                  0            0             0   \n",
       "104280      0      8.0                  0            1             0   \n",
       "104281      0      8.0                  0            1             0   \n",
       "112292      0      8.0                  0            0             0   \n",
       "117702      0      8.0                  0            0             0   \n",
       "118649      0      8.0                  0            0             0   \n",
       "118971      0      8.0                  0            0             1   \n",
       "119322      0      8.0                  0            0             1   \n",
       "130130      0      8.0                  0            0             1   \n",
       "131263      0      8.0                  0            1             0   \n",
       "...       ...      ...                ...          ...           ...   \n",
       "28580260    0      2.0                  0            1             0   \n",
       "28581772    0      1.0                  0            1             0   \n",
       "28582848    0      6.0                  0            0             0   \n",
       "28583518    0      1.0                  0            1             0   \n",
       "28593100    0      1.0                  0            1             0   \n",
       "28593366    0      3.0                  0            1             0   \n",
       "28594943    0      1.0                  0            1             0   \n",
       "28597438    0      3.0                  0            0             0   \n",
       "28599035    0      5.0                  0            1             0   \n",
       "28599822    0      1.0                  0            1             0   \n",
       "28606593    0      1.0                  0            1             0   \n",
       "28607022    0      1.0                  0            1             0   \n",
       "28607758    0      5.0                  0            0             1   \n",
       "28609630    0      5.0                  0            0             0   \n",
       "28618851    0      1.0                  0            1             0   \n",
       "28620677    0      5.0                  0            1             0   \n",
       "28621813    0      4.0                  0            0             0   \n",
       "28621895    0      1.0                  0            1             0   \n",
       "28624823    0      4.0                  0            0             1   \n",
       "28624874    0      8.0                  0            1             0   \n",
       "28625152    0      1.0                  0            1             0   \n",
       "28625446    0      2.0                  0            0             0   \n",
       "28625530    0      1.0                  0            1             0   \n",
       "28625685    0      1.0                  0            1             0   \n",
       "28627948    0      3.0                  0            1             0   \n",
       "28628167    0      3.0                  0            1             0   \n",
       "28628664    0      5.0                  0            0             0   \n",
       "28631747    0      6.0                  0            0             1   \n",
       "28633483    0      5.0                  1            0             0   \n",
       "28633865    0      3.0                  0            1             0   \n",
       "\n",
       "          within a few hours  within an hour  \n",
       "id                                            \n",
       "6983                       0               0  \n",
       "29118                      0               0  \n",
       "29618                      0               0  \n",
       "31094                      0               0  \n",
       "32379                      0               1  \n",
       "32841                      0               0  \n",
       "37159                      0               0  \n",
       "38524                      0               0  \n",
       "41105                      0               0  \n",
       "45794                      0               0  \n",
       "49122                      0               0  \n",
       "53776                      0               0  \n",
       "55465                      0               0  \n",
       "60048                      1               0  \n",
       "61546                      0               0  \n",
       "65902                      0               1  \n",
       "69210                      1               0  \n",
       "70768                      0               0  \n",
       "75158                      0               0  \n",
       "78381                      0               1  \n",
       "96080                      0               1  \n",
       "104280                     0               0  \n",
       "104281                     0               0  \n",
       "112292                     1               0  \n",
       "117702                     1               0  \n",
       "118649                     0               1  \n",
       "118971                     0               0  \n",
       "119322                     0               0  \n",
       "130130                     0               0  \n",
       "131263                     0               0  \n",
       "...                      ...             ...  \n",
       "28580260                   0               0  \n",
       "28581772                   0               0  \n",
       "28582848                   1               0  \n",
       "28583518                   0               0  \n",
       "28593100                   0               0  \n",
       "28593366                   0               0  \n",
       "28594943                   0               0  \n",
       "28597438                   0               1  \n",
       "28599035                   0               0  \n",
       "28599822                   0               0  \n",
       "28606593                   0               0  \n",
       "28607022                   0               0  \n",
       "28607758                   0               0  \n",
       "28609630                   1               0  \n",
       "28618851                   0               0  \n",
       "28620677                   0               0  \n",
       "28621813                   0               1  \n",
       "28621895                   0               0  \n",
       "28624823                   0               0  \n",
       "28624874                   0               0  \n",
       "28625152                   0               0  \n",
       "28625446                   0               1  \n",
       "28625530                   0               0  \n",
       "28625685                   0               0  \n",
       "28627948                   0               0  \n",
       "28628167                   0               0  \n",
       "28628664                   0               1  \n",
       "28631747                   0               0  \n",
       "28633483                   0               0  \n",
       "28633865                   0               0  \n",
       "\n",
       "[251885 rows x 66 columns]"
      ]
     },
     "execution_count": 47,
     "metadata": {},
     "output_type": "execute_result"
    }
   ],
   "source": [
    "print(df_1.host_verifications.value_counts(normalize=True))\n",
    "df_1.drop(['host_verifications'], axis=1)\n",
    "# Probabil redundant "
   ]
  },
  {
   "cell_type": "markdown",
   "metadata": {},
   "source": [
    "### Profile picture"
   ]
  },
  {
   "cell_type": "code",
   "execution_count": 48,
   "metadata": {},
   "outputs": [
    {
     "data": {
      "text/plain": [
       "t    0.997725\n",
       "f    0.002275\n",
       "Name: host_has_profile_pic, dtype: float64"
      ]
     },
     "execution_count": 48,
     "metadata": {},
     "output_type": "execute_result"
    }
   ],
   "source": [
    "df_1.host_has_profile_pic.fillna('t', inplace=True)\n",
    "#df_1[\"host_has_profile_pic\"] = df.host_has_profile_pic.map({\"f\": 0, \"t\": 1})\n",
    "df_1.host_has_profile_pic.value_counts(normalize=True)\n",
    "# Ce facem cu nulls?"
   ]
  },
  {
   "cell_type": "code",
   "execution_count": 49,
   "metadata": {},
   "outputs": [
    {
     "data": {
      "text/plain": [
       "<matplotlib.axes._subplots.AxesSubplot at 0x1ff041a6898>"
      ]
     },
     "execution_count": 49,
     "metadata": {},
     "output_type": "execute_result"
    },
    {
     "data": {
      "image/png": "[encoded data removed]",
      "text/plain": [
       "<Figure size 432x288 with 1 Axes>"
      ]
     },
     "metadata": {
      "needs_background": "light"
     },
     "output_type": "display_data"
    }
   ],
   "source": [
    "sns.countplot(x='host_has_profile_pic', data=df)"
   ]
  },
  {
   "cell_type": "markdown",
   "metadata": {},
   "source": [
    "### Identity verification"
   ]
  },
  {
   "cell_type": "code",
   "execution_count": 50,
   "metadata": {},
   "outputs": [
    {
     "data": {
      "text/plain": [
       "f    0.583461\n",
       "t    0.416539\n",
       "Name: host_identity_verified, dtype: float64"
      ]
     },
     "execution_count": 50,
     "metadata": {},
     "output_type": "execute_result"
    }
   ],
   "source": [
    "df_1.host_identity_verified.fillna('f', inplace=True)\n",
    "#df_1[\"host_identity_verified\"] = df.host_identity_verified.map({\"f\": 0, \"t\": 1})\n",
    "df_1.host_identity_verified.value_counts(normalize=True)\n",
    "# Ce facem cu nulls?"
   ]
  },
  {
   "cell_type": "markdown",
   "metadata": {},
   "source": [
    "### Zipcode"
   ]
  },
  {
   "cell_type": "code",
   "execution_count": 51,
   "metadata": {},
   "outputs": [
    {
     "data": {
      "text/plain": [
       "2200      0.187542\n",
       "2300      0.158024\n",
       "2100      0.114387\n",
       "2000      0.070852\n",
       "2400      0.054498\n",
       "2500      0.040153\n",
       "2450      0.031254\n",
       "2720      0.021721\n",
       "2700      0.016987\n",
       "1620      0.008226\n",
       "1650      0.006335\n",
       "1720      0.005183\n",
       "1663      0.004722\n",
       "1366      0.004607\n",
       "1674      0.004521\n",
       "2200.0    0.004485\n",
       "2300.0    0.004403\n",
       "1665      0.003970\n",
       "1432      0.003827\n",
       "1721      0.003329\n",
       "1307      0.003325\n",
       "1264      0.003272\n",
       "2100.0    0.003182\n",
       "1705      0.002949\n",
       "1657      0.002941\n",
       "1666      0.002847\n",
       "1123      0.002761\n",
       "2900      0.002724\n",
       "1429      0.002696\n",
       "1669      0.002688\n",
       "            ...   \n",
       "1357.0    0.000004\n",
       "1356.0    0.000004\n",
       "1957.0    0.000004\n",
       "1958.0    0.000004\n",
       "1959.0    0.000004\n",
       "1576.0    0.000004\n",
       "1315.0    0.000004\n",
       "1317.0    0.000004\n",
       "1916.0    0.000004\n",
       "1673.0    0.000004\n",
       "1568.0    0.000004\n",
       "1911.0    0.000004\n",
       "1878.0    0.000004\n",
       "1439.0    0.000004\n",
       "1160.0    0.000004\n",
       "1161.0    0.000004\n",
       "1164.0    0.000004\n",
       "1552.0    0.000004\n",
       "1166.0    0.000004\n",
       "1905.0    0.000004\n",
       "1172.0    0.000004\n",
       "1717.0    0.000004\n",
       "1412.0    0.000004\n",
       "1175.0    0.000004\n",
       "1906.0    0.000004\n",
       "1470      0.000004\n",
       "1204.0    0.000004\n",
       "1909.0    0.000004\n",
       "1677.0    0.000004\n",
       "1174.0    0.000004\n",
       "Name: zipcode, Length: 771, dtype: float64"
      ]
     },
     "execution_count": 51,
     "metadata": {},
     "output_type": "execute_result"
    }
   ],
   "source": [
    "df_1.zipcode.value_counts(normalize=True)\n",
    "# Aici datele sunt ampulea maxim. Trebuiesc curatate si avem si nulls. Probabil eliminam"
   ]
  },
  {
   "cell_type": "markdown",
   "metadata": {},
   "source": [
    "### Accomodates"
   ]
  },
  {
   "cell_type": "code",
   "execution_count": 52,
   "metadata": {},
   "outputs": [
    {
     "data": {
      "text/plain": [
       "2     0.414137\n",
       "4     0.243520\n",
       "3     0.141287\n",
       "5     0.074562\n",
       "6     0.064907\n",
       "1     0.034436\n",
       "8     0.011636\n",
       "7     0.011100\n",
       "9     0.002056\n",
       "10    0.001731\n",
       "12    0.000389\n",
       "11    0.000119\n",
       "16    0.000079\n",
       "14    0.000028\n",
       "15    0.000012\n",
       "Name: accommodates, dtype: float64"
      ]
     },
     "execution_count": 52,
     "metadata": {},
     "output_type": "execute_result"
    }
   ],
   "source": [
    "df_1.accommodates.value_counts(normalize=True)"
   ]
  },
  {
   "cell_type": "code",
   "execution_count": 53,
   "metadata": {},
   "outputs": [
    {
     "data": {
      "text/plain": [
       "<matplotlib.axes._subplots.AxesSubplot at 0x1ff01d9bac8>"
      ]
     },
     "execution_count": 53,
     "metadata": {},
     "output_type": "execute_result"
    },
    {
     "data": {
      "image/png": "[encoded data removed]",
      "text/plain": [
       "<Figure size 432x288 with 1 Axes>"
      ]
     },
     "metadata": {
      "needs_background": "light"
     },
     "output_type": "display_data"
    }
   ],
   "source": [
    "sns.distplot(df_1.accommodates)"
   ]
  },
  {
   "cell_type": "markdown",
   "metadata": {},
   "source": [
    "### Bathrooms"
   ]
  },
  {
   "cell_type": "code",
   "execution_count": 54,
   "metadata": {},
   "outputs": [
    {
     "data": {
      "text/plain": [
       "1.0     0.909387\n",
       "1.5     0.039109\n",
       "2.0     0.036636\n",
       "0.5     0.009711\n",
       "2.5     0.002561\n",
       "0.0     0.001481\n",
       "3.0     0.000842\n",
       "5.5     0.000079\n",
       "4.0     0.000056\n",
       "8.0     0.000040\n",
       "7.5     0.000040\n",
       "10.0    0.000040\n",
       "3.5     0.000020\n",
       "Name: bathrooms, dtype: float64"
      ]
     },
     "execution_count": 54,
     "metadata": {},
     "output_type": "execute_result"
    }
   ],
   "source": [
    "# Trecem 0 pt nulls \n",
    "df_1.bathrooms.fillna(0.0, inplace=True)\n",
    "# ce e cu valorile asstea dubioase?\n",
    "# I guess .5 is shared \n",
    "df_1.bathrooms.value_counts(normalize=True)"
   ]
  },
  {
   "cell_type": "code",
   "execution_count": 55,
   "metadata": {},
   "outputs": [
    {
     "data": {
      "text/plain": [
       "<matplotlib.axes._subplots.AxesSubplot at 0x1ff03fc3be0>"
      ]
     },
     "execution_count": 55,
     "metadata": {},
     "output_type": "execute_result"
    },
    {
     "data": {
      "image/png": "[encoded data removed]",
      "text/plain": [
       "<Figure size 432x288 with 1 Axes>"
      ]
     },
     "metadata": {
      "needs_background": "light"
     },
     "output_type": "display_data"
    }
   ],
   "source": [
    "sns.countplot(x='bathrooms', data=df)"
   ]
  },
  {
   "cell_type": "markdown",
   "metadata": {},
   "source": [
    "### Bedrooms"
   ]
  },
  {
   "cell_type": "code",
   "execution_count": 56,
   "metadata": {
    "scrolled": true
   },
   "outputs": [
    {
     "data": {
      "text/plain": [
       "1.0    0.602477\n",
       "2.0    0.250146\n",
       "3.0    0.095798\n",
       "4.0    0.024182\n",
       "0.0    0.023145\n",
       "5.0    0.003593\n",
       "6.0    0.000580\n",
       "7.0    0.000079\n",
       "Name: bedrooms, dtype: float64"
      ]
     },
     "execution_count": 56,
     "metadata": {},
     "output_type": "execute_result"
    }
   ],
   "source": [
    "df_1.bedrooms.fillna(0.0, inplace=True)\n",
    "df_1.bedrooms.value_counts(normalize=True)\n",
    "# Avem deja 0 deci nulls...trecem tot la 0?"
   ]
  },
  {
   "cell_type": "code",
   "execution_count": 57,
   "metadata": {},
   "outputs": [
    {
     "data": {
      "text/plain": [
       "<matplotlib.axes._subplots.AxesSubplot at 0x1ff0403c438>"
      ]
     },
     "execution_count": 57,
     "metadata": {},
     "output_type": "execute_result"
    },
    {
     "data": {
      "image/png": "[encoded data removed]",
      "text/plain": [
       "<Figure size 432x288 with 1 Axes>"
      ]
     },
     "metadata": {
      "needs_background": "light"
     },
     "output_type": "display_data"
    }
   ],
   "source": [
    "sns.countplot(x='bedrooms', data=df)"
   ]
  },
  {
   "cell_type": "markdown",
   "metadata": {},
   "source": [
    "### Beds and bed types"
   ]
  },
  {
   "cell_type": "code",
   "execution_count": 58,
   "metadata": {},
   "outputs": [
    {
     "data": {
      "text/plain": [
       "1.0     0.450102\n",
       "2.0     0.276880\n",
       "3.0     0.107521\n",
       "4.0     0.090716\n",
       "5.0     0.035020\n",
       "6.0     0.025242\n",
       "7.0     0.006154\n",
       "8.0     0.004693\n",
       "0.0     0.001846\n",
       "10.0    0.000869\n",
       "9.0     0.000730\n",
       "14.0    0.000067\n",
       "11.0    0.000064\n",
       "12.0    0.000064\n",
       "16.0    0.000032\n",
       "Name: beds, dtype: float64"
      ]
     },
     "execution_count": 58,
     "metadata": {},
     "output_type": "execute_result"
    }
   ],
   "source": [
    "df_1.beds.fillna(0.0, inplace=True)\n",
    "df_1.beds.value_counts(normalize=True)\n",
    "# Avem deja 0 deci nulls...trecem tot la 0?"
   ]
  },
  {
   "cell_type": "code",
   "execution_count": 59,
   "metadata": {},
   "outputs": [
    {
     "data": {
      "text/plain": [
       "<matplotlib.axes._subplots.AxesSubplot at 0x1ff0406f358>"
      ]
     },
     "execution_count": 59,
     "metadata": {},
     "output_type": "execute_result"
    },
    {
     "data": {
      "image/png": "[encoded data removed]",
      "text/plain": [
       "<Figure size 432x288 with 1 Axes>"
      ]
     },
     "metadata": {
      "needs_background": "light"
     },
     "output_type": "display_data"
    }
   ],
   "source": [
    "sns.countplot(x='beds', data=df)"
   ]
  },
  {
   "cell_type": "code",
   "execution_count": 60,
   "metadata": {},
   "outputs": [
    {
     "data": {
      "text/plain": [
       "Real Bed         0.982397\n",
       "Pull-out Sofa    0.010215\n",
       "Futon            0.004034\n",
       "Couch            0.001914\n",
       "Airbed           0.001441\n",
       "Name: bed_type, dtype: float64"
      ]
     },
     "execution_count": 60,
     "metadata": {},
     "output_type": "execute_result"
    }
   ],
   "source": [
    "df_1.bed_type.value_counts(normalize=True)\n",
    "# No nulls "
   ]
  },
  {
   "cell_type": "code",
   "execution_count": 61,
   "metadata": {},
   "outputs": [
    {
     "data": {
      "text/plain": [
       "<matplotlib.axes._subplots.AxesSubplot at 0x1ff0412e470>"
      ]
     },
     "execution_count": 61,
     "metadata": {},
     "output_type": "execute_result"
    },
    {
     "data": {
      "image/png": "[encoded data removed]",
      "text/plain": [
       "<Figure size 432x288 with 1 Axes>"
      ]
     },
     "metadata": {
      "needs_background": "light"
     },
     "output_type": "display_data"
    }
   ],
   "source": [
    "sns.countplot(x='bed_type', data=df)"
   ]
  },
  {
   "cell_type": "markdown",
   "metadata": {},
   "source": [
    "### Amenities"
   ]
  },
  {
   "cell_type": "code",
   "execution_count": 62,
   "metadata": {},
   "outputs": [
    {
     "data": {
      "text/plain": [
       "{}                                                                                                                                                                                                                                                                                                                                                                                                                                                                                                                                                                                                                                                                                                                                                                                                                                  0.002263\n",
       "{TV,Internet,Wifi,Kitchen,\"Buzzer/wireless intercom\",Heating,\"Family/kid friendly\",Washer,Dryer,Essentials}                                                                                                                                                                                                                                                                                                                                                                                                                                                                                                                                                                                                                                                                                                                         0.000564\n",
       "{TV,\"Cable TV\",Internet,Wifi,Kitchen,\"Buzzer/wireless intercom\",Heating,\"Family/kid friendly\",\"Smoke detector\",Essentials}                                                                                                                                                                                                                                                                                                                                                                                                                                                                                                                                                                                                                                                                                                          0.000556\n",
       "{TV,\"Cable TV\",Internet,Wifi,Kitchen,\"Buzzer/wireless intercom\",Heating,\"Family/kid friendly\",Washer,Dryer,\"Smoke detector\",Essentials}                                                                                                                                                                                                                                                                                                                                                                                                                                                                                                                                                                                                                                                                                             0.000544\n",
       "{Wifi,Kitchen,Heating,Essentials}                                                                                                                                                                                                                                                                                                                                                                                                                                                                                                                                                                                                                                                                                                                                                                                                   0.000528\n",
       "{TV,\"Cable TV\",Internet,Wifi,Kitchen,\"Buzzer/wireless intercom\",Heating,\"Family/kid friendly\",Washer,Essentials}                                                                                                                                                                                                                                                                                                                                                                                                                                                                                                                                                                                                                                                                                                                    0.000500\n",
       "{TV,Wifi,Kitchen,Heating,Essentials}                                                                                                                                                                                                                                                                                                                                                                                                                                                                                                                                                                                                                                                                                                                                                                                                0.000464\n",
       "{TV,\"Cable TV\",Internet,Wifi,Kitchen,\"Buzzer/wireless intercom\",Heating,\"Family/kid friendly\",Washer,Dryer,Essentials}                                                                                                                                                                                                                                                                                                                                                                                                                                                                                                                                                                                                                                                                                                              0.000461\n",
       "{TV,\"Cable TV\",Internet,Wifi,Kitchen,\"Buzzer/wireless intercom\",Heating,Washer,\"Smoke detector\",Essentials}                                                                                                                                                                                                                                                                                                                                                                                                                                                                                                                                                                                                                                                                                                                         0.000457\n",
       "{TV,Internet,Wifi,Kitchen,\"Buzzer/wireless intercom\",Heating,Washer,Essentials}                                                                                                                                                                                                                                                                                                                                                                                                                                                                                                                                                                                                                                                                                                                                                     0.000457\n",
       "{TV,\"Cable TV\",Internet,Wifi,Kitchen,\"Buzzer/wireless intercom\",Heating,\"Family/kid friendly\",Washer,Dryer,\"Smoke detector\",Essentials,Shampoo}                                                                                                                                                                                                                                                                                                                                                                                                                                                                                                                                                                                                                                                                                     0.000437\n",
       "{\"translation missing: en.hosting_amenity_49\",\"translation missing: en.hosting_amenity_50\"}                                                                                                                                                                                                                                                                                                                                                                                                                                                                                                                                                                                                                                                                                                                                         0.000417\n",
       "{Internet,Wifi,Kitchen,\"Buzzer/wireless intercom\",Heating,\"Family/kid friendly\",Washer,\"Smoke detector\",Essentials}                                                                                                                                                                                                                                                                                                                                                                                                                                                                                                                                                                                                                                                                                                                 0.000409\n",
       "{TV,\"Cable TV\",Internet,Wifi,Kitchen,\"Buzzer/wireless intercom\",Heating,Essentials}                                                                                                                                                                                                                                                                                                                                                                                                                                                                                                                                                                                                                                                                                                                                                 0.000397\n",
       "{\"Family/kid friendly\"}                                                                                                                                                                                                                                                                                                                                                                                                                                                                                                                                                                                                                                                                                                                                                                                                             0.000393\n",
       "{TV,\"Cable TV\",Internet,Wifi,Kitchen,\"Buzzer/wireless intercom\",Heating,\"Family/kid friendly\",Washer,\"Smoke detector\",Essentials}                                                                                                                                                                                                                                                                                                                                                                                                                                                                                                                                                                                                                                                                                                   0.000381\n",
       "{TV,\"Cable TV\",Internet,Wifi,Kitchen,\"Buzzer/wireless intercom\",Heating,Washer,Essentials}                                                                                                                                                                                                                                                                                                                                                                                                                                                                                                                                                                                                                                                                                                                                          0.000361\n",
       "{TV,Internet,Wifi,Kitchen,\"Buzzer/wireless intercom\",Heating,\"Family/kid friendly\",Washer}                                                                                                                                                                                                                                                                                                                                                                                                                                                                                                                                                                                                                                                                                                                                          0.000357\n",
       "{TV,Wifi,Kitchen,Heating,\"Family/kid friendly\",Washer,Essentials}                                                                                                                                                                                                                                                                                                                                                                                                                                                                                                                                                                                                                                                                                                                                                                   0.000357\n",
       "{TV,Internet,Wifi,Kitchen,\"Buzzer/wireless intercom\",Heating,\"Family/kid friendly\",Washer,\"Smoke detector\",Essentials}                                                                                                                                                                                                                                                                                                                                                                                                                                                                                                                                                                                                                                                                                                              0.000353\n",
       "{Wifi,Kitchen,Essentials}                                                                                                                                                                                                                                                                                                                                                                                                                                                                                                                                                                                                                                                                                                                                                                                                           0.000345\n",
       "{Internet,Wifi,Kitchen,\"Buzzer/wireless intercom\",Heating,Essentials}                                                                                                                                                                                                                                                                                                                                                                                                                                                                                                                                                                                                                                                                                                                                                               0.000326\n",
       "{TV,\"Cable TV\",Internet,Wifi,Kitchen,\"Free parking on premises\",\"Buzzer/wireless intercom\",Heating,\"Family/kid friendly\",Washer,\"Smoke detector\",Essentials}                                                                                                                                                                                                                                                                                                                                                                                                                                                                                                                                                                                                                                                                        0.000318\n",
       "{TV,Internet,Wifi,Kitchen,\"Buzzer/wireless intercom\",Heating,\"Family/kid friendly\",Washer,Dryer,\"Smoke detector\",Essentials}                                                                                                                                                                                                                                                                                                                                                                                                                                                                                                                                                                                                                                                                                                        0.000318\n",
       "{Internet,Wifi,Kitchen,\"Buzzer/wireless intercom\",Heating,Washer,Essentials}                                                                                                                                                                                                                                                                                                                                                                                                                                                                                                                                                                                                                                                                                                                                                        0.000314\n",
       "{TV,\"Cable TV\",Internet,Wifi,Kitchen,\"Buzzer/wireless intercom\",Heating,Washer,Dryer,\"Smoke detector\",Essentials}                                                                                                                                                                                                                                                                                                                                                                                                                                                                                                                                                                                                                                                                                                                   0.000310\n",
       "{TV,\"Cable TV\",Internet,Wifi,Kitchen,\"Free parking on premises\",\"Buzzer/wireless intercom\",Heating,\"Family/kid friendly\",Washer,\"Smoke detector\",Essentials,Shampoo}                                                                                                                                                                                                                                                                                                                                                                                                                                                                                                                                                                                                                                                                0.000302\n",
       "{TV,\"Cable TV\",Internet,Wifi,Kitchen,\"Free parking on premises\",\"Buzzer/wireless intercom\",Heating,Washer,\"Smoke detector\",Essentials}                                                                                                                                                                                                                                                                                                                                                                                                                                                                                                                                                                                                                                                                                              0.000298\n",
       "{TV,Internet,Wifi,Kitchen,Heating,\"Family/kid friendly\",Essentials}                                                                                                                                                                                                                                                                                                                                                                                                                                                                                                                                                                                                                                                                                                                                                                 0.000298\n",
       "{Internet,Wifi,Kitchen,\"Buzzer/wireless intercom\",Heating,\"Family/kid friendly\",Essentials}                                                                                                                                                                                                                                                                                                                                                                                                                                                                                                                                                                                                                                                                                                                                         0.000294\n",
       "                                                                                                                                                                                                                                                                                                                                                                                                                                                                                                                                                                                                                                                                                                                                                                                                                                      ...   \n",
       "{TV,\"Cable TV\",Wifi,Kitchen,\"Buzzer/wireless intercom\",Washer,Essentials,\"Laptop friendly workspace\"}                                                                                                                                                                                                                                                                                                                                                                                                                                                                                                                                                                                                                                                                                                                               0.000004\n",
       "{Internet,Wifi,Kitchen,Heating,Essentials,\"Hair dryer\",\"translation missing: en.hosting_amenity_49\",\"translation missing: en.hosting_amenity_50\"}                                                                                                                                                                                                                                                                                                                                                                                                                                                                                                                                                                                                                                                                                   0.000004\n",
       "{TV,Wifi,Kitchen,Elevator,Heating,\"Smoke detector\",\"Carbon monoxide detector\",Essentials,Hangers,\"Hair dryer\",\"Laptop friendly workspace\",\"Private entrance\",\"Hot water\"}                                                                                                                                                                                                                                                                                                                                                                                                                                                                                                                                                                                                                                                           0.000004\n",
       "{Wifi,Kitchen,\"Paid parking off premises\",Heating,\"Smoke detector\",Essentials,Hangers,\"Hair dryer\",\"Laptop friendly workspace\",\"Self check-in\",\"Smart lock\",\"Hot water\",\"Bed linens\",Microwave,Refrigerator,Dishwasher,\"Dishes and silverware\",\"Cooking basics\",Oven,Stove,\"Garden or backyard\",\"Well-lit path to entrance\"}                                                                                                                                                                                                                                                                                                                                                                                                                                                                                                        0.000004\n",
       "{Wifi,Kitchen,\"Paid parking off premises\",Elevator,Heating,Washer,Essentials,Shampoo,Hangers,\"Hair dryer\",\"Laptop friendly workspace\",\"translation missing: en.hosting_amenity_50\",\"Self check-in\",Lockbox,\"Hot water\",\"Bed linens\",Refrigerator,\"Dishes and silverware\",\"Cooking basics\",Oven,Stove,\"Patio or balcony\",\"Garden or backyard\"}                                                                                                                                                                                                                                                                                                                                                                                                                                                                                       0.000004\n",
       "{TV,Internet,Wifi,Kitchen,\"Paid parking off premises\",Heating,\"Family/kid friendly\",Washer,Dryer,\"Smoke detector\",\"First aid kit\",\"Fire extinguisher\",Essentials,Shampoo,Hangers,\"Hair dryer\",Iron,\"Laptop friendly workspace\",\"Baby bath\",\"Changing table\",\"High chair\",\"Children’s books and toys\",\"Window guards\",Crib,\"Children’s dinnerware\",\"Hot water\",\"Coffee maker\",Refrigerator,Dishwasher,\"Dishes and silverware\",\"Cooking basics\",Oven,Stove,\"Garden or backyard\",Other}                                                                                                                                                                                                                                                                                                                                                0.000004\n",
       "{Wifi,Kitchen,\"Paid parking off premises\",Essentials,Hangers,Iron,\"Laptop friendly workspace\",\"Self check-in\",Lockbox,\"Hot water\"}                                                                                                                                                                                                                                                                                                                                                                                                                                                                                                                                                                                                                                                                                                  0.000004\n",
       "{TV,Wifi,Kitchen,\"Free parking on premises\",Heating,Washer,\"Smoke detector\",\"Fire extinguisher\",Essentials,Shampoo,\"Lock on bedroom door\",Hangers}                                                                                                                                                                                                                                                                                                                                                                                                                                                                                                                                                                                                                                                                                  0.000004\n",
       "{TV,Wifi,Kitchen,\"Paid parking off premises\",\"Pets allowed\",Heating,\"Family/kid friendly\",Washer,Dryer,\"Smoke detector\",\"First aid kit\",\"Fire extinguisher\",Essentials,Hangers,\"Hair dryer\",Iron,\"Laptop friendly workspace\",\"Private entrance\",\"High chair\",\"Children’s books and toys\",\"Hot water\",\"Host greets you\"}                                                                                                                                                                                                                                                                                                                                                                                                                                                                                                             0.000004\n",
       "{Internet,Wifi,Kitchen,\"Free parking on premises\",Elevator,\"Buzzer/wireless intercom\",Heating,\"Smoke detector\",Essentials,Shampoo,\"Hair dryer\",Iron,\"Laptop friendly workspace\",\"translation missing: en.hosting_amenity_49\",\"translation missing: en.hosting_amenity_50\",Refrigerator,\"Dishes and silverware\",\"Cooking basics\",Oven,Stove,\"Patio or balcony\"}                                                                                                                                                                                                                                                                                                                                                                                                                                                                      0.000004\n",
       "{TV,\"Cable TV\",Wifi,Kitchen,\"Free street parking\",Heating,Washer,Essentials,Hangers,\"Hair dryer\",Iron,\"Laptop friendly workspace\",\"Hot water\",\"Bed linens\",\"Extra pillows and blankets\",\"Ethernet connection\",\"Coffee maker\",Refrigerator,Dishwasher,\"Dishes and silverware\",\"Cooking basics\",Oven,Stove,\"Garden or backyard\",Other}                                                                                                                                                                                                                                                                                                                                                                                                                                                                                                0.000004\n",
       "{TV,Wifi,Kitchen,Heating,\"Smoke detector\",Essentials,\"Lock on bedroom door\",\"Laptop friendly workspace\"}                                                                                                                                                                                                                                                                                                                                                                                                                                                                                                                                                                                                                                                                                                                            0.000004\n",
       "{TV,\"Cable TV\",Internet,Wifi,Kitchen,\"Buzzer/wireless intercom\",Heating,\"Family/kid friendly\",Washer,Dryer,\"Smoke detector\",\"First aid kit\",Essentials,Hangers,\"Hair dryer\",Iron,\"Laptop friendly workspace\",\"High chair\",\"Children’s books and toys\",Crib,\"Hot water\",\"Luggage dropoff allowed\",\"Host greets you\",\"Paid parking on premises\"}                                                                                                                                                                                                                                                                                                                                                                                                                                                                                      0.000004\n",
       "{TV,Wifi,Kitchen,\"Pets allowed\",\"Free street parking\",Heating,Washer,\"Smoke detector\",Essentials,Shampoo,Hangers,Iron,\"Laptop friendly workspace\",\"Self check-in\",Lockbox,\"Private entrance\"}                                                                                                                                                                                                                                                                                                                                                                                                                                                                                                                                                                                                                                       0.000004\n",
       "{TV,Internet,Wifi,\"Wheelchair accessible\",Kitchen,\"Free parking on premises\",\"Pets allowed\",Heating,\"Family/kid friendly\",Washer,Dryer,\"Fire extinguisher\",Essentials,Hangers,Iron,Bathtub,\"Baby bath\",\"Changing table\",\"High chair\",\"Children’s books and toys\",\"Room-darkening shades\",\"Children’s dinnerware\"}                                                                                                                                                                                                                                                                                                                                                                                                                                                                                                                   0.000004\n",
       "{Wifi,Elevator,Heating,\"Smoke detector\",\"Carbon monoxide detector\",\"Fire extinguisher\",Essentials,Shampoo,\"Hair dryer\",\"Laptop friendly workspace\",\"translation missing: en.hosting_amenity_49\",\"translation missing: en.hosting_amenity_50\",\"Hot water\",\"Bed linens\",\"Garden or backyard\",\"Luggage dropoff allowed\",\"Long term stays allowed\"}                                                                                                                                                                                                                                                                                                                                                                                                                                                                                     0.000004\n",
       "{TV,Wifi,Kitchen,\"Smoking allowed\",Heating,Washer,\"Smoke detector\",Essentials,Iron,\"Laptop friendly workspace\"}                                                                                                                                                                                                                                                                                                                                                                                                                                                                                                                                                                                                                                                                                                                     0.000004\n",
       "{TV,Internet,Wifi,Kitchen,\"Free parking on premises\",Elevator,\"Buzzer/wireless intercom\",Heating,Washer,Dryer,Essentials,\"24-hour check-in\",Hangers,Iron}                                                                                                                                                                                                                                                                                                                                                                                                                                                                                                                                                                                                                                                                           0.000004\n",
       "{Wifi,Kitchen,\"Smoking allowed\",Heating,Washer,\"Smoke detector\",\"Fire extinguisher\",Essentials,Hangers,\"Hair dryer\",\"Laptop friendly workspace\",\"Private entrance\",\"Host greets you\"}                                                                                                                                                                                                                                                                                                                                                                                                                                                                                                                                                                                                                                               0.000004\n",
       "{Internet,Wifi,Kitchen,\"Free parking on premises\",\"Free street parking\",\"Buzzer/wireless intercom\",Heating,\"Family/kid friendly\",\"Smoke detector\",\"Carbon monoxide detector\",Essentials,Shampoo,\"24-hour check-in\",Hangers,\"Hair dryer\",Iron,\"Hot water\",\"Long term stays allowed\",\"Host greets you\"}                                                                                                                                                                                                                                                                                                                                                                                                                                                                                                                               0.000004\n",
       "{Wifi,Kitchen,\"Smoking allowed\",Heating,\"Family/kid friendly\",Washer,\"Smoke detector\",Essentials,Shampoo,\"Hair dryer\",\"Laptop friendly workspace\"}                                                                                                                                                                                                                                                                                                                                                                                                                                                                                                                                                                                                                                                                                  0.000004\n",
       "{TV,\"Cable TV\",Wifi,Kitchen,\"Paid parking off premises\",Gym,Heating,\"Family/kid friendly\",Washer,Dryer,\"Smoke detector\",\"Carbon monoxide detector\",\"First aid kit\",\"Fire extinguisher\",Essentials,Shampoo,Hangers,\"Laptop friendly workspace\",\"Self check-in\",Keypad,\"Room-darkening shades\",\"Game console\",\"Coffee maker\",Refrigerator,Dishwasher,\"Dishes and silverware\",\"Cooking basics\",Oven,Stove,\"Patio or balcony\",\"Wide doorway\",\"Flat path to front door\",\"Well-lit path to entrance\",\"Step-free access\",\"Wide doorway\",\"Wide clearance to bed\",\"Step-free access\",\"Wide clearance to shower, toilet\",\"Wide entryway\",\"Handheld shower head\"}                                                                                                                                                                              0.000004\n",
       "{TV,Wifi,Kitchen,\"Buzzer/wireless intercom\",Heating,Washer,Essentials,Iron,\"Laptop friendly workspace\",\"Host greets you\"}                                                                                                                                                                                                                                                                                                                                                                                                                                                                                                                                                                                                                                                                                                           0.000004\n",
       "{TV,Internet,Wifi,Kitchen,\"Buzzer/wireless intercom\",Heating,Washer,Dryer,\"Smoke detector\",Essentials,Shampoo,\"Lock on bedroom door\",Hangers,\"Hair dryer\",Iron,\"Laptop friendly workspace\",\"Private entrance\",\"High chair\"}                                                                                                                                                                                                                                                                                                                                                                                                                                                                                                                                                                                                         0.000004\n",
       "{TV,\"Cable TV\",Internet,Wifi,Kitchen,\"Paid parking off premises\",Elevator,\"Buzzer/wireless intercom\",Heating,\"Family/kid friendly\",Washer,Dryer,\"Smoke detector\",Essentials,Shampoo,Hangers,\"Hair dryer\",Iron,\"Laptop friendly workspace\",\"Private entrance\",\"High chair\",\"Pack ’n Play/travel crib\",\"Hot water\",\"Long term stays allowed\",\"Host greets you\"}                                                                                                                                                                                                                                                                                                                                                                                                                                                                       0.000004\n",
       "{Wifi,Kitchen,Heating,\"Smoke detector\",Essentials,Shampoo,\"Hair dryer\",\"Private living room\",Other}                                                                                                                                                                                                                                                                                                                                                                                                                                                                                                                                                                                                                                                                                                                                 0.000004\n",
       "{TV,Wifi,Kitchen,\"Pets allowed\",Breakfast,Elevator,\"Free street parking\",Heating,Washer,Dryer,\"Smoke detector\",Essentials,Shampoo,\"Lock on bedroom door\",Hangers,\"Hair dryer\",Iron,\"Laptop friendly workspace\",\"Private entrance\",\"Baby bath\",\"High chair\",\"Children’s books and toys\",\"Room-darkening shades\",\"Children’s dinnerware\",\"Hot water\",\"Bed linens\",Microwave,\"Coffee maker\",Refrigerator,Dishwasher,\"Dishes and silverware\",\"Cooking basics\",Oven,Stove,\"Patio or balcony\",\"Luggage dropoff allowed\",\"Wide hallway clearance\",\"Wide doorway\",\"Flat path to front door\",\"Well-lit path to entrance\",\"Step-free access\",\"Wide doorway\",\"Wide clearance to bed\",\"Accessible-height bed\",\"Step-free access\",\"Wide doorway\",\"Step-free access\",\"Wide entryway\",Other,Waterfront,\"Handheld shower head\",\"Roll-in shower\"}    0.000004\n",
       "{TV,Wifi,Kitchen,\"Free parking on premises\",Heating,Washer,\"Smoke detector\",Essentials,\"Laptop friendly workspace\",\"Private living room\"}                                                                                                                                                                                                                                                                                                                                                                                                                                                                                                                                                                                                                                                                                           0.000004\n",
       "{TV,Wifi,Kitchen,\"Smoking allowed\",Heating,\"Family/kid friendly\",Washer,\"Smoke detector\",Essentials,Shampoo,Hangers,\"Hair dryer\",Iron,\"Laptop friendly workspace\",\"Private living room\",\"Private entrance\",\"Hot water\",\"Bed linens\",Microwave,\"Coffee maker\",Refrigerator,Dishwasher,\"Dishes and silverware\",\"Cooking basics\",Oven,Stove,\"Patio or balcony\",\"Luggage dropoff allowed\",\"Wide hallway clearance\"}                                                                                                                                                                                                                                                                                                                                                                                                                     0.000004\n",
       "{TV,Wifi,Kitchen,\"Buzzer/wireless intercom\",Heating,Washer,\"Smoke detector\",Essentials,\"Hair dryer\",Iron,\"Laptop friendly workspace\",\"Private living room\",\"Hot water\",\"Bed linens\",Refrigerator,Dishwasher,\"Dishes and silverware\",\"Cooking basics\",Oven,Stove,\"Host greets you\"}                                                                                                                                                                                                                                                                                                                                                                                                                                                                                                                                                  0.000004\n",
       "Name: amenities, Length: 36218, dtype: float64"
      ]
     },
     "execution_count": 62,
     "metadata": {},
     "output_type": "execute_result"
    }
   ],
   "source": [
    "df_1.amenities.value_counts(normalize=True)\n",
    "# No nulls; probabil redundant "
   ]
  },
  {
   "cell_type": "markdown",
   "metadata": {},
   "source": [
    "### Surface (sqft)"
   ]
  },
  {
   "cell_type": "code",
   "execution_count": 63,
   "metadata": {},
   "outputs": [
    {
     "data": {
      "text/plain": [
       "0.0       0.220963\n",
       "1076.0    0.033994\n",
       "753.0     0.028565\n",
       "861.0     0.028565\n",
       "969.0     0.027856\n",
       "1023.0    0.024315\n",
       "646.0     0.023607\n",
       "807.0     0.020066\n",
       "161.0     0.019830\n",
       "1399.0    0.018886\n",
       "1184.0    0.018650\n",
       "1615.0    0.018178\n",
       "484.0     0.017705\n",
       "1292.0    0.017469\n",
       "915.0     0.017233\n",
       "990.0     0.016289\n",
       "538.0     0.014400\n",
       "700.0     0.012276\n",
       "883.0     0.011804\n",
       "1507.0    0.011095\n",
       "603.0     0.010387\n",
       "151.0     0.009443\n",
       "904.0     0.009443\n",
       "1206.0    0.009443\n",
       "936.0     0.009207\n",
       "1345.0    0.008735\n",
       "172.0     0.008499\n",
       "129.0     0.007790\n",
       "215.0     0.007790\n",
       "775.0     0.007554\n",
       "            ...   \n",
       "2067.0    0.002361\n",
       "1432.0    0.002361\n",
       "1561.0    0.002361\n",
       "37.0      0.002361\n",
       "1733.0    0.002361\n",
       "69.0      0.002361\n",
       "50.0      0.001889\n",
       "15.0      0.001889\n",
       "1475.0    0.001889\n",
       "570.0     0.001889\n",
       "1442.0    0.001653\n",
       "645.0     0.001653\n",
       "65.0      0.001416\n",
       "1050.0    0.001416\n",
       "1163.0    0.001180\n",
       "2422.0    0.001180\n",
       "1636.0    0.001180\n",
       "61.0      0.001180\n",
       "76.0      0.000944\n",
       "145.0     0.000944\n",
       "1367.0    0.000944\n",
       "60.0      0.000944\n",
       "1410.0    0.000708\n",
       "1087.0    0.000472\n",
       "237.0     0.000236\n",
       "3229.0    0.000236\n",
       "70.0      0.000236\n",
       "197.0     0.000236\n",
       "452.0     0.000236\n",
       "377.0     0.000236\n",
       "Name: square_feet, Length: 135, dtype: float64"
      ]
     },
     "execution_count": 63,
     "metadata": {},
     "output_type": "execute_result"
    }
   ],
   "source": [
    "df_1.square_feet.value_counts(normalize=True)\n",
    "# Prea multe nulls. Trebuie eliminat "
   ]
  },
  {
   "cell_type": "code",
   "execution_count": 64,
   "metadata": {},
   "outputs": [
    {
     "name": "stdout",
     "output_type": "stream",
     "text": [
      "NaNs in size_column absolute:      208559\n",
      "NaNs in size_column in percentage: 0.794 %\n",
      "NaNs in sqft absolute:      258178\n",
      "NaNs in sqft in percentage: 0.983 %\n"
     ]
    }
   ],
   "source": [
    "re_expression = r\"(\\d{2,3}\\[sS]?squared?\\smet..s|\\d{2,3}\\sS?[sqSQ].?m|\\d{2,3}\\s?[mM].?2|\\d{2,3}\\s?[mM]et..s\\s[sS]quare.|\\d{2,3}\\s?[sS]quare.?m)\"\n",
    "# extract numbers \n",
    "import re\n",
    "df['size'] = df['description'].str.extract(re_expression, expand=True)\n",
    "df['size'] = df['size'].str.replace(\"\\D\", \"\")\n",
    "\n",
    "# change datatype of size into float\n",
    "df['size'] = df['size'].astype(float)\n",
    "\n",
    "print('NaNs in size_column absolute:     ', df['size'].isna().sum())\n",
    "print('NaNs in size_column in percentage:', round(df['size'].isna().sum()/len(df),3), '%')\n",
    "\n",
    "print('NaNs in sqft absolute:     ', df['square_feet'].isna().sum())\n",
    "print('NaNs in sqft in percentage:', round(df['square_feet'].isna().sum()/len(df),3), '%')"
   ]
  },
  {
   "cell_type": "markdown",
   "metadata": {},
   "source": [
    "### Extra people"
   ]
  },
  {
   "cell_type": "code",
   "execution_count": 65,
   "metadata": {},
   "outputs": [
    {
     "data": {
      "text/plain": [
       "<matplotlib.axes._subplots.AxesSubplot at 0x1ff0acd55f8>"
      ]
     },
     "execution_count": 65,
     "metadata": {},
     "output_type": "execute_result"
    },
    {
     "data": {
      "image/png": "[encoded data removed]",
      "text/plain": [
       "<Figure size 432x288 with 1 Axes>"
      ]
     },
     "metadata": {
      "needs_background": "light"
     },
     "output_type": "display_data"
    }
   ],
   "source": [
    "sns.distplot(df_1.extra_people)"
   ]
  },
  {
   "cell_type": "code",
   "execution_count": 66,
   "metadata": {},
   "outputs": [
    {
     "data": {
      "image/png": "[encoded data removed]",
      "text/plain": [
       "<Figure size 1152x144 with 1 Axes>"
      ]
     },
     "metadata": {
      "needs_background": "light"
     },
     "output_type": "display_data"
    }
   ],
   "source": [
    "df_1['extra_people'].plot(kind='box', xlim=(0, 2500), vert=False, flierprops=red, figsize=(16,2));"
   ]
  },
  {
   "cell_type": "code",
   "execution_count": 67,
   "metadata": {},
   "outputs": [],
   "source": [
    "df_1.drop(df_1[ (df_1.extra_people > 700)].index, axis=0, inplace=True)"
   ]
  },
  {
   "cell_type": "markdown",
   "metadata": {},
   "source": [
    "### Security deposit"
   ]
  },
  {
   "cell_type": "code",
   "execution_count": 68,
   "metadata": {},
   "outputs": [
    {
     "data": {
      "text/plain": [
       "<matplotlib.axes._subplots.AxesSubplot at 0x1ff0021aef0>"
      ]
     },
     "execution_count": 68,
     "metadata": {},
     "output_type": "execute_result"
    },
    {
     "data": {
      "image/png": "[encoded data removed]",
      "text/plain": [
       "<Figure size 432x288 with 1 Axes>"
      ]
     },
     "metadata": {
      "needs_background": "light"
     },
     "output_type": "display_data"
    }
   ],
   "source": [
    "sns.distplot(df_1.security_deposit)"
   ]
  },
  {
   "cell_type": "code",
   "execution_count": 69,
   "metadata": {},
   "outputs": [
    {
     "data": {
      "image/png": "[encoded data removed]",
      "text/plain": [
       "<Figure size 1152x144 with 1 Axes>"
      ]
     },
     "metadata": {
      "needs_background": "light"
     },
     "output_type": "display_data"
    }
   ],
   "source": [
    "df_1['security_deposit'].plot(kind='box', xlim=(0, 40000), vert=False, flierprops=red, figsize=(16,2));"
   ]
  },
  {
   "cell_type": "code",
   "execution_count": 70,
   "metadata": {},
   "outputs": [],
   "source": [
    "df_1.drop(df_1[ (df_1.security_deposit > 5000) ].index, axis=0, inplace=True)"
   ]
  },
  {
   "cell_type": "markdown",
   "metadata": {},
   "source": [
    "### Cleaning fee"
   ]
  },
  {
   "cell_type": "code",
   "execution_count": 71,
   "metadata": {},
   "outputs": [
    {
     "data": {
      "text/plain": [
       "<matplotlib.axes._subplots.AxesSubplot at 0x1ff04255390>"
      ]
     },
     "execution_count": 71,
     "metadata": {},
     "output_type": "execute_result"
    },
    {
     "data": {
      "image/png": "[encoded data removed]",
      "text/plain": [
       "<Figure size 432x288 with 1 Axes>"
      ]
     },
     "metadata": {
      "needs_background": "light"
     },
     "output_type": "display_data"
    }
   ],
   "source": [
    "sns.distplot(df_1.cleaning_fee)"
   ]
  },
  {
   "cell_type": "code",
   "execution_count": 72,
   "metadata": {},
   "outputs": [
    {
     "data": {
      "image/png": "[encoded data removed]",
      "text/plain": [
       "<Figure size 1152x144 with 1 Axes>"
      ]
     },
     "metadata": {
      "needs_background": "light"
     },
     "output_type": "display_data"
    }
   ],
   "source": [
    "df_1['cleaning_fee'].plot(kind='box', xlim=(0, 4100), vert=False, flierprops=red, figsize=(16,2));"
   ]
  },
  {
   "cell_type": "code",
   "execution_count": 73,
   "metadata": {},
   "outputs": [],
   "source": [
    "df_1.drop(df_1[ (df_1.cleaning_fee > 1000) ].index, axis=0, inplace=True)"
   ]
  },
  {
   "cell_type": "markdown",
   "metadata": {},
   "source": [
    "### Guests included"
   ]
  },
  {
   "cell_type": "code",
   "execution_count": 74,
   "metadata": {},
   "outputs": [
    {
     "data": {
      "text/plain": [
       "1     0.712831\n",
       "2     0.189227\n",
       "4     0.055043\n",
       "3     0.025702\n",
       "5     0.008883\n",
       "6     0.006608\n",
       "7     0.000790\n",
       "8     0.000765\n",
       "15    0.000041\n",
       "11    0.000041\n",
       "9     0.000024\n",
       "10    0.000020\n",
       "13    0.000012\n",
       "12    0.000008\n",
       "41    0.000004\n",
       "Name: guests_included, dtype: float64"
      ]
     },
     "execution_count": 74,
     "metadata": {},
     "output_type": "execute_result"
    }
   ],
   "source": [
    "df_1.guests_included.value_counts(normalize=True)"
   ]
  },
  {
   "cell_type": "code",
   "execution_count": 75,
   "metadata": {},
   "outputs": [
    {
     "data": {
      "text/plain": [
       "<matplotlib.axes._subplots.AxesSubplot at 0x1ff04649e80>"
      ]
     },
     "execution_count": 75,
     "metadata": {},
     "output_type": "execute_result"
    },
    {
     "data": {
      "image/png": "[encoded data removed]",
      "text/plain": [
       "<Figure size 432x288 with 1 Axes>"
      ]
     },
     "metadata": {
      "needs_background": "light"
     },
     "output_type": "display_data"
    }
   ],
   "source": [
    "sns.distplot(df_1.guests_included)"
   ]
  },
  {
   "cell_type": "code",
   "execution_count": 76,
   "metadata": {},
   "outputs": [
    {
     "data": {
      "text/plain": [
       "<matplotlib.axes._subplots.AxesSubplot at 0x1ff046e32b0>"
      ]
     },
     "execution_count": 76,
     "metadata": {},
     "output_type": "execute_result"
    },
    {
     "data": {
      "image/png": "[encoded data removed]",
      "text/plain": [
       "<Figure size 432x288 with 1 Axes>"
      ]
     },
     "metadata": {
      "needs_background": "light"
     },
     "output_type": "display_data"
    }
   ],
   "source": [
    "sns.countplot(x='guests_included', data=df)"
   ]
  },
  {
   "cell_type": "markdown",
   "metadata": {},
   "source": [
    "### Minimum nights"
   ]
  },
  {
   "cell_type": "code",
   "execution_count": 77,
   "metadata": {},
   "outputs": [
    {
     "data": {
      "text/plain": [
       "2       0.311577\n",
       "3       0.227167\n",
       "1       0.196715\n",
       "4       0.106768\n",
       "5       0.075974\n",
       "7       0.032126\n",
       "6       0.021749\n",
       "10      0.006148\n",
       "14      0.005781\n",
       "30      0.003200\n",
       "20      0.001633\n",
       "8       0.001543\n",
       "15      0.001128\n",
       "12      0.000985\n",
       "9       0.000867\n",
       "21      0.000855\n",
       "13      0.000550\n",
       "90      0.000403\n",
       "11      0.000338\n",
       "25      0.000322\n",
       "28      0.000273\n",
       "29      0.000261\n",
       "60      0.000224\n",
       "100     0.000224\n",
       "50      0.000220\n",
       "40      0.000199\n",
       "16      0.000175\n",
       "19      0.000167\n",
       "18      0.000159\n",
       "22      0.000155\n",
       "          ...   \n",
       "360     0.000053\n",
       "26      0.000049\n",
       "17      0.000045\n",
       "75      0.000045\n",
       "430     0.000041\n",
       "300     0.000041\n",
       "42      0.000041\n",
       "102     0.000041\n",
       "92      0.000041\n",
       "135     0.000041\n",
       "1000    0.000041\n",
       "51      0.000033\n",
       "89      0.000033\n",
       "1100    0.000033\n",
       "130     0.000028\n",
       "39      0.000028\n",
       "58      0.000024\n",
       "88      0.000020\n",
       "54      0.000020\n",
       "160     0.000020\n",
       "59      0.000016\n",
       "57      0.000012\n",
       "183     0.000012\n",
       "62      0.000008\n",
       "37      0.000008\n",
       "1124    0.000008\n",
       "70      0.000004\n",
       "168     0.000004\n",
       "241     0.000004\n",
       "35      0.000004\n",
       "Name: minimum_nights, Length: 73, dtype: float64"
      ]
     },
     "execution_count": 77,
     "metadata": {},
     "output_type": "execute_result"
    }
   ],
   "source": [
    "df_1.minimum_nights.value_counts(normalize=True)"
   ]
  },
  {
   "cell_type": "code",
   "execution_count": 78,
   "metadata": {},
   "outputs": [
    {
     "data": {
      "text/plain": [
       "<matplotlib.axes._subplots.AxesSubplot at 0x1ff04700cc0>"
      ]
     },
     "execution_count": 78,
     "metadata": {},
     "output_type": "execute_result"
    },
    {
     "data": {
      "image/png": "[encoded data removed]",
      "text/plain": [
       "<Figure size 432x288 with 1 Axes>"
      ]
     },
     "metadata": {
      "needs_background": "light"
     },
     "output_type": "display_data"
    }
   ],
   "source": [
    "sns.distplot(df_1.minimum_nights)"
   ]
  },
  {
   "cell_type": "code",
   "execution_count": 79,
   "metadata": {},
   "outputs": [
    {
     "data": {
      "image/png": "[encoded data removed]",
      "text/plain": [
       "<Figure size 1152x144 with 1 Axes>"
      ]
     },
     "metadata": {
      "needs_background": "light"
     },
     "output_type": "display_data"
    }
   ],
   "source": [
    "df_1['minimum_nights'].plot(kind='box', xlim=(0, 1200), vert=False, flierprops=red, figsize=(16,2));"
   ]
  },
  {
   "cell_type": "code",
   "execution_count": 80,
   "metadata": {},
   "outputs": [],
   "source": [
    "df_1.drop(df_1[ (df_1.minimum_nights > 200) | (df_1.minimum_nights == 0) ].index, axis=0, inplace=True)"
   ]
  },
  {
   "cell_type": "markdown",
   "metadata": {},
   "source": [
    "### Maximum nights"
   ]
  },
  {
   "cell_type": "code",
   "execution_count": 81,
   "metadata": {},
   "outputs": [
    {
     "data": {
      "text/plain": [
       "1125    0.529281\n",
       "14      0.071544\n",
       "7       0.057431\n",
       "30      0.051227\n",
       "10      0.030670\n",
       "21      0.026251\n",
       "20      0.018981\n",
       "8       0.013519\n",
       "5       0.012802\n",
       "6       0.011983\n",
       "15      0.011633\n",
       "1124    0.011531\n",
       "60      0.011388\n",
       "31      0.010403\n",
       "12      0.009091\n",
       "4       0.008989\n",
       "3       0.007833\n",
       "28      0.006993\n",
       "9       0.006737\n",
       "90      0.005743\n",
       "25      0.005495\n",
       "13      0.005372\n",
       "40      0.004994\n",
       "365     0.004766\n",
       "16      0.004713\n",
       "100     0.004427\n",
       "2       0.003804\n",
       "18      0.003540\n",
       "35      0.003242\n",
       "50      0.002933\n",
       "          ...   \n",
       "125     0.000033\n",
       "1011    0.000033\n",
       "160     0.000029\n",
       "109     0.000029\n",
       "364     0.000029\n",
       "170     0.000029\n",
       "215     0.000029\n",
       "2000    0.000024\n",
       "79      0.000024\n",
       "73      0.000024\n",
       "725     0.000020\n",
       "1090    0.000020\n",
       "136     0.000020\n",
       "3000    0.000020\n",
       "54      0.000020\n",
       "175     0.000016\n",
       "87      0.000016\n",
       "3500    0.000016\n",
       "366     0.000016\n",
       "380     0.000016\n",
       "122     0.000016\n",
       "115     0.000012\n",
       "84      0.000012\n",
       "155     0.000008\n",
       "370     0.000008\n",
       "111     0.000008\n",
       "320     0.000008\n",
       "270     0.000008\n",
       "314     0.000008\n",
       "353     0.000004\n",
       "Name: maximum_nights, Length: 167, dtype: float64"
      ]
     },
     "execution_count": 81,
     "metadata": {},
     "output_type": "execute_result"
    }
   ],
   "source": [
    "df_1.maximum_nights.value_counts(normalize=True)"
   ]
  },
  {
   "cell_type": "code",
   "execution_count": 82,
   "metadata": {},
   "outputs": [
    {
     "data": {
      "text/plain": [
       "<matplotlib.axes._subplots.AxesSubplot at 0x1ff0a2427b8>"
      ]
     },
     "execution_count": 82,
     "metadata": {},
     "output_type": "execute_result"
    },
    {
     "data": {
      "image/png": "[encoded data removed]",
      "text/plain": [
       "<Figure size 432x288 with 1 Axes>"
      ]
     },
     "metadata": {
      "needs_background": "light"
     },
     "output_type": "display_data"
    }
   ],
   "source": [
    "sns.distplot(df_1.maximum_nights)"
   ]
  },
  {
   "cell_type": "code",
   "execution_count": 83,
   "metadata": {},
   "outputs": [
    {
     "data": {
      "image/png": "[encoded data removed]",
      "text/plain": [
       "<Figure size 1152x144 with 1 Axes>"
      ]
     },
     "metadata": {
      "needs_background": "light"
     },
     "output_type": "display_data"
    }
   ],
   "source": [
    "df_1['maximum_nights'].plot(kind='box', xlim=(0, 10000), vert=False, flierprops=red, figsize=(16,2));"
   ]
  },
  {
   "cell_type": "markdown",
   "metadata": {},
   "source": [
    "### Number of reviews"
   ]
  },
  {
   "cell_type": "code",
   "execution_count": 84,
   "metadata": {},
   "outputs": [
    {
     "data": {
      "text/plain": [
       "<matplotlib.axes._subplots.AxesSubplot at 0x1ff0b88b390>"
      ]
     },
     "execution_count": 84,
     "metadata": {},
     "output_type": "execute_result"
    },
    {
     "data": {
      "image/png": "[encoded data removed]",
      "text/plain": [
       "<Figure size 432x288 with 1 Axes>"
      ]
     },
     "metadata": {
      "needs_background": "light"
     },
     "output_type": "display_data"
    }
   ],
   "source": [
    "sns.distplot(df_1.number_of_reviews)"
   ]
  },
  {
   "cell_type": "code",
   "execution_count": 85,
   "metadata": {},
   "outputs": [
    {
     "data": {
      "image/png": "[encoded data removed]",
      "text/plain": [
       "<Figure size 1152x144 with 1 Axes>"
      ]
     },
     "metadata": {
      "needs_background": "light"
     },
     "output_type": "display_data"
    }
   ],
   "source": [
    "df_1['number_of_reviews'].plot(kind='box', xlim=(0, 600), vert=False, flierprops=red, figsize=(16,2));"
   ]
  },
  {
   "cell_type": "markdown",
   "metadata": {},
   "source": [
    "### Review scores"
   ]
  },
  {
   "cell_type": "code",
   "execution_count": 86,
   "metadata": {},
   "outputs": [
    {
     "data": {
      "text/plain": [
       "100.0    0.326660\n",
       "98.0     0.083223\n",
       "96.0     0.073854\n",
       "97.0     0.072923\n",
       "93.0     0.069691\n",
       "95.0     0.066948\n",
       "90.0     0.056677\n",
       "94.0     0.038693\n",
       "80.0     0.037929\n",
       "99.0     0.035176\n",
       "92.0     0.029063\n",
       "91.0     0.023201\n",
       "87.0     0.018245\n",
       "89.0     0.014792\n",
       "88.0     0.012916\n",
       "85.0     0.008039\n",
       "84.0     0.005310\n",
       "86.0     0.004842\n",
       "60.0     0.004576\n",
       "83.0     0.003936\n",
       "70.0     0.002606\n",
       "73.0     0.001813\n",
       "82.0     0.001315\n",
       "20.0     0.001064\n",
       "40.0     0.000877\n",
       "67.0     0.000808\n",
       "75.0     0.000768\n",
       "81.0     0.000665\n",
       "77.0     0.000655\n",
       "78.0     0.000557\n",
       "76.0     0.000498\n",
       "71.0     0.000330\n",
       "79.0     0.000325\n",
       "74.0     0.000182\n",
       "50.0     0.000163\n",
       "65.0     0.000158\n",
       "72.0     0.000148\n",
       "68.0     0.000084\n",
       "53.0     0.000059\n",
       "64.0     0.000054\n",
       "66.0     0.000049\n",
       "69.0     0.000039\n",
       "30.0     0.000039\n",
       "48.0     0.000020\n",
       "55.0     0.000020\n",
       "63.0     0.000010\n",
       "Name: review_scores_rating, dtype: float64"
      ]
     },
     "execution_count": 86,
     "metadata": {},
     "output_type": "execute_result"
    }
   ],
   "source": [
    "df_1.review_scores_rating.value_counts(normalize=True)"
   ]
  },
  {
   "cell_type": "code",
   "execution_count": 87,
   "metadata": {},
   "outputs": [
    {
     "data": {
      "text/plain": [
       "42505"
      ]
     },
     "execution_count": 87,
     "metadata": {},
     "output_type": "execute_result"
    }
   ],
   "source": [
    "df_1.review_scores_rating.isna().sum()"
   ]
  },
  {
   "cell_type": "code",
   "execution_count": 88,
   "metadata": {},
   "outputs": [],
   "source": [
    "# Trecem 0 pt nulls \n",
    "df_1.review_scores_rating.fillna(0.0, inplace=True)"
   ]
  },
  {
   "cell_type": "code",
   "execution_count": 89,
   "metadata": {
    "scrolled": true
   },
   "outputs": [
    {
     "data": {
      "text/plain": [
       "100.0    0.270107\n",
       "0.0      0.173127\n",
       "98.0     0.068815\n",
       "96.0     0.061068\n",
       "97.0     0.060298\n",
       "93.0     0.057626\n",
       "95.0     0.055357\n",
       "90.0     0.046865\n",
       "94.0     0.031994\n",
       "80.0     0.031363\n",
       "99.0     0.029086\n",
       "92.0     0.024031\n",
       "91.0     0.019184\n",
       "87.0     0.015087\n",
       "89.0     0.012231\n",
       "88.0     0.010680\n",
       "85.0     0.006647\n",
       "84.0     0.004391\n",
       "86.0     0.004004\n",
       "60.0     0.003784\n",
       "83.0     0.003254\n",
       "70.0     0.002155\n",
       "73.0     0.001499\n",
       "82.0     0.001088\n",
       "20.0     0.000880\n",
       "40.0     0.000725\n",
       "67.0     0.000668\n",
       "75.0     0.000635\n",
       "81.0     0.000550\n",
       "77.0     0.000542\n",
       "78.0     0.000460\n",
       "76.0     0.000411\n",
       "71.0     0.000273\n",
       "79.0     0.000269\n",
       "74.0     0.000151\n",
       "50.0     0.000134\n",
       "65.0     0.000130\n",
       "72.0     0.000122\n",
       "68.0     0.000069\n",
       "53.0     0.000049\n",
       "64.0     0.000045\n",
       "66.0     0.000041\n",
       "69.0     0.000033\n",
       "30.0     0.000033\n",
       "48.0     0.000016\n",
       "55.0     0.000016\n",
       "63.0     0.000008\n",
       "Name: review_scores_rating, dtype: float64"
      ]
     },
     "execution_count": 89,
     "metadata": {},
     "output_type": "execute_result"
    }
   ],
   "source": [
    "df_1.review_scores_rating.value_counts(normalize=True)"
   ]
  },
  {
   "cell_type": "code",
   "execution_count": 90,
   "metadata": {},
   "outputs": [
    {
     "data": {
      "text/plain": [
       "<matplotlib.axes._subplots.AxesSubplot at 0x1ff0c01a5f8>"
      ]
     },
     "execution_count": 90,
     "metadata": {},
     "output_type": "execute_result"
    },
    {
     "data": {
      "image/png": "[encoded data removed]",
      "text/plain": [
       "<Figure size 432x288 with 1 Axes>"
      ]
     },
     "metadata": {
      "needs_background": "light"
     },
     "output_type": "display_data"
    }
   ],
   "source": [
    "sns.distplot(df_1.review_scores_rating)"
   ]
  },
  {
   "cell_type": "code",
   "execution_count": 91,
   "metadata": {},
   "outputs": [
    {
     "name": "stdout",
     "output_type": "stream",
     "text": [
      "10.0    0.638167\n",
      "0.0     0.174015\n",
      "9.0     0.153425\n",
      "8.0     0.025579\n",
      "7.0     0.003499\n",
      "6.0     0.003442\n",
      "2.0     0.000766\n",
      "4.0     0.000758\n",
      "5.0     0.000314\n",
      "3.0     0.000037\n",
      "Name: review_scores_accuracy, dtype: float64\n"
     ]
    },
    {
     "data": {
      "text/plain": [
       "<matplotlib.axes._subplots.AxesSubplot at 0x1ff0c0ebc18>"
      ]
     },
     "execution_count": 91,
     "metadata": {},
     "output_type": "execute_result"
    },
    {
     "data": {
      "image/png": "[encoded data removed]",
      "text/plain": [
       "<Figure size 432x288 with 1 Axes>"
      ]
     },
     "metadata": {
      "needs_background": "light"
     },
     "output_type": "display_data"
    }
   ],
   "source": [
    "# Trecem 0 pt nulls \n",
    "df_1.review_scores_accuracy.fillna(0.0, inplace=True)\n",
    "print(df_1.review_scores_accuracy.value_counts(normalize=True))\n",
    "sns.distplot(df_1.review_scores_accuracy)"
   ]
  },
  {
   "cell_type": "code",
   "execution_count": 92,
   "metadata": {},
   "outputs": [
    {
     "name": "stdout",
     "output_type": "stream",
     "text": [
      "10.0    0.483170\n",
      "9.0     0.237074\n",
      "0.0     0.173892\n",
      "8.0     0.075136\n",
      "7.0     0.014940\n",
      "6.0     0.010439\n",
      "4.0     0.002089\n",
      "5.0     0.001833\n",
      "2.0     0.001377\n",
      "3.0     0.000049\n",
      "Name: review_scores_cleanliness, dtype: float64\n"
     ]
    },
    {
     "data": {
      "text/plain": [
       "<matplotlib.axes._subplots.AxesSubplot at 0x1ff3b241ac8>"
      ]
     },
     "execution_count": 92,
     "metadata": {},
     "output_type": "execute_result"
    },
    {
     "data": {
      "image/png": "[encoded data removed]",
      "text/plain": [
       "<Figure size 432x288 with 1 Axes>"
      ]
     },
     "metadata": {
      "needs_background": "light"
     },
     "output_type": "display_data"
    }
   ],
   "source": [
    "# Trecem 0 pt nulls \n",
    "df_1.review_scores_cleanliness.fillna(0.0, inplace=True)\n",
    "print(df_1.review_scores_cleanliness.value_counts(normalize=True))\n",
    "sns.distplot(df_1.review_scores_cleanliness)"
   ]
  },
  {
   "cell_type": "code",
   "execution_count": 93,
   "metadata": {},
   "outputs": [
    {
     "name": "stdout",
     "output_type": "stream",
     "text": [
      "10.0    0.708762\n",
      "0.0     0.175065\n",
      "9.0     0.093669\n",
      "8.0     0.016687\n",
      "7.0     0.002195\n",
      "6.0     0.002179\n",
      "4.0     0.000676\n",
      "2.0     0.000619\n",
      "5.0     0.000130\n",
      "3.0     0.000016\n",
      "Name: review_scores_checkin, dtype: float64\n"
     ]
    },
    {
     "data": {
      "text/plain": [
       "<matplotlib.axes._subplots.AxesSubplot at 0x1ff04636cc0>"
      ]
     },
     "execution_count": 93,
     "metadata": {},
     "output_type": "execute_result"
    },
    {
     "data": {
      "image/png": "[encoded data removed]",
      "text/plain": [
       "<Figure size 432x288 with 1 Axes>"
      ]
     },
     "metadata": {
      "needs_background": "light"
     },
     "output_type": "display_data"
    }
   ],
   "source": [
    "# Trecem 0 pt nulls \n",
    "df_1.review_scores_checkin.fillna(0.0, inplace=True)\n",
    "print(df_1.review_scores_checkin.value_counts(normalize=True))\n",
    "sns.distplot(df_1.review_scores_checkin)"
   ]
  },
  {
   "cell_type": "code",
   "execution_count": 94,
   "metadata": {},
   "outputs": [
    {
     "name": "stdout",
     "output_type": "stream",
     "text": [
      "10.0    0.730121\n",
      "0.0     0.174230\n",
      "9.0     0.077344\n",
      "8.0     0.013054\n",
      "6.0     0.002199\n",
      "7.0     0.001784\n",
      "2.0     0.000587\n",
      "4.0     0.000472\n",
      "5.0     0.000204\n",
      "3.0     0.000004\n",
      "Name: review_scores_communication, dtype: float64\n"
     ]
    },
    {
     "data": {
      "text/plain": [
       "<matplotlib.axes._subplots.AxesSubplot at 0x1ff0461fc88>"
      ]
     },
     "execution_count": 94,
     "metadata": {},
     "output_type": "execute_result"
    },
    {
     "data": {
      "image/png": "[encoded data removed]",
      "text/plain": [
       "<Figure size 432x288 with 1 Axes>"
      ]
     },
     "metadata": {
      "needs_background": "light"
     },
     "output_type": "display_data"
    }
   ],
   "source": [
    "# Trecem 0 pt nulls \n",
    "df_1.review_scores_communication.fillna(0.0, inplace=True)\n",
    "print(df_1.review_scores_communication.value_counts(normalize=True))\n",
    "sns.distplot(df_1.review_scores_communication)"
   ]
  },
  {
   "cell_type": "code",
   "execution_count": 95,
   "metadata": {},
   "outputs": [
    {
     "name": "stdout",
     "output_type": "stream",
     "text": [
      "10.0    0.492921\n",
      "9.0     0.269557\n",
      "0.0     0.175188\n",
      "8.0     0.052298\n",
      "7.0     0.004786\n",
      "6.0     0.004338\n",
      "4.0     0.000472\n",
      "2.0     0.000261\n",
      "5.0     0.000151\n",
      "3.0     0.000029\n",
      "Name: review_scores_location, dtype: float64\n"
     ]
    },
    {
     "data": {
      "text/plain": [
       "<matplotlib.axes._subplots.AxesSubplot at 0x1ff09f59f60>"
      ]
     },
     "execution_count": 95,
     "metadata": {},
     "output_type": "execute_result"
    },
    {
     "data": {
      "image/png": "[encoded data removed]",
      "text/plain": [
       "<Figure size 432x288 with 1 Axes>"
      ]
     },
     "metadata": {
      "needs_background": "light"
     },
     "output_type": "display_data"
    }
   ],
   "source": [
    "# Trecem 0 pt nulls \n",
    "df_1.review_scores_location.fillna(0.0, inplace=True)\n",
    "print(df_1.review_scores_location.value_counts(normalize=True))\n",
    "sns.distplot(df_1.review_scores_location)"
   ]
  },
  {
   "cell_type": "code",
   "execution_count": 96,
   "metadata": {},
   "outputs": [
    {
     "name": "stdout",
     "output_type": "stream",
     "text": [
      "10.0    0.449942\n",
      "9.0     0.310658\n",
      "0.0     0.175363\n",
      "8.0     0.052355\n",
      "7.0     0.005588\n",
      "6.0     0.004391\n",
      "2.0     0.000656\n",
      "4.0     0.000607\n",
      "5.0     0.000383\n",
      "3.0     0.000057\n",
      "Name: review_scores_value, dtype: float64\n"
     ]
    },
    {
     "data": {
      "text/plain": [
       "<matplotlib.axes._subplots.AxesSubplot at 0x1ff09f4b320>"
      ]
     },
     "execution_count": 96,
     "metadata": {},
     "output_type": "execute_result"
    },
    {
     "data": {
      "image/png": "[encoded data removed]",
      "text/plain": [
       "<Figure size 432x288 with 1 Axes>"
      ]
     },
     "metadata": {
      "needs_background": "light"
     },
     "output_type": "display_data"
    }
   ],
   "source": [
    "# Trecem 0 pt nulls \n",
    "df_1.review_scores_value.fillna(0.0, inplace=True)\n",
    "print(df_1.review_scores_value.value_counts(normalize=True))\n",
    "sns.distplot(df_1.review_scores_value)"
   ]
  },
  {
   "cell_type": "markdown",
   "metadata": {},
   "source": [
    "### Instant bookable"
   ]
  },
  {
   "cell_type": "code",
   "execution_count": 97,
   "metadata": {},
   "outputs": [
    {
     "data": {
      "text/plain": [
       "f    0.746931\n",
       "t    0.253069\n",
       "Name: instant_bookable, dtype: float64"
      ]
     },
     "execution_count": 97,
     "metadata": {},
     "output_type": "execute_result"
    }
   ],
   "source": [
    "df_1.instant_bookable.value_counts(normalize=True)"
   ]
  },
  {
   "cell_type": "code",
   "execution_count": 98,
   "metadata": {},
   "outputs": [
    {
     "data": {
      "text/plain": [
       "<matplotlib.axes._subplots.AxesSubplot at 0x1ff0aa58208>"
      ]
     },
     "execution_count": 98,
     "metadata": {},
     "output_type": "execute_result"
    },
    {
     "data": {
      "image/png": "[encoded data removed]",
      "text/plain": [
       "<Figure size 432x288 with 1 Axes>"
      ]
     },
     "metadata": {
      "needs_background": "light"
     },
     "output_type": "display_data"
    }
   ],
   "source": [
    "sns.countplot(x='instant_bookable', data=df)"
   ]
  },
  {
   "cell_type": "markdown",
   "metadata": {},
   "source": [
    "### Is business travel ready?"
   ]
  },
  {
   "cell_type": "code",
   "execution_count": 99,
   "metadata": {},
   "outputs": [
    {
     "data": {
      "text/plain": [
       "f    1.0\n",
       "Name: is_business_travel_ready, dtype: float64"
      ]
     },
     "execution_count": 99,
     "metadata": {},
     "output_type": "execute_result"
    }
   ],
   "source": [
    "df_1.is_business_travel_ready.value_counts(normalize=True)"
   ]
  },
  {
   "cell_type": "markdown",
   "metadata": {},
   "source": [
    "### Cancellation policy"
   ]
  },
  {
   "cell_type": "code",
   "execution_count": 100,
   "metadata": {},
   "outputs": [
    {
     "name": "stdout",
     "output_type": "stream",
     "text": [
      "flexible                       0.438089\n",
      "moderate                       0.329904\n",
      "strict_14_with_grace_period    0.231987\n",
      "super_strict_30                0.000020\n",
      "Name: cancellation_policy, dtype: float64\n"
     ]
    },
    {
     "data": {
      "text/plain": [
       "<matplotlib.axes._subplots.AxesSubplot at 0x1ff0aab3908>"
      ]
     },
     "execution_count": 100,
     "metadata": {},
     "output_type": "execute_result"
    },
    {
     "data": {
      "image/png": "[encoded data removed]",
      "text/plain": [
       "<Figure size 432x288 with 1 Axes>"
      ]
     },
     "metadata": {
      "needs_background": "light"
     },
     "output_type": "display_data"
    }
   ],
   "source": [
    "print(df_1.cancellation_policy.value_counts(normalize=True))\n",
    "sns.countplot(x='cancellation_policy', data=df)"
   ]
  },
  {
   "cell_type": "code",
   "execution_count": 101,
   "metadata": {},
   "outputs": [],
   "source": [
    "dummy2 = pd.get_dummies(df_1['cancellation_policy'])\n",
    "df_1 = pd.concat([df_1,dummy2], axis=1)"
   ]
  },
  {
   "cell_type": "markdown",
   "metadata": {},
   "source": [
    "## Guest requirements"
   ]
  },
  {
   "cell_type": "markdown",
   "metadata": {},
   "source": [
    "### Requires guest profile picture?"
   ]
  },
  {
   "cell_type": "code",
   "execution_count": 102,
   "metadata": {},
   "outputs": [
    {
     "name": "stdout",
     "output_type": "stream",
     "text": [
      "f    0.993617\n",
      "t    0.006383\n",
      "Name: require_guest_profile_picture, dtype: float64\n"
     ]
    },
    {
     "data": {
      "text/plain": [
       "<matplotlib.axes._subplots.AxesSubplot at 0x1ff0aa985f8>"
      ]
     },
     "execution_count": 102,
     "metadata": {},
     "output_type": "execute_result"
    },
    {
     "data": {
      "image/png": "[encoded data removed]",
      "text/plain": [
       "<Figure size 432x288 with 1 Axes>"
      ]
     },
     "metadata": {
      "needs_background": "light"
     },
     "output_type": "display_data"
    }
   ],
   "source": [
    "print(df_1.require_guest_profile_picture.value_counts(normalize=True))\n",
    "sns.countplot(x='require_guest_profile_picture', data=df)"
   ]
  },
  {
   "cell_type": "markdown",
   "metadata": {},
   "source": [
    "### Requires guest phone verification?"
   ]
  },
  {
   "cell_type": "code",
   "execution_count": 103,
   "metadata": {},
   "outputs": [
    {
     "name": "stdout",
     "output_type": "stream",
     "text": [
      "f    0.991842\n",
      "t    0.008158\n",
      "Name: require_guest_phone_verification, dtype: float64\n"
     ]
    },
    {
     "data": {
      "text/plain": [
       "<matplotlib.axes._subplots.AxesSubplot at 0x1ff0ab3d550>"
      ]
     },
     "execution_count": 103,
     "metadata": {},
     "output_type": "execute_result"
    },
    {
     "data": {
      "image/png": "[encoded data removed]",
      "text/plain": [
       "<Figure size 432x288 with 1 Axes>"
      ]
     },
     "metadata": {
      "needs_background": "light"
     },
     "output_type": "display_data"
    }
   ],
   "source": [
    "print(df_1.require_guest_phone_verification.value_counts(normalize=True))\n",
    "sns.countplot(x='require_guest_phone_verification', data=df)"
   ]
  },
  {
   "cell_type": "markdown",
   "metadata": {},
   "source": [
    "## Feature engineering"
   ]
  },
  {
   "cell_type": "markdown",
   "metadata": {},
   "source": [
    "### How close is it to the center?"
   ]
  },
  {
   "cell_type": "code",
   "execution_count": 104,
   "metadata": {},
   "outputs": [],
   "source": [
    "def distance_to_center(lat, lon):\n",
    "    copenhagen_centre = (55.676098, 12.568337)\n",
    "    accommodation = (lat, lon)\n",
    "    return great_circle(copenhagen_centre, accommodation).km"
   ]
  },
  {
   "cell_type": "code",
   "execution_count": 105,
   "metadata": {},
   "outputs": [],
   "source": [
    "df_1['distance_to_center'] = df_1.apply(lambda x: distance_to_center(x.latitude, x.longitude), axis=1)"
   ]
  },
  {
   "cell_type": "code",
   "execution_count": 106,
   "metadata": {},
   "outputs": [
    {
     "data": {
      "text/plain": [
       "<matplotlib.axes._subplots.AxesSubplot at 0x1ff0abbe198>"
      ]
     },
     "execution_count": 106,
     "metadata": {},
     "output_type": "execute_result"
    },
    {
     "data": {
      "image/png": "[encoded data removed]",
      "text/plain": [
       "<Figure size 432x288 with 1 Axes>"
      ]
     },
     "metadata": {
      "needs_background": "light"
     },
     "output_type": "display_data"
    }
   ],
   "source": [
    "sns.distplot(df_1.distance_to_center)"
   ]
  },
  {
   "cell_type": "code",
   "execution_count": 107,
   "metadata": {},
   "outputs": [
    {
     "data": {
      "image/png": "[encoded data removed]",
      "text/plain": [
       "<Figure size 1152x144 with 1 Axes>"
      ]
     },
     "metadata": {
      "needs_background": "light"
     },
     "output_type": "display_data"
    }
   ],
   "source": [
    "df_1['distance_to_center'].plot(kind='box', xlim=(0, 20), vert=False, flierprops=red, figsize=(16,2));"
   ]
  },
  {
   "cell_type": "markdown",
   "metadata": {},
   "source": [
    "## Second feature selection"
   ]
  },
  {
   "cell_type": "code",
   "execution_count": 108,
   "metadata": {
    "scrolled": true
   },
   "outputs": [],
   "source": [
    "df_2 = df_1.drop(['weekly_price','monthly_price','reviews_per_month','square_feet',\n",
    "                  'amenities','zipcode','host_total_listings_count', 'host_acceptance_rate','square_feet',\n",
    "                 'host_location','host_neighbourhood',\n",
    "                 'calculated_host_listings_count','calculated_host_listings_count_entire_homes',\n",
    "                 'calculated_host_listings_count_private_rooms','calculated_host_listings_count_shared_rooms',\n",
    "                 'host_is_superhost','maximum_nights','host_verifications',\n",
    "                 'is_business_travel_ready', 'extra_people',\n",
    "                 'require_guest_profile_picture','require_guest_phone_verification',\n",
    "                 'latitude','longitude',\n",
    "                 'host_response_time','cancellation_policy'], axis=1)\n",
    "df_4 = df_1.drop([])"
   ]
  },
  {
   "cell_type": "code",
   "execution_count": 109,
   "metadata": {},
   "outputs": [
    {
     "data": {
      "text/plain": [
       "host_id                          0\n",
       "host_response_rate               0\n",
       "host_listings_count            104\n",
       "host_has_profile_pic             0\n",
       "host_identity_verified           0\n",
       "property_type                    0\n",
       "room_type                        0\n",
       "accommodates                     0\n",
       "bathrooms                        0\n",
       "bedrooms                         0\n",
       "beds                             0\n",
       "bed_type                         0\n",
       "price                            0\n",
       "security_deposit                 0\n",
       "cleaning_fee                     0\n",
       "guests_included                  0\n",
       "minimum_nights                   0\n",
       "number_of_reviews                0\n",
       "review_scores_rating             0\n",
       "review_scores_accuracy           0\n",
       "review_scores_cleanliness        0\n",
       "review_scores_checkin            0\n",
       "review_scores_communication      0\n",
       "review_scores_location           0\n",
       "review_scores_value              0\n",
       "instant_bookable                 0\n",
       "Jan                              0\n",
       "Feb                              0\n",
       "Mar                              0\n",
       "Apr                              0\n",
       "Jul                              0\n",
       "Aug                              0\n",
       "Sep                              0\n",
       "Oct                              0\n",
       "Nov                              0\n",
       "Dec                              0\n",
       "host_age                       104\n",
       "a few days or more               0\n",
       "no response                      0\n",
       "within a day                     0\n",
       "within a few hours               0\n",
       "within an hour                   0\n",
       "flexible                         0\n",
       "moderate                         0\n",
       "strict_14_with_grace_period      0\n",
       "super_strict_30                  0\n",
       "distance_to_center               0\n",
       "dtype: int64"
      ]
     },
     "execution_count": 109,
     "metadata": {},
     "output_type": "execute_result"
    }
   ],
   "source": [
    "df_2.isna().sum()"
   ]
  },
  {
   "cell_type": "code",
   "execution_count": 110,
   "metadata": {},
   "outputs": [
    {
     "data": {
      "text/html": [
       "<div>\n",
       "<style scoped>\n",
       "    .dataframe tbody tr th:only-of-type {\n",
       "        vertical-align: middle;\n",
       "    }\n",
       "\n",
       "    .dataframe tbody tr th {\n",
       "        vertical-align: top;\n",
       "    }\n",
       "\n",
       "    .dataframe thead th {\n",
       "        text-align: right;\n",
       "    }\n",
       "</style>\n",
       "<table border=\"1\" class=\"dataframe\">\n",
       "  <thead>\n",
       "    <tr style=\"text-align: right;\">\n",
       "      <th></th>\n",
       "      <th>host_id</th>\n",
       "      <th>host_response_rate</th>\n",
       "      <th>host_listings_count</th>\n",
       "      <th>host_has_profile_pic</th>\n",
       "      <th>host_identity_verified</th>\n",
       "      <th>property_type</th>\n",
       "      <th>room_type</th>\n",
       "      <th>accommodates</th>\n",
       "      <th>bathrooms</th>\n",
       "      <th>bedrooms</th>\n",
       "      <th>...</th>\n",
       "      <th>a few days or more</th>\n",
       "      <th>no response</th>\n",
       "      <th>within a day</th>\n",
       "      <th>within a few hours</th>\n",
       "      <th>within an hour</th>\n",
       "      <th>flexible</th>\n",
       "      <th>moderate</th>\n",
       "      <th>strict_14_with_grace_period</th>\n",
       "      <th>super_strict_30</th>\n",
       "      <th>distance_to_center</th>\n",
       "    </tr>\n",
       "    <tr>\n",
       "      <th>id</th>\n",
       "      <th></th>\n",
       "      <th></th>\n",
       "      <th></th>\n",
       "      <th></th>\n",
       "      <th></th>\n",
       "      <th></th>\n",
       "      <th></th>\n",
       "      <th></th>\n",
       "      <th></th>\n",
       "      <th></th>\n",
       "      <th></th>\n",
       "      <th></th>\n",
       "      <th></th>\n",
       "      <th></th>\n",
       "      <th></th>\n",
       "      <th></th>\n",
       "      <th></th>\n",
       "      <th></th>\n",
       "      <th></th>\n",
       "      <th></th>\n",
       "      <th></th>\n",
       "    </tr>\n",
       "  </thead>\n",
       "  <tbody>\n",
       "    <tr>\n",
       "      <th>6983</th>\n",
       "      <td>16774</td>\n",
       "      <td>0.0</td>\n",
       "      <td>1.0</td>\n",
       "      <td>t</td>\n",
       "      <td>f</td>\n",
       "      <td>Apartment</td>\n",
       "      <td>Private room</td>\n",
       "      <td>2</td>\n",
       "      <td>1.0</td>\n",
       "      <td>1.0</td>\n",
       "      <td>...</td>\n",
       "      <td>0</td>\n",
       "      <td>1</td>\n",
       "      <td>0</td>\n",
       "      <td>0</td>\n",
       "      <td>0</td>\n",
       "      <td>0</td>\n",
       "      <td>1</td>\n",
       "      <td>0</td>\n",
       "      <td>0</td>\n",
       "      <td>1.938488</td>\n",
       "    </tr>\n",
       "    <tr>\n",
       "      <th>29118</th>\n",
       "      <td>125230</td>\n",
       "      <td>1.0</td>\n",
       "      <td>1.0</td>\n",
       "      <td>t</td>\n",
       "      <td>f</td>\n",
       "      <td>Apartment</td>\n",
       "      <td>Entire home/apt</td>\n",
       "      <td>2</td>\n",
       "      <td>1.0</td>\n",
       "      <td>1.0</td>\n",
       "      <td>...</td>\n",
       "      <td>0</td>\n",
       "      <td>0</td>\n",
       "      <td>1</td>\n",
       "      <td>0</td>\n",
       "      <td>0</td>\n",
       "      <td>0</td>\n",
       "      <td>0</td>\n",
       "      <td>1</td>\n",
       "      <td>0</td>\n",
       "      <td>1.065984</td>\n",
       "    </tr>\n",
       "    <tr>\n",
       "      <th>29618</th>\n",
       "      <td>127577</td>\n",
       "      <td>0.0</td>\n",
       "      <td>1.0</td>\n",
       "      <td>t</td>\n",
       "      <td>t</td>\n",
       "      <td>Apartment</td>\n",
       "      <td>Entire home/apt</td>\n",
       "      <td>4</td>\n",
       "      <td>1.0</td>\n",
       "      <td>3.0</td>\n",
       "      <td>...</td>\n",
       "      <td>0</td>\n",
       "      <td>1</td>\n",
       "      <td>0</td>\n",
       "      <td>0</td>\n",
       "      <td>0</td>\n",
       "      <td>0</td>\n",
       "      <td>1</td>\n",
       "      <td>0</td>\n",
       "      <td>0</td>\n",
       "      <td>1.964055</td>\n",
       "    </tr>\n",
       "    <tr>\n",
       "      <th>31094</th>\n",
       "      <td>129976</td>\n",
       "      <td>0.0</td>\n",
       "      <td>1.0</td>\n",
       "      <td>t</td>\n",
       "      <td>f</td>\n",
       "      <td>Apartment</td>\n",
       "      <td>Entire home/apt</td>\n",
       "      <td>3</td>\n",
       "      <td>1.0</td>\n",
       "      <td>1.0</td>\n",
       "      <td>...</td>\n",
       "      <td>0</td>\n",
       "      <td>1</td>\n",
       "      <td>0</td>\n",
       "      <td>0</td>\n",
       "      <td>0</td>\n",
       "      <td>0</td>\n",
       "      <td>0</td>\n",
       "      <td>1</td>\n",
       "      <td>0</td>\n",
       "      <td>1.268696</td>\n",
       "    </tr>\n",
       "    <tr>\n",
       "      <th>32379</th>\n",
       "      <td>140105</td>\n",
       "      <td>1.0</td>\n",
       "      <td>4.0</td>\n",
       "      <td>t</td>\n",
       "      <td>f</td>\n",
       "      <td>Apartment</td>\n",
       "      <td>Entire home/apt</td>\n",
       "      <td>4</td>\n",
       "      <td>2.0</td>\n",
       "      <td>2.0</td>\n",
       "      <td>...</td>\n",
       "      <td>0</td>\n",
       "      <td>0</td>\n",
       "      <td>0</td>\n",
       "      <td>0</td>\n",
       "      <td>1</td>\n",
       "      <td>0</td>\n",
       "      <td>1</td>\n",
       "      <td>0</td>\n",
       "      <td>0</td>\n",
       "      <td>1.029972</td>\n",
       "    </tr>\n",
       "  </tbody>\n",
       "</table>\n",
       "<p>5 rows × 47 columns</p>\n",
       "</div>"
      ],
      "text/plain": [
       "       host_id  host_response_rate  host_listings_count host_has_profile_pic  \\\n",
       "id                                                                             \n",
       "6983     16774                 0.0                  1.0                    t   \n",
       "29118   125230                 1.0                  1.0                    t   \n",
       "29618   127577                 0.0                  1.0                    t   \n",
       "31094   129976                 0.0                  1.0                    t   \n",
       "32379   140105                 1.0                  4.0                    t   \n",
       "\n",
       "      host_identity_verified property_type        room_type  accommodates  \\\n",
       "id                                                                          \n",
       "6983                       f     Apartment     Private room             2   \n",
       "29118                      f     Apartment  Entire home/apt             2   \n",
       "29618                      t     Apartment  Entire home/apt             4   \n",
       "31094                      f     Apartment  Entire home/apt             3   \n",
       "32379                      f     Apartment  Entire home/apt             4   \n",
       "\n",
       "       bathrooms  bedrooms  ...  a few days or more no response  within a day  \\\n",
       "id                          ...                                                 \n",
       "6983         1.0       1.0  ...                   0           1             0   \n",
       "29118        1.0       1.0  ...                   0           0             1   \n",
       "29618        1.0       3.0  ...                   0           1             0   \n",
       "31094        1.0       1.0  ...                   0           1             0   \n",
       "32379        2.0       2.0  ...                   0           0             0   \n",
       "\n",
       "       within a few hours  within an hour  flexible  moderate  \\\n",
       "id                                                              \n",
       "6983                    0               0         0         1   \n",
       "29118                   0               0         0         0   \n",
       "29618                   0               0         0         1   \n",
       "31094                   0               0         0         0   \n",
       "32379                   0               1         0         1   \n",
       "\n",
       "       strict_14_with_grace_period  super_strict_30  distance_to_center  \n",
       "id                                                                       \n",
       "6983                             0                0            1.938488  \n",
       "29118                            1                0            1.065984  \n",
       "29618                            0                0            1.964055  \n",
       "31094                            1                0            1.268696  \n",
       "32379                            0                0            1.029972  \n",
       "\n",
       "[5 rows x 47 columns]"
      ]
     },
     "execution_count": 110,
     "metadata": {},
     "output_type": "execute_result"
    }
   ],
   "source": [
    "df_2.head()"
   ]
  },
  {
   "cell_type": "code",
   "execution_count": 111,
   "metadata": {},
   "outputs": [
    {
     "name": "stdout",
     "output_type": "stream",
     "text": [
      "<class 'pandas.core.frame.DataFrame'>\n",
      "Int64Index: 245514 entries, 6983 to 28633865\n",
      "Data columns (total 47 columns):\n",
      "host_id                        245514 non-null int64\n",
      "host_response_rate             245514 non-null float64\n",
      "host_listings_count            245410 non-null float64\n",
      "host_has_profile_pic           245514 non-null object\n",
      "host_identity_verified         245514 non-null object\n",
      "property_type                  245514 non-null object\n",
      "room_type                      245514 non-null object\n",
      "accommodates                   245514 non-null int64\n",
      "bathrooms                      245514 non-null float64\n",
      "bedrooms                       245514 non-null float64\n",
      "beds                           245514 non-null float64\n",
      "bed_type                       245514 non-null object\n",
      "price                          245514 non-null float64\n",
      "security_deposit               245514 non-null float64\n",
      "cleaning_fee                   245514 non-null float64\n",
      "guests_included                245514 non-null int64\n",
      "minimum_nights                 245514 non-null int64\n",
      "number_of_reviews              245514 non-null int64\n",
      "review_scores_rating           245514 non-null float64\n",
      "review_scores_accuracy         245514 non-null float64\n",
      "review_scores_cleanliness      245514 non-null float64\n",
      "review_scores_checkin          245514 non-null float64\n",
      "review_scores_communication    245514 non-null float64\n",
      "review_scores_location         245514 non-null float64\n",
      "review_scores_value            245514 non-null float64\n",
      "instant_bookable               245514 non-null object\n",
      "Jan                            245514 non-null uint8\n",
      "Feb                            245514 non-null uint8\n",
      "Mar                            245514 non-null uint8\n",
      "Apr                            245514 non-null uint8\n",
      "Jul                            245514 non-null uint8\n",
      "Aug                            245514 non-null uint8\n",
      "Sep                            245514 non-null uint8\n",
      "Oct                            245514 non-null uint8\n",
      "Nov                            245514 non-null uint8\n",
      "Dec                            245514 non-null uint8\n",
      "host_age                       245410 non-null float64\n",
      "a few days or more             245514 non-null uint8\n",
      "no response                    245514 non-null uint8\n",
      "within a day                   245514 non-null uint8\n",
      "within a few hours             245514 non-null uint8\n",
      "within an hour                 245514 non-null uint8\n",
      "flexible                       245514 non-null uint8\n",
      "moderate                       245514 non-null uint8\n",
      "strict_14_with_grace_period    245514 non-null uint8\n",
      "super_strict_30                245514 non-null uint8\n",
      "distance_to_center             245514 non-null float64\n",
      "dtypes: float64(17), int64(5), object(6), uint8(19)\n",
      "memory usage: 63.8+ MB\n"
     ]
    }
   ],
   "source": [
    "df_2.info()"
   ]
  },
  {
   "cell_type": "markdown",
   "metadata": {},
   "source": [
    "### Label encoding"
   ]
  },
  {
   "cell_type": "code",
   "execution_count": 112,
   "metadata": {},
   "outputs": [],
   "source": [
    "labelencoder = LabelEncoder()"
   ]
  },
  {
   "cell_type": "markdown",
   "metadata": {},
   "source": [
    "#### Binary"
   ]
  },
  {
   "cell_type": "code",
   "execution_count": 113,
   "metadata": {},
   "outputs": [],
   "source": [
    "#df_2.host_has_profile_pic = labelencoder.fit_transform(df_2.host_has_profile_pic)\n",
    "#df_2.host_identity_verified = labelencoder.fit_transform(df_2.host_identity_verified)\n",
    "df_2.instant_bookable = labelencoder.fit_transform(df_2.instant_bookable)"
   ]
  },
  {
   "cell_type": "markdown",
   "metadata": {},
   "source": [
    "#### Multiple label"
   ]
  },
  {
   "cell_type": "code",
   "execution_count": 114,
   "metadata": {},
   "outputs": [],
   "source": [
    "#df_2.host_response_time = labelencoder.fit_transform(df_2.host_response_time)\n",
    "df_2.property_type = labelencoder.fit_transform(df_2.property_type)\n",
    "df_2.room_type = labelencoder.fit_transform(df_2.room_type)\n",
    "df_2.bed_type = labelencoder.fit_transform(df_2.bed_type)\n",
    "#df_2.cancellation_policy = labelencoder.fit_transform(df_2.cancellation_policy)"
   ]
  },
  {
   "cell_type": "code",
   "execution_count": 115,
   "metadata": {},
   "outputs": [
    {
     "name": "stdout",
     "output_type": "stream",
     "text": [
      "<class 'pandas.core.frame.DataFrame'>\n",
      "Int64Index: 245514 entries, 6983 to 28633865\n",
      "Data columns (total 47 columns):\n",
      "host_id                        245514 non-null int64\n",
      "host_response_rate             245514 non-null float64\n",
      "host_listings_count            245410 non-null float64\n",
      "host_has_profile_pic           245514 non-null object\n",
      "host_identity_verified         245514 non-null object\n",
      "property_type                  245514 non-null int32\n",
      "room_type                      245514 non-null int32\n",
      "accommodates                   245514 non-null int64\n",
      "bathrooms                      245514 non-null float64\n",
      "bedrooms                       245514 non-null float64\n",
      "beds                           245514 non-null float64\n",
      "bed_type                       245514 non-null int32\n",
      "price                          245514 non-null float64\n",
      "security_deposit               245514 non-null float64\n",
      "cleaning_fee                   245514 non-null float64\n",
      "guests_included                245514 non-null int64\n",
      "minimum_nights                 245514 non-null int64\n",
      "number_of_reviews              245514 non-null int64\n",
      "review_scores_rating           245514 non-null float64\n",
      "review_scores_accuracy         245514 non-null float64\n",
      "review_scores_cleanliness      245514 non-null float64\n",
      "review_scores_checkin          245514 non-null float64\n",
      "review_scores_communication    245514 non-null float64\n",
      "review_scores_location         245514 non-null float64\n",
      "review_scores_value            245514 non-null float64\n",
      "instant_bookable               245514 non-null int32\n",
      "Jan                            245514 non-null uint8\n",
      "Feb                            245514 non-null uint8\n",
      "Mar                            245514 non-null uint8\n",
      "Apr                            245514 non-null uint8\n",
      "Jul                            245514 non-null uint8\n",
      "Aug                            245514 non-null uint8\n",
      "Sep                            245514 non-null uint8\n",
      "Oct                            245514 non-null uint8\n",
      "Nov                            245514 non-null uint8\n",
      "Dec                            245514 non-null uint8\n",
      "host_age                       245410 non-null float64\n",
      "a few days or more             245514 non-null uint8\n",
      "no response                    245514 non-null uint8\n",
      "within a day                   245514 non-null uint8\n",
      "within a few hours             245514 non-null uint8\n",
      "within an hour                 245514 non-null uint8\n",
      "flexible                       245514 non-null uint8\n",
      "moderate                       245514 non-null uint8\n",
      "strict_14_with_grace_period    245514 non-null uint8\n",
      "super_strict_30                245514 non-null uint8\n",
      "distance_to_center             245514 non-null float64\n",
      "dtypes: float64(17), int32(4), int64(5), object(2), uint8(19)\n",
      "memory usage: 60.0+ MB\n"
     ]
    }
   ],
   "source": [
    "df_2.info()"
   ]
  },
  {
   "cell_type": "markdown",
   "metadata": {},
   "source": [
    "### Third feature selection "
   ]
  },
  {
   "cell_type": "code",
   "execution_count": 116,
   "metadata": {},
   "outputs": [],
   "source": [
    "df_3 = df_2.drop(['host_id','host_response_rate','host_listings_count','host_has_profile_pic',\n",
    "                  'property_type','room_type','room_type', 'bed_type','minimum_nights',\n",
    "                 'review_scores_accuracy', 'review_scores_cleanliness', 'review_scores_checkin',\n",
    "                   'review_scores_communication', 'review_scores_location',\n",
    "                   'review_scores_value'], axis=1)"
   ]
  },
  {
   "cell_type": "code",
   "execution_count": 117,
   "metadata": {},
   "outputs": [],
   "source": [
    "df_3.rename(columns={'a few days or more': 'a_few_days', 'no response': 'no_response',\n",
    "                     'within a day':'within_a_day', 'within a few hours':'within_a_few_hours',\n",
    "                     'within an hour':'within_an_hour'}, inplace=True)"
   ]
  },
  {
   "cell_type": "code",
   "execution_count": 118,
   "metadata": {},
   "outputs": [
    {
     "data": {
      "text/plain": [
       "id\n",
       "6983        10.0\n",
       "29118        9.0\n",
       "29618        9.0\n",
       "31094        9.0\n",
       "32379        9.0\n",
       "32841        9.0\n",
       "37159        9.0\n",
       "41105        9.0\n",
       "45794        9.0\n",
       "49122        9.0\n",
       "53776        9.0\n",
       "55465        9.0\n",
       "60048        9.0\n",
       "61546        9.0\n",
       "65902        9.0\n",
       "69210        9.0\n",
       "70768        9.0\n",
       "75158        9.0\n",
       "78381        8.0\n",
       "96080        8.0\n",
       "104280       8.0\n",
       "104281       8.0\n",
       "112292       8.0\n",
       "117702       8.0\n",
       "118649       8.0\n",
       "118971       8.0\n",
       "119322       8.0\n",
       "130130       8.0\n",
       "131263       8.0\n",
       "135777       8.0\n",
       "            ... \n",
       "28580260     2.0\n",
       "28581772     1.0\n",
       "28582848     6.0\n",
       "28583518     1.0\n",
       "28593100     1.0\n",
       "28593366     3.0\n",
       "28594943     1.0\n",
       "28597438     3.0\n",
       "28599035     5.0\n",
       "28599822     1.0\n",
       "28606593     1.0\n",
       "28607022     1.0\n",
       "28607758     5.0\n",
       "28609630     5.0\n",
       "28618851     1.0\n",
       "28620677     5.0\n",
       "28621813     4.0\n",
       "28621895     1.0\n",
       "28624823     4.0\n",
       "28624874     8.0\n",
       "28625152     1.0\n",
       "28625446     2.0\n",
       "28625530     1.0\n",
       "28625685     1.0\n",
       "28627948     3.0\n",
       "28628167     3.0\n",
       "28628664     5.0\n",
       "28631747     6.0\n",
       "28633483     5.0\n",
       "28633865     3.0\n",
       "Name: host_age, Length: 245514, dtype: float64"
      ]
     },
     "execution_count": 118,
     "metadata": {},
     "output_type": "execute_result"
    }
   ],
   "source": [
    "df_3.host_age = df_3.host_age.astype(float)\n",
    "df_3.host_age"
   ]
  },
  {
   "cell_type": "code",
   "execution_count": 119,
   "metadata": {},
   "outputs": [
    {
     "data": {
      "text/plain": [
       "id\n",
       "6983        10.0\n",
       "29118        9.0\n",
       "29618        9.0\n",
       "31094        9.0\n",
       "32379        9.0\n",
       "32841        9.0\n",
       "37159        9.0\n",
       "41105        9.0\n",
       "45794        9.0\n",
       "49122        9.0\n",
       "53776        9.0\n",
       "55465        9.0\n",
       "60048        9.0\n",
       "61546        9.0\n",
       "65902        9.0\n",
       "69210        9.0\n",
       "70768        9.0\n",
       "75158        9.0\n",
       "78381        8.0\n",
       "96080        8.0\n",
       "104280       8.0\n",
       "104281       8.0\n",
       "112292       8.0\n",
       "117702       8.0\n",
       "118649       8.0\n",
       "118971       8.0\n",
       "119322       8.0\n",
       "130130       8.0\n",
       "131263       8.0\n",
       "135777       8.0\n",
       "            ... \n",
       "28580260     2.0\n",
       "28581772     1.0\n",
       "28582848     6.0\n",
       "28583518     1.0\n",
       "28593100     1.0\n",
       "28593366     3.0\n",
       "28594943     1.0\n",
       "28597438     3.0\n",
       "28599035     5.0\n",
       "28599822     1.0\n",
       "28606593     1.0\n",
       "28607022     1.0\n",
       "28607758     5.0\n",
       "28609630     5.0\n",
       "28618851     1.0\n",
       "28620677     5.0\n",
       "28621813     4.0\n",
       "28621895     1.0\n",
       "28624823     4.0\n",
       "28624874     8.0\n",
       "28625152     1.0\n",
       "28625446     2.0\n",
       "28625530     1.0\n",
       "28625685     1.0\n",
       "28627948     3.0\n",
       "28628167     3.0\n",
       "28628664     5.0\n",
       "28631747     6.0\n",
       "28633483     5.0\n",
       "28633865     3.0\n",
       "Name: host_age, Length: 245514, dtype: float64"
      ]
     },
     "execution_count": 119,
     "metadata": {},
     "output_type": "execute_result"
    }
   ],
   "source": [
    "df_3.host_age"
   ]
  },
  {
   "cell_type": "code",
   "execution_count": 120,
   "metadata": {},
   "outputs": [
    {
     "data": {
      "image/png": "[encoded data removed]",
      "text/plain": [
       "<Figure size 1152x864 with 2 Axes>"
      ]
     },
     "metadata": {
      "needs_background": "light"
     },
     "output_type": "display_data"
    }
   ],
   "source": [
    "#correlation map to see correlation between variables\n",
    "f,ax = plt.subplots(figsize=(16, 12))\n",
    "plt.title(\"Pearson's Correlation Matrix\", fontsize=20)\n",
    "sns.heatmap(df_3.corr(), annot=True, linewidths=.25, fmt= '.1f', ax=ax, vmax=1.0, cbar_kws={\"shrink\": .75}, cmap=\"RdYlGn\")\n",
    "f.tight_layout()"
   ]
  },
  {
   "cell_type": "code",
   "execution_count": 126,
   "metadata": {},
   "outputs": [],
   "source": [
    "df_3.drop(df_3[ (df_3.host_age.isna())].index, axis=0, inplace=True)"
   ]
  },
  {
   "cell_type": "code",
   "execution_count": 128,
   "metadata": {},
   "outputs": [],
   "source": [
    "df_3.to_csv('airbnb_copenhagen_year', encoding='utf-8')"
   ]
  },
  {
   "cell_type": "code",
   "execution_count": null,
   "metadata": {},
   "outputs": [],
   "source": []
  }
 ],
 "metadata": {
  "kernelspec": {
   "display_name": "Python 3",
   "language": "python",
   "name": "python3"
  },
  "language_info": {
   "codemirror_mode": {
    "name": "ipython",
    "version": 3
   },
   "file_extension": ".py",
   "mimetype": "text/x-python",
   "name": "python",
   "nbconvert_exporter": "python",
   "pygments_lexer": "ipython3",
   "version": "3.6.7"
  }
 },
 "nbformat": 4,
 "nbformat_minor": 2
}
