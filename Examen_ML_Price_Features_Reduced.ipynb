{
 "cells": [
  {
   "cell_type": "markdown",
   "metadata": {},
   "source": [
    "# Copenhagen Airbnb Data (March 25-April 24, 2019)\n",
    "\n",
    "## - Machine Learning - "
   ]
  },
  {
   "cell_type": "markdown",
   "metadata": {},
   "source": [
    "### Importing libraries"
   ]
  },
  {
   "cell_type": "code",
   "execution_count": 1,
   "metadata": {},
   "outputs": [],
   "source": [
    "import warnings\n",
    "import pandas as pd \n",
    "import numpy as np\n",
    "import matplotlib.pyplot as plt\n",
    "import seaborn as sns \n",
    "import os \n",
    "from sklearn.preprocessing import StandardScaler as scaler\n",
    "from sklearn.metrics import mean_squared_error, mean_absolute_error, r2_score\n",
    "import math\n",
    "sns.set()\n",
    "%matplotlib inline\n",
    "warnings.filterwarnings(\"ignore\")"
   ]
  },
  {
   "cell_type": "markdown",
   "metadata": {},
   "source": [
    "### Fetching data"
   ]
  },
  {
   "cell_type": "code",
   "execution_count": 2,
   "metadata": {},
   "outputs": [],
   "source": [
    "os.chdir(r\"C:\\Users\\aleen\\Desktop\\Data Science\\Data Mining, Machine Learning, Deep Learning\\Exam Project\\Data\\Detailed\\Listings\")"
   ]
  },
  {
   "cell_type": "code",
   "execution_count": 3,
   "metadata": {},
   "outputs": [],
   "source": [
    "df = pd.read_csv('airbnb_copenhagen_year')"
   ]
  },
  {
   "cell_type": "code",
   "execution_count": 4,
   "metadata": {},
   "outputs": [
    {
     "data": {
      "text/html": [
       "<div>\n",
       "<style scoped>\n",
       "    .dataframe tbody tr th:only-of-type {\n",
       "        vertical-align: middle;\n",
       "    }\n",
       "\n",
       "    .dataframe tbody tr th {\n",
       "        vertical-align: top;\n",
       "    }\n",
       "\n",
       "    .dataframe thead th {\n",
       "        text-align: right;\n",
       "    }\n",
       "</style>\n",
       "<table border=\"1\" class=\"dataframe\">\n",
       "  <thead>\n",
       "    <tr style=\"text-align: right;\">\n",
       "      <th></th>\n",
       "      <th>id</th>\n",
       "      <th>host_identity_verified</th>\n",
       "      <th>accommodates</th>\n",
       "      <th>bathrooms</th>\n",
       "      <th>bedrooms</th>\n",
       "      <th>beds</th>\n",
       "      <th>price</th>\n",
       "      <th>security_deposit</th>\n",
       "      <th>cleaning_fee</th>\n",
       "      <th>guests_included</th>\n",
       "      <th>...</th>\n",
       "      <th>a_few_days</th>\n",
       "      <th>no_response</th>\n",
       "      <th>within_a_day</th>\n",
       "      <th>within_a_few_hours</th>\n",
       "      <th>within_an_hour</th>\n",
       "      <th>flexible</th>\n",
       "      <th>moderate</th>\n",
       "      <th>strict_14_with_grace_period</th>\n",
       "      <th>super_strict_30</th>\n",
       "      <th>distance_to_center</th>\n",
       "    </tr>\n",
       "  </thead>\n",
       "  <tbody>\n",
       "    <tr>\n",
       "      <th>0</th>\n",
       "      <td>6983</td>\n",
       "      <td>f</td>\n",
       "      <td>2</td>\n",
       "      <td>1.0</td>\n",
       "      <td>1.0</td>\n",
       "      <td>1.0</td>\n",
       "      <td>366.0</td>\n",
       "      <td>0.0</td>\n",
       "      <td>33.0</td>\n",
       "      <td>1</td>\n",
       "      <td>...</td>\n",
       "      <td>0</td>\n",
       "      <td>1</td>\n",
       "      <td>0</td>\n",
       "      <td>0</td>\n",
       "      <td>0</td>\n",
       "      <td>0</td>\n",
       "      <td>1</td>\n",
       "      <td>0</td>\n",
       "      <td>0</td>\n",
       "      <td>1.938488</td>\n",
       "    </tr>\n",
       "    <tr>\n",
       "      <th>1</th>\n",
       "      <td>29118</td>\n",
       "      <td>f</td>\n",
       "      <td>2</td>\n",
       "      <td>1.0</td>\n",
       "      <td>1.0</td>\n",
       "      <td>1.0</td>\n",
       "      <td>798.0</td>\n",
       "      <td>0.0</td>\n",
       "      <td>300.0</td>\n",
       "      <td>1</td>\n",
       "      <td>...</td>\n",
       "      <td>0</td>\n",
       "      <td>0</td>\n",
       "      <td>1</td>\n",
       "      <td>0</td>\n",
       "      <td>0</td>\n",
       "      <td>0</td>\n",
       "      <td>0</td>\n",
       "      <td>1</td>\n",
       "      <td>0</td>\n",
       "      <td>1.065984</td>\n",
       "    </tr>\n",
       "    <tr>\n",
       "      <th>2</th>\n",
       "      <td>29618</td>\n",
       "      <td>t</td>\n",
       "      <td>4</td>\n",
       "      <td>1.0</td>\n",
       "      <td>3.0</td>\n",
       "      <td>3.0</td>\n",
       "      <td>857.0</td>\n",
       "      <td>0.0</td>\n",
       "      <td>75.0</td>\n",
       "      <td>1</td>\n",
       "      <td>...</td>\n",
       "      <td>0</td>\n",
       "      <td>1</td>\n",
       "      <td>0</td>\n",
       "      <td>0</td>\n",
       "      <td>0</td>\n",
       "      <td>0</td>\n",
       "      <td>1</td>\n",
       "      <td>0</td>\n",
       "      <td>0</td>\n",
       "      <td>1.964055</td>\n",
       "    </tr>\n",
       "    <tr>\n",
       "      <th>3</th>\n",
       "      <td>31094</td>\n",
       "      <td>f</td>\n",
       "      <td>3</td>\n",
       "      <td>1.0</td>\n",
       "      <td>1.0</td>\n",
       "      <td>3.0</td>\n",
       "      <td>751.0</td>\n",
       "      <td>1000.0</td>\n",
       "      <td>0.0</td>\n",
       "      <td>2</td>\n",
       "      <td>...</td>\n",
       "      <td>0</td>\n",
       "      <td>1</td>\n",
       "      <td>0</td>\n",
       "      <td>0</td>\n",
       "      <td>0</td>\n",
       "      <td>0</td>\n",
       "      <td>0</td>\n",
       "      <td>1</td>\n",
       "      <td>0</td>\n",
       "      <td>1.268696</td>\n",
       "    </tr>\n",
       "    <tr>\n",
       "      <th>4</th>\n",
       "      <td>32379</td>\n",
       "      <td>f</td>\n",
       "      <td>4</td>\n",
       "      <td>2.0</td>\n",
       "      <td>2.0</td>\n",
       "      <td>4.0</td>\n",
       "      <td>1083.0</td>\n",
       "      <td>1493.0</td>\n",
       "      <td>0.0</td>\n",
       "      <td>2</td>\n",
       "      <td>...</td>\n",
       "      <td>0</td>\n",
       "      <td>0</td>\n",
       "      <td>0</td>\n",
       "      <td>0</td>\n",
       "      <td>1</td>\n",
       "      <td>0</td>\n",
       "      <td>1</td>\n",
       "      <td>0</td>\n",
       "      <td>0</td>\n",
       "      <td>1.029972</td>\n",
       "    </tr>\n",
       "  </tbody>\n",
       "</table>\n",
       "<p>5 rows × 34 columns</p>\n",
       "</div>"
      ],
      "text/plain": [
       "      id host_identity_verified  accommodates  bathrooms  bedrooms  beds  \\\n",
       "0   6983                      f             2        1.0       1.0   1.0   \n",
       "1  29118                      f             2        1.0       1.0   1.0   \n",
       "2  29618                      t             4        1.0       3.0   3.0   \n",
       "3  31094                      f             3        1.0       1.0   3.0   \n",
       "4  32379                      f             4        2.0       2.0   4.0   \n",
       "\n",
       "    price  security_deposit  cleaning_fee  guests_included  ...  a_few_days  \\\n",
       "0   366.0               0.0          33.0                1  ...           0   \n",
       "1   798.0               0.0         300.0                1  ...           0   \n",
       "2   857.0               0.0          75.0                1  ...           0   \n",
       "3   751.0            1000.0           0.0                2  ...           0   \n",
       "4  1083.0            1493.0           0.0                2  ...           0   \n",
       "\n",
       "   no_response  within_a_day  within_a_few_hours  within_an_hour  flexible  \\\n",
       "0            1             0                   0               0         0   \n",
       "1            0             1                   0               0         0   \n",
       "2            1             0                   0               0         0   \n",
       "3            1             0                   0               0         0   \n",
       "4            0             0                   0               1         0   \n",
       "\n",
       "   moderate  strict_14_with_grace_period  super_strict_30  distance_to_center  \n",
       "0         1                            0                0            1.938488  \n",
       "1         0                            1                0            1.065984  \n",
       "2         1                            0                0            1.964055  \n",
       "3         0                            1                0            1.268696  \n",
       "4         1                            0                0            1.029972  \n",
       "\n",
       "[5 rows x 34 columns]"
      ]
     },
     "execution_count": 4,
     "metadata": {},
     "output_type": "execute_result"
    }
   ],
   "source": [
    "df.head()"
   ]
  },
  {
   "cell_type": "code",
   "execution_count": 5,
   "metadata": {},
   "outputs": [
    {
     "data": {
      "text/plain": [
       "Index(['id', 'host_identity_verified', 'accommodates', 'bathrooms', 'bedrooms',\n",
       "       'beds', 'price', 'security_deposit', 'cleaning_fee', 'guests_included',\n",
       "       'number_of_reviews', 'review_scores_rating', 'instant_bookable', 'Jan',\n",
       "       'Feb', 'Mar', 'Apr', 'Jul', 'Aug', 'Sep', 'Oct', 'Nov', 'Dec',\n",
       "       'host_age', 'a_few_days', 'no_response', 'within_a_day',\n",
       "       'within_a_few_hours', 'within_an_hour', 'flexible', 'moderate',\n",
       "       'strict_14_with_grace_period', 'super_strict_30', 'distance_to_center'],\n",
       "      dtype='object')"
      ]
     },
     "execution_count": 5,
     "metadata": {},
     "output_type": "execute_result"
    }
   ],
   "source": [
    "df.columns"
   ]
  },
  {
   "cell_type": "code",
   "execution_count": 6,
   "metadata": {},
   "outputs": [],
   "source": [
    "df = df.drop(['id'], axis=1)"
   ]
  },
  {
   "cell_type": "code",
   "execution_count": 7,
   "metadata": {},
   "outputs": [],
   "source": [
    "from sklearn.preprocessing import LabelEncoder\n",
    "labelencoder = LabelEncoder()\n",
    "df.host_identity_verified = labelencoder.fit_transform(df.host_identity_verified)"
   ]
  },
  {
   "cell_type": "markdown",
   "metadata": {},
   "source": [
    "## Regression\n",
    "### Predicting 1) Price and 2) Review Rating\n",
    "\n",
    "Decision Trees\n",
    "Linear Regression\n",
    "Neural Network\n",
    "Suport Vector Regression\n",
    "Regression Trees"
   ]
  },
  {
   "cell_type": "markdown",
   "metadata": {},
   "source": [
    "### Feature/Target split"
   ]
  },
  {
   "cell_type": "code",
   "execution_count": 8,
   "metadata": {},
   "outputs": [
    {
     "name": "stdout",
     "output_type": "stream",
     "text": [
      "(245288, 32)\n",
      "(245288,)\n"
     ]
    }
   ],
   "source": [
    "X = df.drop(['price'], axis=1)\n",
    "y = df.price\n",
    "print(X.shape)\n",
    "print(y.shape)"
   ]
  },
  {
   "cell_type": "markdown",
   "metadata": {},
   "source": [
    "## Further limiting features. Does it help?"
   ]
  },
  {
   "cell_type": "code",
   "execution_count": 9,
   "metadata": {},
   "outputs": [],
   "source": [
    "X = X.drop(['flexible','moderate','no_response','within_an_hour','within_a_day','within_a_few_hours',\n",
    "           'Jul','a_few_days','Apr','Jan','Nov','Feb','Mar','Aug','Dec','super_strict_30',\n",
    "           'Sep','Oct'], axis=1)"
   ]
  },
  {
   "cell_type": "markdown",
   "metadata": {},
   "source": [
    "### Train/Test split"
   ]
  },
  {
   "cell_type": "code",
   "execution_count": 10,
   "metadata": {},
   "outputs": [
    {
     "name": "stdout",
     "output_type": "stream",
     "text": [
      "Testing dataset length:  49058\n",
      "Training dataset length:  196230\n"
     ]
    }
   ],
   "source": [
    "from sklearn.model_selection import train_test_split\n",
    "# Splitting the dataset \n",
    "X_train, X_test, y_train, y_test = train_test_split(X, y, test_size = .2)\n",
    "print(\"Testing dataset length: \",len(X_test))\n",
    "print(\"Training dataset length: \",len(X_train))"
   ]
  },
  {
   "cell_type": "markdown",
   "metadata": {},
   "source": [
    "### Scaling the data"
   ]
  },
  {
   "cell_type": "code",
   "execution_count": 11,
   "metadata": {},
   "outputs": [],
   "source": [
    "from sklearn.preprocessing import StandardScaler \n",
    "scaler = StandardScaler()\n",
    "X_train = scaler.fit_transform(X_train)\n",
    "X_test = scaler.fit_transform(X_test)"
   ]
  },
  {
   "cell_type": "markdown",
   "metadata": {},
   "source": [
    "# Linear regression"
   ]
  },
  {
   "cell_type": "code",
   "execution_count": 12,
   "metadata": {},
   "outputs": [
    {
     "data": {
      "text/plain": [
       "LinearRegression(copy_X=True, fit_intercept=True, n_jobs=None,\n",
       "         normalize=False)"
      ]
     },
     "execution_count": 12,
     "metadata": {},
     "output_type": "execute_result"
    }
   ],
   "source": [
    "from sklearn.linear_model import LinearRegression \n",
    "\n",
    "lin_reg = LinearRegression(normalize=False)\n",
    "lin_reg.fit(X_train,y_train)"
   ]
  },
  {
   "cell_type": "code",
   "execution_count": 13,
   "metadata": {},
   "outputs": [
    {
     "data": {
      "text/plain": [
       "array([ -0.3209279 ,  96.15469899,  19.00486908,  64.32370526,\n",
       "        14.08220296,   5.14462338,  46.46053121,  11.6201508 ,\n",
       "        -0.50466864, -15.57936954,  -1.05889538,   1.43743207,\n",
       "         4.37213797, -95.17702145])"
      ]
     },
     "execution_count": 13,
     "metadata": {},
     "output_type": "execute_result"
    }
   ],
   "source": [
    "lin_reg.coef_"
   ]
  },
  {
   "cell_type": "code",
   "execution_count": 14,
   "metadata": {},
   "outputs": [
    {
     "data": {
      "text/plain": [
       "718.3441420781736"
      ]
     },
     "execution_count": 14,
     "metadata": {},
     "output_type": "execute_result"
    }
   ],
   "source": [
    "lin_reg.intercept_"
   ]
  },
  {
   "cell_type": "code",
   "execution_count": 15,
   "metadata": {},
   "outputs": [],
   "source": [
    "# Make predictions using the testing set\n",
    "y_pred = lin_reg.predict(X_test)"
   ]
  },
  {
   "cell_type": "code",
   "execution_count": 16,
   "metadata": {},
   "outputs": [
    {
     "name": "stdout",
     "output_type": "stream",
     "text": [
      "Mean squared error MSE: 60348.90\n",
      "Root Mean Squared Error RMSE: 245.66\n",
      "Mean absolute error MAE: 185.57\n",
      "Variance score R2: 0.43\n"
     ]
    }
   ],
   "source": [
    "# The mean squared error\n",
    "print(\"Mean squared error MSE: %.2f\"\n",
    "      % mean_squared_error(y_test, y_pred))\n",
    "# The root of the mean squared error\n",
    "print('Root Mean Squared Error RMSE: %.2f' % math.sqrt(mean_squared_error(y_test, y_pred)))\n",
    "# The mean absolute error\n",
    "print(\"Mean absolute error MAE: %.2f\"\n",
    "      % mean_absolute_error(y_test, y_pred))\n",
    "# Explained variance score: 1 is perfect prediction\n",
    "print('Variance score R2: %.2f' % r2_score(y_test, y_pred))"
   ]
  },
  {
   "cell_type": "code",
   "execution_count": 17,
   "metadata": {},
   "outputs": [],
   "source": [
    "# Applying Grid Search to find the best model and the best parameters\n",
    "from sklearn.model_selection import GridSearchCV\n",
    "parameters = {'fit_intercept':[True,False], 'normalize':[True,False], 'copy_X':[True, False]}\n",
    "grid = GridSearchCV(lin_reg, parameters)\n",
    "grid.fit(X_train, y_train)\n",
    "grid_search = grid.fit(X_train, y_train)\n",
    "best_metric = grid.best_score_\n",
    "best_parameters = grid.best_params_"
   ]
  },
  {
   "cell_type": "code",
   "execution_count": 18,
   "metadata": {},
   "outputs": [
    {
     "data": {
      "text/plain": [
       "LinearRegression(copy_X=True,\n",
       "         fit_intercept={'copy_X': True, 'fit_intercept': True, 'normalize': False},\n",
       "         n_jobs=None, normalize=False)"
      ]
     },
     "execution_count": 18,
     "metadata": {},
     "output_type": "execute_result"
    }
   ],
   "source": [
    "lin_reg1 = LinearRegression(best_parameters)\n",
    "lin_reg1.fit(X_train,y_train)"
   ]
  },
  {
   "cell_type": "markdown",
   "metadata": {},
   "source": [
    "# Decision tree"
   ]
  },
  {
   "cell_type": "code",
   "execution_count": 20,
   "metadata": {},
   "outputs": [
    {
     "data": {
      "text/plain": [
       "DecisionTreeRegressor(criterion='mse', max_depth=None, max_features=None,\n",
       "           max_leaf_nodes=None, min_impurity_decrease=0.0,\n",
       "           min_impurity_split=None, min_samples_leaf=1,\n",
       "           min_samples_split=2, min_weight_fraction_leaf=0.0,\n",
       "           presort=False, random_state=None, splitter='best')"
      ]
     },
     "execution_count": 20,
     "metadata": {},
     "output_type": "execute_result"
    }
   ],
   "source": [
    "from sklearn.tree import DecisionTreeRegressor\n",
    "dt_reg = DecisionTreeRegressor()\n",
    "dt_reg.fit(X_train, y_train)"
   ]
  },
  {
   "cell_type": "markdown",
   "metadata": {},
   "source": [
    "#### Feature importances"
   ]
  },
  {
   "cell_type": "code",
   "execution_count": 21,
   "metadata": {},
   "outputs": [],
   "source": [
    "features = list(X.columns)"
   ]
  },
  {
   "cell_type": "code",
   "execution_count": 22,
   "metadata": {},
   "outputs": [
    {
     "data": {
      "text/plain": [
       "[('distance_to_center', 0.2716371184379555),\n",
       " ('bedrooms', 0.2682859611350206),\n",
       " ('cleaning_fee', 0.08125075504076221),\n",
       " ('number_of_reviews', 0.06720101381687724),\n",
       " ('host_age', 0.060753388761765954),\n",
       " ('accommodates', 0.060319877810842304),\n",
       " ('review_scores_rating', 0.04093004001240368),\n",
       " ('beds', 0.03376465496045369),\n",
       " ('security_deposit', 0.03224563460062136),\n",
       " ('guests_included', 0.022783420604767356),\n",
       " ('bathrooms', 0.018116180076957724),\n",
       " ('host_identity_verified', 0.014990648679732469),\n",
       " ('instant_bookable', 0.014367331554658238),\n",
       " ('strict_14_with_grace_period', 0.013353974507181622)]"
      ]
     },
     "execution_count": 22,
     "metadata": {},
     "output_type": "execute_result"
    }
   ],
   "source": [
    "# get feature importances\n",
    "featureImportances = list(zip(features, dt_reg.feature_importances_))\n",
    "list(sorted(featureImportances, key = lambda x: x[1], reverse = True))"
   ]
  },
  {
   "cell_type": "code",
   "execution_count": 23,
   "metadata": {},
   "outputs": [
    {
     "data": {
      "text/plain": [
       "<matplotlib.axes._subplots.AxesSubplot at 0x15020d94c88>"
      ]
     },
     "execution_count": 23,
     "metadata": {},
     "output_type": "execute_result"
    },
    {
     "data": {
      "image/png": "[encoded data removed]",
      "text/plain": [
       "<Figure size 432x288 with 1 Axes>"
      ]
     },
     "metadata": {
      "needs_background": "light"
     },
     "output_type": "display_data"
    }
   ],
   "source": [
    "(pd.Series(dt_reg.feature_importances_, index=X.columns)\n",
    "   .plot(kind='barh'))  "
   ]
  },
  {
   "cell_type": "code",
   "execution_count": 24,
   "metadata": {},
   "outputs": [
    {
     "name": "stdout",
     "output_type": "stream",
     "text": [
      "Mean squared error MSE: 17338.48\n",
      "Root Mean Squared Error RMSE: 131.68\n",
      "Mean absolute error MAE: 40.60\n",
      "Variance score R2: 0.84\n"
     ]
    }
   ],
   "source": [
    "# Make predictions using the testing set\n",
    "y_pred = dt_reg.predict(X_test)\n",
    "# The mean squared error\n",
    "print(\"Mean squared error MSE: %.2f\"\n",
    "      % mean_squared_error(y_test, y_pred))\n",
    "# The root of the mean squared error\n",
    "print('Root Mean Squared Error RMSE: %.2f' % math.sqrt(mean_squared_error(y_test, y_pred)))\n",
    "# The mean absolute error\n",
    "print(\"Mean absolute error MAE: %.2f\"\n",
    "      % mean_absolute_error(y_test, y_pred))\n",
    "# Explained variance score: 1 is perfect prediction\n",
    "print('Variance score R2: %.2f' % r2_score(y_test, y_pred))"
   ]
  },
  {
   "cell_type": "markdown",
   "metadata": {},
   "source": [
    "## Random forest"
   ]
  },
  {
   "cell_type": "code",
   "execution_count": 27,
   "metadata": {},
   "outputs": [
    {
     "data": {
      "text/plain": [
       "RandomForestRegressor(bootstrap=True, criterion='mse', max_depth=12,\n",
       "           max_features='auto', max_leaf_nodes=None,\n",
       "           min_impurity_decrease=0.0, min_impurity_split=None,\n",
       "           min_samples_leaf=1, min_samples_split=2,\n",
       "           min_weight_fraction_leaf=0.0, n_estimators=100, n_jobs=None,\n",
       "           oob_score=False, random_state=1, verbose=0, warm_start=False)"
      ]
     },
     "execution_count": 27,
     "metadata": {},
     "output_type": "execute_result"
    }
   ],
   "source": [
    "from sklearn.ensemble import RandomForestRegressor\n",
    "\n",
    "# train the model\n",
    "rf_reg = RandomForestRegressor(max_depth = 12, n_estimators = 100, random_state = 1)\n",
    "rf_reg.fit(X_train, y_train)"
   ]
  },
  {
   "cell_type": "code",
   "execution_count": 29,
   "metadata": {},
   "outputs": [
    {
     "name": "stdout",
     "output_type": "stream",
     "text": [
      "Mean squared error MSE: 38921.84\n",
      "Root Mean Squared Error RMSE: 197.29\n",
      "Mean absolute error MAE: 148.01\n",
      "Variance score R2: 0.63\n"
     ]
    }
   ],
   "source": [
    "# Make predictions using the testing set\n",
    "y_pred = rf_reg.predict(X_test)\n",
    "\n",
    "# The mean squared error\n",
    "print(\"Mean squared error MSE: %.2f\"\n",
    "      % mean_squared_error(y_test, y_pred))\n",
    "# The root of the mean squared error\n",
    "print('Root Mean Squared Error RMSE: %.2f' % math.sqrt(mean_squared_error(y_test, y_pred)))\n",
    "# The mean absolute error\n",
    "print(\"Mean absolute error MAE: %.2f\"\n",
    "      % mean_absolute_error(y_test, y_pred))\n",
    "# Explained variance score: 1 is perfect prediction\n",
    "print('Variance score R2: %.2f' % r2_score(y_test, y_pred))"
   ]
  },
  {
   "cell_type": "code",
   "execution_count": 30,
   "metadata": {},
   "outputs": [
    {
     "data": {
      "text/plain": [
       "[('bedrooms', 0.4257771566688633),\n",
       " ('distance_to_center', 0.22831143010090474),\n",
       " ('accommodates', 0.08696474235367756),\n",
       " ('cleaning_fee', 0.08602144625212936),\n",
       " ('number_of_reviews', 0.03575272028001748),\n",
       " ('host_age', 0.02469515980914401),\n",
       " ('review_scores_rating', 0.023183815298741684),\n",
       " ('bathrooms', 0.020315792963300935),\n",
       " ('beds', 0.0199879169337907),\n",
       " ('security_deposit', 0.017917113381544753),\n",
       " ('guests_included', 0.015066359473505002),\n",
       " ('strict_14_with_grace_period', 0.00551153372330497),\n",
       " ('host_identity_verified', 0.005391254886636335),\n",
       " ('instant_bookable', 0.005103557874439043)]"
      ]
     },
     "execution_count": 30,
     "metadata": {},
     "output_type": "execute_result"
    }
   ],
   "source": [
    "# get feature importances\n",
    "featureImportances = list(zip(features, rf_reg.feature_importances_))\n",
    "list(sorted(featureImportances, key = lambda x: x[1], reverse = True))"
   ]
  },
  {
   "cell_type": "code",
   "execution_count": 31,
   "metadata": {},
   "outputs": [
    {
     "data": {
      "text/plain": [
       "<matplotlib.axes._subplots.AxesSubplot at 0x15026b48748>"
      ]
     },
     "execution_count": 31,
     "metadata": {},
     "output_type": "execute_result"
    },
    {
     "data": {
      "image/png": "[encoded data removed]",
      "text/plain": [
       "<Figure size 432x288 with 1 Axes>"
      ]
     },
     "metadata": {
      "needs_background": "light"
     },
     "output_type": "display_data"
    }
   ],
   "source": [
    "(pd.Series(dt_reg.feature_importances_, index=X.columns)\n",
    "   .plot(kind='barh'))  "
   ]
  },
  {
   "cell_type": "code",
   "execution_count": 32,
   "metadata": {},
   "outputs": [
    {
     "data": {
      "text/plain": [
       "RandomForestRegressor(bootstrap=True, criterion='mse', max_depth=9,\n",
       "           max_features='auto', max_leaf_nodes=None,\n",
       "           min_impurity_decrease=0.0, min_impurity_split=None,\n",
       "           min_samples_leaf=1, min_samples_split=2,\n",
       "           min_weight_fraction_leaf=0.0, n_estimators=150, n_jobs=None,\n",
       "           oob_score=False, random_state=0, verbose=0, warm_start=False)"
      ]
     },
     "execution_count": 32,
     "metadata": {},
     "output_type": "execute_result"
    }
   ],
   "source": [
    "# train the model\n",
    "rf_reg1 = RandomForestRegressor(bootstrap=True, max_depth = 9, n_estimators = 150, random_state = 0)\n",
    "rf_reg1.fit(X_train, y_train)"
   ]
  },
  {
   "cell_type": "code",
   "execution_count": 33,
   "metadata": {},
   "outputs": [
    {
     "name": "stdout",
     "output_type": "stream",
     "text": [
      "Mean squared error MSE: 38921.84\n",
      "Root Mean Squared Error RMSE: 197.29\n",
      "Mean absolute error MAE: 148.01\n",
      "Variance score R2: 0.63\n"
     ]
    }
   ],
   "source": [
    "y_predict = rf_reg1.predict(X_test)\n",
    "# The mean squared error\n",
    "print(\"Mean squared error MSE: %.2f\"\n",
    "      % mean_squared_error(y_test, y_pred))\n",
    "# The root of the mean squared error\n",
    "print('Root Mean Squared Error RMSE: %.2f' % math.sqrt(mean_squared_error(y_test, y_pred)))\n",
    "# The mean absolute error\n",
    "print(\"Mean absolute error MAE: %.2f\"\n",
    "      % mean_absolute_error(y_test, y_pred))\n",
    "# Explained variance score: 1 is perfect prediction\n",
    "print('Variance score R2: %.2f' % r2_score(y_test, y_pred))"
   ]
  }
 ],
 "metadata": {
  "kernelspec": {
   "display_name": "Python 3",
   "language": "python",
   "name": "python3"
  },
  "language_info": {
   "codemirror_mode": {
    "name": "ipython",
    "version": 3
   },
   "file_extension": ".py",
   "mimetype": "text/x-python",
   "name": "python",
   "nbconvert_exporter": "python",
   "pygments_lexer": "ipython3",
   "version": "3.6.7"
  }
 },
 "nbformat": 4,
 "nbformat_minor": 2
}
